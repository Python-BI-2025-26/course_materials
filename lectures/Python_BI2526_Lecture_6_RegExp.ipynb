{
 "cells": [
  {
   "cell_type": "markdown",
   "metadata": {},
   "source": [
    "##### Мораль\n",
    "\n",
    "- Регулярные выражения используют особый синтаксис\n",
    "\n",
    "- Регулярные выражения хороши для парсинга (имена файлов), валидации, модификации строк\n",
    "\n",
    "- Шаблон всегда записывается как сырая строка\n",
    "\n",
    "- **Не надо** учить значения всех мета-символов наизусть\n",
    "\n",
    "- **Надо** понимать и всегда тестировать регулярное выражение (на хороших тестах)\n",
    "\n",
    "- **Надо** понимать и всегда тестировать, что выводят функции и их методы (особенно при группировке и использовании мета-символов повтора)\n",
    "\n",
    "- Начал(а) писать регулярку - допиши! (завтра не получится)\n",
    "\n",
    "- **НЕ НАДО** парсить регулярками HTML"
   ]
  },
  {
   "cell_type": "markdown",
   "metadata": {},
   "source": [
    "### Сырые строки и экранирование"
   ]
  },
  {
   "attachments": {},
   "cell_type": "markdown",
   "metadata": {},
   "source": [
    "**Экранируемые символы и их функционал:**\n",
    "\n",
    "<details>\n",
    "<summary>Спойлер:</summary>\n",
    "\n",
    "| Символ   | Функция |\n",
    "|-----|------------------------------------------------------|\n",
    "| \\\\\\  | Сам символ обратного слеша (остается один символ \\) |\n",
    "| \\\\'  | Апостроф (остается один ‘)                          |\n",
    "| \\\\\"  | Кавычка (остается один символ \")                    |\n",
    "| \\n  | Новая строка (перевод строки)                       |\n",
    "| \\r  | Перенос каретки                                     |\n",
    "| \\t  | Горизонтальная табуляция                            |\n",
    "| \\u… | 16-битовый символ Юникода в 16-ричном представлении |\n",
    "| \\U… | 32-битовый символ Юникода в 32-ричном представлении |\n",
    "| \\x… | 16-ричное значение                                  |\n",
    "\n",
    "</details>\n"
   ]
  },
  {
   "cell_type": "code",
   "execution_count": 2,
   "metadata": {},
   "outputs": [
    {
     "name": "stdout",
     "output_type": "stream",
     "text": [
      "Hello,\n",
      "world\n"
     ]
    }
   ],
   "source": [
    "s = \"Hello,\\nworld\"\n",
    "print(s)"
   ]
  },
  {
   "cell_type": "code",
   "execution_count": 3,
   "metadata": {},
   "outputs": [
    {
     "name": "stdout",
     "output_type": "stream",
     "text": [
      "\\\n"
     ]
    }
   ],
   "source": [
    "print(\"\\\\\")"
   ]
  },
  {
   "cell_type": "code",
   "execution_count": 4,
   "metadata": {},
   "outputs": [
    {
     "name": "stdout",
     "output_type": "stream",
     "text": [
      "ჰ\n"
     ]
    }
   ],
   "source": [
    "print(\"\\u10F0\")"
   ]
  },
  {
   "cell_type": "code",
   "execution_count": 7,
   "metadata": {},
   "outputs": [
    {
     "name": "stdout",
     "output_type": "stream",
     "text": [
      "\\u10F0\n"
     ]
    }
   ],
   "source": [
    "print(r\"\\u10F0\")"
   ]
  },
  {
   "cell_type": "code",
   "execution_count": 5,
   "metadata": {},
   "outputs": [
    {
     "name": "stdout",
     "output_type": "stream",
     "text": [
      "ᄁ\n"
     ]
    }
   ],
   "source": [
    "print(\"\\U00001101\")"
   ]
  },
  {
   "cell_type": "markdown",
   "metadata": {},
   "source": [
    "#### Встроенная библиотека для работы с регулярными выражениями"
   ]
  },
  {
   "cell_type": "code",
   "execution_count": 8,
   "metadata": {},
   "outputs": [],
   "source": [
    "import re"
   ]
  },
  {
   "cell_type": "code",
   "execution_count": 9,
   "metadata": {},
   "outputs": [
    {
     "data": {
      "text/plain": [
       "<function re.match(pattern, string, flags=0)>"
      ]
     },
     "execution_count": 9,
     "metadata": {},
     "output_type": "execute_result"
    }
   ],
   "source": [
    "re.match"
   ]
  },
  {
   "cell_type": "code",
   "execution_count": 10,
   "metadata": {},
   "outputs": [
    {
     "data": {
      "text/plain": [
       "<function re.search(pattern, string, flags=0)>"
      ]
     },
     "execution_count": 10,
     "metadata": {},
     "output_type": "execute_result"
    }
   ],
   "source": [
    "re.search"
   ]
  },
  {
   "cell_type": "code",
   "execution_count": 11,
   "metadata": {},
   "outputs": [
    {
     "data": {
      "text/plain": [
       "<function re.findall(pattern, string, flags=0)>"
      ]
     },
     "execution_count": 11,
     "metadata": {},
     "output_type": "execute_result"
    }
   ],
   "source": [
    "re.findall"
   ]
  },
  {
   "cell_type": "code",
   "execution_count": 12,
   "metadata": {},
   "outputs": [
    {
     "data": {
      "text/plain": [
       "<function re.sub(pattern, repl, string, count=0, flags=0)>"
      ]
     },
     "execution_count": 12,
     "metadata": {},
     "output_type": "execute_result"
    }
   ],
   "source": [
    "re.sub"
   ]
  },
  {
   "attachments": {},
   "cell_type": "markdown",
   "metadata": {},
   "source": [
    "**Основные функции библиотеки re**:\n",
    "\n",
    "<details>\n",
    "<summary></summary>\n",
    "\n",
    "re.match(pattern, string) - подходит ли строка под шаблон (префикс)\n",
    "\n",
    "re.search(pattern, string) - поиск первой подстроки, подходящей под шаблон\n",
    "\n",
    "re.findall(pattern,  string) - поиск всех подстрок, подходящих под шаблон (непересекающихся)\n",
    "\n",
    "re.sub(pattern, replacement, string) - замена всех подстрок, подходящих под шаблон, чем-то еще\n",
    "\n",
    "</details>\n",
    "\n"
   ]
  },
  {
   "attachments": {},
   "cell_type": "markdown",
   "metadata": {},
   "source": [
    "re.match - поиск префиксов"
   ]
  },
  {
   "cell_type": "code",
   "execution_count": 17,
   "metadata": {},
   "outputs": [
    {
     "data": {
      "text/plain": [
       "<re.Match object; span=(0, 3), match='cat'>"
      ]
     },
     "execution_count": 17,
     "metadata": {},
     "output_type": "execute_result"
    }
   ],
   "source": [
    "pattern = r\"cat\"\n",
    "s = \"cat\"\n",
    "re.match(pattern, s)"
   ]
  },
  {
   "cell_type": "code",
   "execution_count": 18,
   "metadata": {},
   "outputs": [],
   "source": [
    "pattern = r\"cat\"\n",
    "s = \"education\"\n",
    "re.match(pattern, s)"
   ]
  },
  {
   "cell_type": "code",
   "execution_count": 19,
   "metadata": {},
   "outputs": [
    {
     "data": {
      "text/plain": [
       "<re.Match object; span=(0, 3), match='cat'>"
      ]
     },
     "execution_count": 19,
     "metadata": {},
     "output_type": "execute_result"
    }
   ],
   "source": [
    "pattern = r\"cat\"\n",
    "s = \"catastrophe\"\n",
    "re.match(pattern, s)"
   ]
  },
  {
   "cell_type": "code",
   "execution_count": null,
   "metadata": {},
   "outputs": [],
   "source": []
  },
  {
   "cell_type": "code",
   "execution_count": null,
   "metadata": {},
   "outputs": [],
   "source": []
  },
  {
   "attachments": {},
   "cell_type": "markdown",
   "metadata": {},
   "source": [
    "**Методы:**\n",
    "\n",
    "span() - удобно для слайсинга, кортеж из start и end\n",
    "\n",
    "start()\n",
    "\n",
    "end()\n",
    "\n",
    "group() - возвращает вхождение"
   ]
  },
  {
   "cell_type": "code",
   "execution_count": 21,
   "metadata": {},
   "outputs": [],
   "source": [
    "pattern = r\"cat\"\n",
    "s = \"catastrophe\"\n",
    "mtch_1 = re.match(pattern, s)"
   ]
  },
  {
   "cell_type": "code",
   "execution_count": 22,
   "metadata": {},
   "outputs": [
    {
     "data": {
      "text/plain": [
       "(0, 3)"
      ]
     },
     "execution_count": 22,
     "metadata": {},
     "output_type": "execute_result"
    }
   ],
   "source": [
    "mtch_1.span()"
   ]
  },
  {
   "cell_type": "code",
   "execution_count": 23,
   "metadata": {},
   "outputs": [
    {
     "data": {
      "text/plain": [
       "0"
      ]
     },
     "execution_count": 23,
     "metadata": {},
     "output_type": "execute_result"
    }
   ],
   "source": [
    "mtch_1.start()"
   ]
  },
  {
   "cell_type": "code",
   "execution_count": 24,
   "metadata": {},
   "outputs": [
    {
     "data": {
      "text/plain": [
       "3"
      ]
     },
     "execution_count": 24,
     "metadata": {},
     "output_type": "execute_result"
    }
   ],
   "source": [
    "mtch_1.end()"
   ]
  },
  {
   "cell_type": "code",
   "execution_count": 25,
   "metadata": {},
   "outputs": [
    {
     "data": {
      "text/plain": [
       "'cat'"
      ]
     },
     "execution_count": 25,
     "metadata": {},
     "output_type": "execute_result"
    }
   ],
   "source": [
    "mtch_1.group()"
   ]
  },
  {
   "cell_type": "markdown",
   "metadata": {},
   "source": [
    "re.search - поиск первого вхождения"
   ]
  },
  {
   "cell_type": "code",
   "execution_count": 27,
   "metadata": {},
   "outputs": [
    {
     "data": {
      "text/plain": [
       "<re.Match object; span=(3, 6), match='cat'>"
      ]
     },
     "execution_count": 27,
     "metadata": {},
     "output_type": "execute_result"
    }
   ],
   "source": [
    "pattern = r\"cat\"\n",
    "s = \"education\"\n",
    "re.search(pattern, s)"
   ]
  },
  {
   "cell_type": "markdown",
   "metadata": {},
   "source": [
    "(но только первого)"
   ]
  },
  {
   "cell_type": "code",
   "execution_count": 29,
   "metadata": {},
   "outputs": [
    {
     "data": {
      "text/plain": [
       "<re.Match object; span=(3, 6), match='cat'>"
      ]
     },
     "execution_count": 29,
     "metadata": {},
     "output_type": "execute_result"
    }
   ],
   "source": [
    "pattern = r\"cat\"\n",
    "s = \"education of scatterplot\"\n",
    "re.search(pattern, s)"
   ]
  },
  {
   "cell_type": "markdown",
   "metadata": {},
   "source": [
    "**Мета-символы**\n",
    "\n",
    "| - или (делит выражение на две части)\n",
    "\n",
    "[] - варианты возможных символов в конкретной позиции"
   ]
  },
  {
   "cell_type": "code",
   "execution_count": 32,
   "metadata": {},
   "outputs": [
    {
     "name": "stdout",
     "output_type": "stream",
     "text": [
      "<re.Match object; span=(0, 3), match='cat'>\n",
      "None\n",
      "<re.Match object; span=(2, 5), match='cat'>\n",
      "None\n"
     ]
    }
   ],
   "source": [
    "pattern = r\"cat\"\n",
    "s_lst = [\"cat\", \"cut\", \"vacation\", \"haircut\"]\n",
    "for string in s_lst:\n",
    "    print(re.search(pattern, string))"
   ]
  },
  {
   "cell_type": "code",
   "execution_count": 33,
   "metadata": {},
   "outputs": [
    {
     "name": "stdout",
     "output_type": "stream",
     "text": [
      "<re.Match object; span=(0, 3), match='cat'>\n",
      "<re.Match object; span=(0, 3), match='cut'>\n",
      "<re.Match object; span=(2, 5), match='cat'>\n",
      "<re.Match object; span=(4, 7), match='cut'>\n"
     ]
    }
   ],
   "source": [
    "pattern = r\"cat|cut\"\n",
    "s_lst = [\"cat\", \"cut\", \"vacation\", \"haircut\"]\n",
    "for string in s_lst:\n",
    "    print(re.search(pattern, string))"
   ]
  },
  {
   "cell_type": "code",
   "execution_count": 36,
   "metadata": {},
   "outputs": [
    {
     "name": "stdout",
     "output_type": "stream",
     "text": [
      "<re.Match object; span=(0, 3), match='cat'>\n",
      "<re.Match object; span=(0, 3), match='cut'>\n",
      "<re.Match object; span=(2, 5), match='cat'>\n",
      "<re.Match object; span=(4, 7), match='cut'>\n"
     ]
    }
   ],
   "source": [
    "pattern = r\"c[au]t\"\n",
    "s_lst = [\"cat\", \"cut\", \"vacation\", \"haircut\"]\n",
    "for string in s_lst:\n",
    "    print(re.search(pattern, string))"
   ]
  },
  {
   "cell_type": "code",
   "execution_count": 37,
   "metadata": {},
   "outputs": [
    {
     "name": "stdout",
     "output_type": "stream",
     "text": [
      "<re.Match object; span=(0, 3), match='cat'>\n",
      "<re.Match object; span=(0, 3), match='cut'>\n",
      "<re.Match object; span=(2, 5), match='cat'>\n",
      "<re.Match object; span=(4, 7), match='cut'>\n",
      "<re.Match object; span=(0, 3), match='ctt'>\n"
     ]
    }
   ],
   "source": [
    "pattern = r\"c[aut]t\"\n",
    "s_lst = [\"cat\", \"cut\", \"vacation\", \"haircut\", \"ctt\"]\n",
    "for string in s_lst:\n",
    "    print(re.search(pattern, string))"
   ]
  },
  {
   "cell_type": "code",
   "execution_count": 39,
   "metadata": {},
   "outputs": [
    {
     "name": "stdout",
     "output_type": "stream",
     "text": [
      "CPU times: user 234 μs, sys: 30 μs, total: 264 μs\n",
      "Wall time: 270 μs\n"
     ]
    }
   ],
   "source": [
    "%%time\n",
    "\n",
    "for t in range(1000):\n",
    "    \"vacation\".find(\"cat\")"
   ]
  },
  {
   "cell_type": "code",
   "execution_count": 40,
   "metadata": {},
   "outputs": [
    {
     "name": "stdout",
     "output_type": "stream",
     "text": [
      "CPU times: user 490 μs, sys: 64 μs, total: 554 μs\n",
      "Wall time: 558 μs\n"
     ]
    }
   ],
   "source": [
    "%%time\n",
    "\n",
    "for t in range(1000):\n",
    "    re.search(r\"cat\", \"vacation\")"
   ]
  },
  {
   "cell_type": "markdown",
   "metadata": {},
   "source": [
    "re.findall(pattern, string) - поиск всех вхождений\n",
    "\n",
    "re.sub(pattern, replacement, string) - замена всех вхождений"
   ]
  },
  {
   "cell_type": "code",
   "execution_count": 44,
   "metadata": {},
   "outputs": [
    {
     "data": {
      "text/plain": [
       "['cat', 'cut', 'cet', 'cit', 'Cut']"
      ]
     },
     "execution_count": 44,
     "metadata": {},
     "output_type": "execute_result"
    }
   ],
   "source": [
    "s = \"My cat is the best cut of all. My cet is black and my neighbors' cit is white. Cut goes meow\"\n",
    "pattern = r\"[Cc][auei]t\"\n",
    "re.findall(pattern, s)"
   ]
  },
  {
   "cell_type": "markdown",
   "metadata": {},
   "source": [
    "re.sub не перезаписывает, а только возвращает измененную строку"
   ]
  },
  {
   "cell_type": "code",
   "execution_count": 45,
   "metadata": {},
   "outputs": [
    {
     "data": {
      "text/plain": [
       "\"My cat is the best cat of all. My cat is black and my neighbors' cat is white. cat goes meow\""
      ]
     },
     "execution_count": 45,
     "metadata": {},
     "output_type": "execute_result"
    }
   ],
   "source": [
    "s = \"My cat is the best cut of all. My cet is black and my neighbors' cit is white. Cut goes meow\"\n",
    "pattern = r\"[Cc][auei]t\"\n",
    "re.sub(pattern, \"cat\", s)"
   ]
  },
  {
   "cell_type": "markdown",
   "metadata": {},
   "source": [
    "Альтернативный способ использования шаблонов - re.compile()"
   ]
  },
  {
   "cell_type": "code",
   "execution_count": 47,
   "metadata": {},
   "outputs": [],
   "source": [
    "pattern_2 = re.compile(r\"[Cc][auei]t\")"
   ]
  },
  {
   "cell_type": "code",
   "execution_count": 48,
   "metadata": {},
   "outputs": [
    {
     "data": {
      "text/plain": [
       "<re.Match object; span=(3, 6), match='cat'>"
      ]
     },
     "execution_count": 48,
     "metadata": {},
     "output_type": "execute_result"
    }
   ],
   "source": [
    "pattern_2.search(s)"
   ]
  },
  {
   "cell_type": "code",
   "execution_count": 49,
   "metadata": {},
   "outputs": [
    {
     "data": {
      "text/plain": [
       "['cat', 'cut', 'cet', 'cit', 'Cut']"
      ]
     },
     "execution_count": 49,
     "metadata": {},
     "output_type": "execute_result"
    }
   ],
   "source": [
    "pattern_2.findall(s)"
   ]
  },
  {
   "cell_type": "code",
   "execution_count": null,
   "metadata": {},
   "outputs": [],
   "source": []
  },
  {
   "cell_type": "code",
   "execution_count": null,
   "metadata": {},
   "outputs": [],
   "source": []
  },
  {
   "cell_type": "markdown",
   "metadata": {},
   "source": [
    "\n",
    "Удобно в случаях, если один шаблон используется много раз (при предыдущем типе записи компиляция происходит каждый раз при вызове функции, но на скорость заметно это влияет при сложных регулярках)"
   ]
  },
  {
   "cell_type": "code",
   "execution_count": 50,
   "metadata": {},
   "outputs": [
    {
     "name": "stdout",
     "output_type": "stream",
     "text": [
      "CPU times: user 1.09 ms, sys: 10 μs, total: 1.1 ms\n",
      "Wall time: 1.12 ms\n"
     ]
    }
   ],
   "source": [
    "%%time\n",
    "\n",
    "pattern = r\"Cat\"\n",
    "s = \"Cat goes meow\"\n",
    "\n",
    "for i in range(1000):\n",
    "    re.search(pattern, s)"
   ]
  },
  {
   "cell_type": "code",
   "execution_count": 51,
   "metadata": {},
   "outputs": [
    {
     "name": "stdout",
     "output_type": "stream",
     "text": [
      "CPU times: user 258 μs, sys: 0 ns, total: 258 μs\n",
      "Wall time: 262 μs\n"
     ]
    }
   ],
   "source": [
    "%%time\n",
    "\n",
    "cat = re.compile(r\"Cat\")\n",
    "s = \"Cat goes meow\"\n",
    "\n",
    "for i in range(1000):\n",
    "    cat.search(s)"
   ]
  },
  {
   "cell_type": "code",
   "execution_count": null,
   "metadata": {},
   "outputs": [],
   "source": []
  },
  {
   "cell_type": "markdown",
   "metadata": {},
   "source": [
    "**Мета-символы** - расширение функционала паттерна, НО для использования в качестве обычных символов требуют экранирования \\:\n",
    "\n",
    "? - символ\\группа не обязательно присутствуют\n",
    "\n",
    "[] - множество подходящих символов\n",
    "\n",
    "\"-\" - задает диапазон символов (a-z A-Z a-h 0-9)\n",
    "\n",
    "[a-zA-z] - все буквы алфавита\n",
    "\n",
    "^ - отрицание (если внутри [])\n",
    "\n",
    "\\d - [0-9] - любая цифра\n",
    "\n",
    "\\D - [^0-9] - что угодно, кроме цифры\n",
    "\n",
    "\\s - пробельный символ (любой, включая перенос строки)\n",
    "\n",
    "\\S - что угодно, кроме пробельного символа\n",
    "\n",
    "\\w - [a-zA-Z0-9_] - буквы, цифры, _\n",
    "\n",
    "\\W - [^a-zA-Z0-9_] - не буквы, цифры, _\n",
    "\n",
    ". - любой символ, кроме переноса строки"
   ]
  },
  {
   "cell_type": "code",
   "execution_count": 52,
   "metadata": {},
   "outputs": [
    {
     "data": {
      "text/plain": [
       "<re.Match object; span=(12, 16), match='cats'>"
      ]
     },
     "execution_count": 52,
     "metadata": {},
     "output_type": "execute_result"
    }
   ],
   "source": [
    "s = \"do you like cats?\"\n",
    "pattern = r\"cats?\"\n",
    "re.search(pattern, s)"
   ]
  },
  {
   "cell_type": "code",
   "execution_count": 54,
   "metadata": {},
   "outputs": [
    {
     "data": {
      "text/plain": [
       "<re.Match object; span=(12, 15), match='cat'>"
      ]
     },
     "execution_count": 54,
     "metadata": {},
     "output_type": "execute_result"
    }
   ],
   "source": [
    "s = \"do you like cat?\"\n",
    "pattern = r\"cats?\"\n",
    "re.search(pattern, s)"
   ]
  },
  {
   "cell_type": "code",
   "execution_count": 56,
   "metadata": {},
   "outputs": [
    {
     "data": {
      "text/plain": [
       "<re.Match object; span=(12, 15), match='cts'>"
      ]
     },
     "execution_count": 56,
     "metadata": {},
     "output_type": "execute_result"
    }
   ],
   "source": [
    "s = \"do you like cts?\"\n",
    "pattern = r\"ca?ts\"\n",
    "re.search(pattern, s)"
   ]
  },
  {
   "cell_type": "code",
   "execution_count": 57,
   "metadata": {},
   "outputs": [
    {
     "data": {
      "text/plain": [
       "<re.Match object; span=(12, 17), match='cats?'>"
      ]
     },
     "execution_count": 57,
     "metadata": {},
     "output_type": "execute_result"
    }
   ],
   "source": [
    "s = \"do you like cats?\"\n",
    "pattern = r\"cats\\?\"\n",
    "re.search(pattern, s)"
   ]
  },
  {
   "cell_type": "code",
   "execution_count": 59,
   "metadata": {},
   "outputs": [
    {
     "data": {
      "text/plain": [
       "'doyoulikecatsihaveororidontremember'"
      ]
     },
     "execution_count": 59,
     "metadata": {},
     "output_type": "execute_result"
    }
   ],
   "source": [
    "s = \"do you like cats? i have 2 or 3 or 5 i don't remember\"\n",
    "pattern = r\"[a-zA-Z]\"\n",
    "\"\".join(re.findall(pattern, s))"
   ]
  },
  {
   "cell_type": "code",
   "execution_count": 60,
   "metadata": {},
   "outputs": [
    {
     "data": {
      "text/plain": [
       "\"   ?   2  3  5  ' \""
      ]
     },
     "execution_count": 60,
     "metadata": {},
     "output_type": "execute_result"
    }
   ],
   "source": [
    "s = \"do you like cats? i have 2 or 3 or 5 i don't remember\"\n",
    "pattern = r\"[^a-zA-Z]\"\n",
    "\"\".join(re.findall(pattern, s))"
   ]
  },
  {
   "cell_type": "code",
   "execution_count": 62,
   "metadata": {},
   "outputs": [
    {
     "data": {
      "text/plain": [
       "['2', '3', '5']"
      ]
     },
     "execution_count": 62,
     "metadata": {},
     "output_type": "execute_result"
    }
   ],
   "source": [
    "s = \"do you like cats? i have 2 or 3 or 5 i don't remember\"\n",
    "pattern = r\"\\d\"\n",
    "re.findall(pattern, s)"
   ]
  },
  {
   "cell_type": "code",
   "execution_count": 64,
   "metadata": {},
   "outputs": [
    {
     "data": {
      "text/plain": [
       "\"do you like cats? i have  or  or  i don't remember\""
      ]
     },
     "execution_count": 64,
     "metadata": {},
     "output_type": "execute_result"
    }
   ],
   "source": [
    "s = \"do you like cats? i have 2 or 3 or 5 i don't remember\"\n",
    "pattern = r\"\\D\"\n",
    "\"\".join(re.findall(pattern, s))\n"
   ]
  },
  {
   "cell_type": "code",
   "execution_count": 67,
   "metadata": {},
   "outputs": [
    {
     "data": {
      "text/plain": [
       "'doyoulikecatsihave2or3or5idontremembe_____r'"
      ]
     },
     "execution_count": 67,
     "metadata": {},
     "output_type": "execute_result"
    }
   ],
   "source": [
    "s = \"do you like cats? i have 2 or 3 or 5 i don't remembe_____r\"\n",
    "pattern = r\"\\w\"\n",
    "\"\".join(re.findall(pattern, s))"
   ]
  },
  {
   "cell_type": "code",
   "execution_count": 69,
   "metadata": {},
   "outputs": [
    {
     "data": {
      "text/plain": [
       "[' ', ' ', ' ', '?', ' ', ' ', ' ', ' ', ' ', ' ', ' ', ' ', ' ', \"'\", ' ']"
      ]
     },
     "execution_count": 69,
     "metadata": {},
     "output_type": "execute_result"
    }
   ],
   "source": [
    "s = \"do you like cats? i have 2 or 3 or 5 i don't remember\"\n",
    "pattern = r\"\\W\"\n",
    "re.findall(pattern, s)"
   ]
  },
  {
   "cell_type": "code",
   "execution_count": 71,
   "metadata": {},
   "outputs": [
    {
     "data": {
      "text/plain": [
       "\"do you like cats?i have 2 or 3 or 5 i don't remember\""
      ]
     },
     "execution_count": 71,
     "metadata": {},
     "output_type": "execute_result"
    }
   ],
   "source": [
    "s = \"do you like cats?i have 2 or 3 or 5 i don't remember\"\n",
    "pattern = r\".\"\n",
    "\"\".join(re.findall(pattern, s))"
   ]
  },
  {
   "cell_type": "code",
   "execution_count": 72,
   "metadata": {},
   "outputs": [
    {
     "name": "stdout",
     "output_type": "stream",
     "text": [
      "do you like cats?\n",
      "i have 2 or 3 or 5 i don't remember\n"
     ]
    },
    {
     "data": {
      "text/plain": [
       "\"do you like cats?i have 2 or 3 or 5 i don't remember\""
      ]
     },
     "execution_count": 72,
     "metadata": {},
     "output_type": "execute_result"
    }
   ],
   "source": [
    "s = \"do you like cats?\\ni have 2 or 3 or 5 i don't remember\"\n",
    "print(s)\n",
    "pattern = r\".\"\n",
    "\"\".join(re.findall(pattern, s))"
   ]
  },
  {
   "cell_type": "code",
   "execution_count": null,
   "metadata": {},
   "outputs": [],
   "source": [
    "s = \"do you like cats?\\ni have 2 or 3 or 5 i don't remember\"\n",
    "print(s)\n",
    "pattern = r\"\"\n"
   ]
  },
  {
   "cell_type": "code",
   "execution_count": null,
   "metadata": {},
   "outputs": [],
   "source": [
    "# задача на перерыв ✨\n",
    "\n",
    "s = \"\"\"Есть те, чья тактичность помогает уладить любой спор, и рядом с ними становится спокойно. \n",
    "А бывают и такие, чья токсичность сразу чувствуется в разговоре — словно воздух тяжелеет. \n",
    "Иногда человек ведёт себя по-настоящему тактично, выбирая слова бережно, а иногда вдруг начинает говорить нетактично, \n",
    "и тогда его слова ранят сильнее, чем он сам предполагает.\n",
    "Кто-то может оказаться сверхтактичным, он так боится задеть других, что теряет решительность, \n",
    "и тут же рядом появляется почти ультратоксичный чловек, превращающий каждое обсуждение в поле боя. \n",
    "Бывают и полутактичные люди: сегодня проявляют внимание, а завтра вдруг скатываются в атактичность. \n",
    "Точно так же встречаются и малотоксичные — вроде бы неприятные, но с ними ещё можно мириться, \n",
    "и прямо-таки высокотоксичные — рядом с ними коллектив разрушается на глазах.\n",
    "Иногда кто-то старается вести себя тактичнее, учится на ошибках, а кто-то, наоборот, продолжает токсично \n",
    "реагировать на любую критику. И вот в этом смешении — тактичные жесты и токсичные слова, нетактичные поступки и редкая, \n",
    "но искренняя нетоксичность — и проявляется всё разнообразие человеческих характеров.\"\"\"\n",
    "pattern = r\"\"\n",
    "re.findall(pattern, s)"
   ]
  },
  {
   "cell_type": "code",
   "execution_count": null,
   "metadata": {},
   "outputs": [],
   "source": [
    "# задача на перерыв ✨\n",
    "\n",
    "s = \"\\s\\s....[]\\\\\"\n",
    "pattern = r\"\"\n"
   ]
  },
  {
   "cell_type": "code",
   "execution_count": null,
   "metadata": {},
   "outputs": [],
   "source": []
  },
  {
   "cell_type": "code",
   "execution_count": null,
   "metadata": {},
   "outputs": [],
   "source": []
  },
  {
   "cell_type": "code",
   "execution_count": null,
   "metadata": {},
   "outputs": [],
   "source": []
  },
  {
   "cell_type": "markdown",
   "metadata": {},
   "source": [
    "**Больше мета-символов**\n",
    "\n",
    "$ - конец строки\n",
    "\n",
    "^ - вне квадратных скобок (!!!!!!!) - начало строки\n",
    "\n",
    "\\b - граница слов (пустая строка)\n",
    "\n",
    "\\B - пустая строка но не на границе слов"
   ]
  },
  {
   "cell_type": "code",
   "execution_count": 73,
   "metadata": {},
   "outputs": [
    {
     "data": {
      "text/plain": [
       "['kitty', 'kitty']"
      ]
     },
     "execution_count": 73,
     "metadata": {},
     "output_type": "execute_result"
    }
   ],
   "source": [
    "s = \"kitty kitty\"\n",
    "pattern = r\"kitty\"\n",
    "re.findall(pattern, s)"
   ]
  },
  {
   "cell_type": "code",
   "execution_count": 74,
   "metadata": {},
   "outputs": [
    {
     "data": {
      "text/plain": [
       "['kitty']"
      ]
     },
     "execution_count": 74,
     "metadata": {},
     "output_type": "execute_result"
    }
   ],
   "source": [
    "s = \"kitty kitty\"\n",
    "pattern = r\"^kitty\"\n",
    "re.findall(pattern, s)"
   ]
  },
  {
   "cell_type": "code",
   "execution_count": 75,
   "metadata": {},
   "outputs": [
    {
     "data": {
      "text/plain": [
       "['kitty']"
      ]
     },
     "execution_count": 75,
     "metadata": {},
     "output_type": "execute_result"
    }
   ],
   "source": [
    "s = \"kitty\\nkitty\"\n",
    "pattern = r\"^kitty\"\n",
    "re.findall(pattern, s)"
   ]
  },
  {
   "cell_type": "code",
   "execution_count": 76,
   "metadata": {},
   "outputs": [
    {
     "data": {
      "text/plain": [
       "['kitty']"
      ]
     },
     "execution_count": 76,
     "metadata": {},
     "output_type": "execute_result"
    }
   ],
   "source": [
    "s = \"kitty kitty\"\n",
    "pattern = r\"kitty$\"\n",
    "re.findall(pattern, s)"
   ]
  },
  {
   "cell_type": "code",
   "execution_count": 77,
   "metadata": {},
   "outputs": [
    {
     "data": {
      "text/plain": [
       "<re.Match object; span=(6, 11), match='kitty'>"
      ]
     },
     "execution_count": 77,
     "metadata": {},
     "output_type": "execute_result"
    }
   ],
   "source": [
    "s = \"kitty kitty\"\n",
    "pattern = r\"kitty$\"\n",
    "re.search(pattern, s)"
   ]
  },
  {
   "cell_type": "code",
   "execution_count": 78,
   "metadata": {},
   "outputs": [
    {
     "data": {
      "text/plain": [
       "<re.Match object; span=(0, 34), match='kitty sjdghfsdgdsjbsdfgsfbsf kitty'>"
      ]
     },
     "execution_count": 78,
     "metadata": {},
     "output_type": "execute_result"
    }
   ],
   "source": [
    "s = \"kitty sjdghfsdgdsjbsdfgsfbsf kitty\"\n",
    "pattern = r\"^k.*y$\"\n",
    "re.search(pattern, s)"
   ]
  },
  {
   "cell_type": "code",
   "execution_count": 79,
   "metadata": {},
   "outputs": [],
   "source": [
    "s = \"kitty sjdghfsdgdsjbsdfgsfbsf kitty \"\n",
    "pattern = r\"^k.*y$\"\n",
    "re.search(pattern, s)"
   ]
  },
  {
   "cell_type": "code",
   "execution_count": 80,
   "metadata": {},
   "outputs": [
    {
     "data": {
      "text/plain": [
       "['', '', '', '', '', '']"
      ]
     },
     "execution_count": 80,
     "metadata": {},
     "output_type": "execute_result"
    }
   ],
   "source": [
    "s = \"kitty cat kitten\"\n",
    "pattern = r\"\\b\"\n",
    "re.findall(pattern, s)"
   ]
  },
  {
   "cell_type": "code",
   "execution_count": 81,
   "metadata": {},
   "outputs": [
    {
     "data": {
      "text/plain": [
       "['', '', '', '', '', '', '', '', '', '', '']"
      ]
     },
     "execution_count": 81,
     "metadata": {},
     "output_type": "execute_result"
    }
   ],
   "source": [
    "s = \"kitty cat kitten\"\n",
    "pattern = r\"\\B\"\n",
    "re.findall(pattern, s)"
   ]
  },
  {
   "cell_type": "code",
   "execution_count": 84,
   "metadata": {},
   "outputs": [
    {
     "data": {
      "text/plain": [
       "['cat']"
      ]
     },
     "execution_count": 84,
     "metadata": {},
     "output_type": "execute_result"
    }
   ],
   "source": [
    "s = \"caterpillar vacation tomcat cat\"\n",
    "pattern = r\"\\Bcat\\B\"\n",
    "re.findall(pattern, s)"
   ]
  },
  {
   "cell_type": "code",
   "execution_count": 85,
   "metadata": {},
   "outputs": [
    {
     "data": {
      "text/plain": [
       "['vacation']"
      ]
     },
     "execution_count": 85,
     "metadata": {},
     "output_type": "execute_result"
    }
   ],
   "source": [
    "s = \"caterpillar vacation tomcat cat\"\n",
    "pattern = r\"\\w*\\Bcat\\B\\w*\"\n",
    "re.findall(pattern, s)"
   ]
  },
  {
   "cell_type": "code",
   "execution_count": 86,
   "metadata": {},
   "outputs": [
    {
     "data": {
      "text/plain": [
       "['acati']"
      ]
     },
     "execution_count": 86,
     "metadata": {},
     "output_type": "execute_result"
    }
   ],
   "source": [
    "s = \"caterpillar vacation tomcat cat\"\n",
    "pattern = r\"\\w\\Bcat\\B\\w\"\n",
    "re.findall(pattern, s)"
   ]
  },
  {
   "cell_type": "code",
   "execution_count": 89,
   "metadata": {},
   "outputs": [
    {
     "data": {
      "text/plain": [
       "['cat', 'cat']"
      ]
     },
     "execution_count": 89,
     "metadata": {},
     "output_type": "execute_result"
    }
   ],
   "source": [
    "s = \"caterpillar vacation tomcat cat\"\n",
    "pattern = r\"cat\\B\"\n",
    "re.findall(pattern, s)"
   ]
  },
  {
   "cell_type": "markdown",
   "metadata": {},
   "source": [
    "**Число повторов символа** - используется после символа\n",
    "\n",
    "\\* - любое кол-во данного символа, включая 0 \n",
    "\n",
    "\\+ - любое кол-во данного символа, не включая 0\n",
    "\n",
    "? - 0 или 1 \n",
    "\n",
    "{} - в фигурные скобки заключается искомое кол-во повторов символа. \n",
    "\n",
    "b{5} == bbbbb \n",
    "\n",
    "b{1, 3} от 1 до 3 b (included borders)\n",
    "\n",
    "b{1,} от 1 до любого кол-ва b\n",
    "\n"
   ]
  },
  {
   "cell_type": "code",
   "execution_count": 92,
   "metadata": {},
   "outputs": [
    {
     "data": {
      "text/plain": [
       "<re.Match object; span=(0, 4), match='catt'>"
      ]
     },
     "execution_count": 92,
     "metadata": {},
     "output_type": "execute_result"
    }
   ],
   "source": [
    "s = \"cattttttttttt\"\n",
    "pattern = r\"cat{2}\" # r'catt'\n",
    "re.search(pattern, s)"
   ]
  },
  {
   "cell_type": "code",
   "execution_count": 94,
   "metadata": {},
   "outputs": [
    {
     "data": {
      "text/plain": [
       "<re.Match object; span=(0, 2), match='ca'>"
      ]
     },
     "execution_count": 94,
     "metadata": {},
     "output_type": "execute_result"
    }
   ],
   "source": [
    "s = \"ca ttttttttttt\"\n",
    "pattern = r\"cat?\" # r'catt'\n",
    "re.search(pattern, s)"
   ]
  },
  {
   "cell_type": "code",
   "execution_count": 96,
   "metadata": {},
   "outputs": [
    {
     "data": {
      "text/plain": [
       "<re.Match object; span=(0, 13), match='cattttttttttt'>"
      ]
     },
     "execution_count": 96,
     "metadata": {},
     "output_type": "execute_result"
    }
   ],
   "source": [
    "s = \"cattttttttttt\"\n",
    "pattern = r\"cat+\" \n",
    "re.search(pattern, s)"
   ]
  },
  {
   "cell_type": "markdown",
   "metadata": {},
   "source": [
    "**Жадный алгоритм поиска** - возвращается самое длинное подходящее вхождение паттерна в строку"
   ]
  },
  {
   "cell_type": "code",
   "execution_count": null,
   "metadata": {},
   "outputs": [],
   "source": [
    "pattern = r\"\"\n",
    "s = r\"catatat\"\n",
    "#s = \"cat\"\n"
   ]
  },
  {
   "cell_type": "code",
   "execution_count": 97,
   "metadata": {},
   "outputs": [
    {
     "data": {
      "text/plain": [
       "<re.Match object; span=(0, 3), match='cat'>"
      ]
     },
     "execution_count": 97,
     "metadata": {},
     "output_type": "execute_result"
    }
   ],
   "source": [
    "s = \"cattttttttttt\"\n",
    "pattern = r\"cat+?\"\n",
    "re.search(pattern, s)"
   ]
  },
  {
   "cell_type": "code",
   "execution_count": null,
   "metadata": {},
   "outputs": [],
   "source": []
  },
  {
   "cell_type": "code",
   "execution_count": null,
   "metadata": {},
   "outputs": [],
   "source": []
  },
  {
   "cell_type": "markdown",
   "metadata": {},
   "source": [
    "**Как сделать алгоритм поиска не жадным (ленивым)**, то есть чтобы вернулось самое короткое вхождение паттерна в строку?\n",
    "\n",
    "(поставить ? после мета-символа, отвечающего за количество)"
   ]
  },
  {
   "cell_type": "code",
   "execution_count": null,
   "metadata": {},
   "outputs": [],
   "source": [
    "pattern = r\"\"\n",
    "s = \"catatat\"\n",
    "re.search(pattern, s)"
   ]
  },
  {
   "cell_type": "code",
   "execution_count": null,
   "metadata": {},
   "outputs": [],
   "source": [
    "text = \"catdogcat\"\n",
    "pattern = r\"c.*t\"\n",
    "re.search(pattern, text)"
   ]
  },
  {
   "cell_type": "code",
   "execution_count": null,
   "metadata": {},
   "outputs": [],
   "source": [
    "text = \"catdogcat\"\n",
    "pattern = r\"c.*t\"\n",
    "re.search(pattern, text)"
   ]
  },
  {
   "cell_type": "code",
   "execution_count": null,
   "metadata": {},
   "outputs": [],
   "source": [
    "text = \"<tag>content</tag>\"\n",
    "pattern = r\"<.*>\"\n",
    "match = re.search(pattern, text)\n",
    "\n",
    "print(\"Greedy:\", match.group())"
   ]
  },
  {
   "cell_type": "code",
   "execution_count": null,
   "metadata": {},
   "outputs": [],
   "source": [
    "text = \"<tag>content</tag>\"\n",
    "pattern = r\"<.*?>\"\n",
    "match = re.search(pattern, text)\n",
    "\n",
    "print(\"Non-Greedy:\", match.group())"
   ]
  },
  {
   "attachments": {},
   "cell_type": "markdown",
   "metadata": {},
   "source": [
    "Использование мета-символов, определяющих жадность или ленивость поиска в выражениях с заданным числом повторов \n",
    "\n",
    "{}? \n",
    "\n",
    "{} "
   ]
  },
  {
   "cell_type": "code",
   "execution_count": null,
   "metadata": {},
   "outputs": [],
   "source": [
    "pattern = r\"\"\n",
    "s = \"roarrrrrrr\"\n",
    "re.match(pattern, s)"
   ]
  },
  {
   "cell_type": "code",
   "execution_count": null,
   "metadata": {},
   "outputs": [],
   "source": [
    "pattern = r\"\"\n",
    "s = \"roarrrrrrr\"\n",
    "re.match(pattern, s)"
   ]
  },
  {
   "cell_type": "code",
   "execution_count": null,
   "metadata": {},
   "outputs": [],
   "source": [
    "pattern = r\"a{3,5}aa\"\n",
    "s = \"aaaaaa\"\n",
    "len(re.match(pattern, s).group())"
   ]
  },
  {
   "cell_type": "markdown",
   "metadata": {},
   "source": [
    "**Группировка символов**\n",
    "\n",
    "Метасимвол () - выделяют группу, номера групп соответствуют порядку открывающих скобок\n",
    "\n",
    "Метасимвол | - или внутри группы"
   ]
  },
  {
   "cell_type": "code",
   "execution_count": null,
   "metadata": {},
   "outputs": [],
   "source": [
    "s = \"caterpillar cat catcat catcatcat\"\n",
    "pattern = r\"cat\"\n",
    "#pattern = r\"(cat)\"\n",
    "print(re.search(pattern, s))\n",
    "print(re.findall(pattern, s))"
   ]
  },
  {
   "cell_type": "code",
   "execution_count": null,
   "metadata": {},
   "outputs": [],
   "source": [
    "s = \"caterpillar cat catcat catcatcat\"\n",
    "pattern = r\"(cat){2}\"\n",
    "print(re.search(pattern, s))\n",
    "print(re.search(pattern, s).groups())\n",
    "print(re.findall(pattern, s))"
   ]
  },
  {
   "cell_type": "markdown",
   "metadata": {},
   "source": [
    "Без использования групп | делит выражение на две части"
   ]
  },
  {
   "cell_type": "code",
   "execution_count": null,
   "metadata": {},
   "outputs": [],
   "source": [
    "s = \"catkitty\"\n",
    "#s = \"kittycat\"\n",
    "pattern = r\"cat|kitty\"\n",
    "print(re.search(pattern, s))\n",
    "print(re.search(pattern, s).groups())\n",
    "print(re.findall(pattern, s))"
   ]
  },
  {
   "cell_type": "code",
   "execution_count": null,
   "metadata": {},
   "outputs": [],
   "source": [
    "s = \"cat cat kitty kitty\"\n",
    "s = \"cat cat kitty kitty cat kitty\"\n",
    "pattern = r\"((cat|kitty) (kitty))\"\n",
    "print(re.search(pattern, s))\n",
    "print(re.search(pattern, s).groups())\n",
    "print(re.findall(pattern, s))"
   ]
  },
  {
   "cell_type": "code",
   "execution_count": null,
   "metadata": {},
   "outputs": [],
   "source": [
    "s = \"Lana Del Rey\"\n",
    "pattern = r\"\"\n",
    "re.search(pattern, s)"
   ]
  },
  {
   "cell_type": "markdown",
   "metadata": {},
   "source": [
    "Внимательнее с * и пустыми строками!"
   ]
  },
  {
   "cell_type": "code",
   "execution_count": null,
   "metadata": {},
   "outputs": [],
   "source": [
    "s = \"GCGTATATATATGCGCGAT\"\n",
    "pattern = r\"(AT)*\"\n",
    "#pattern = r\"(AT)+\"\n",
    "#pattern = r\"T(AT)*\"\n",
    "print(re.search(pattern, s))\n",
    "print(re.search(pattern, s).groups())\n",
    "print(re.findall(pattern, s))"
   ]
  },
  {
   "cell_type": "markdown",
   "metadata": {},
   "source": [
    "Внимательнее с мета-символами повторения и тем, что возвращает функция search!\n",
    "\n",
    "search.groups() - запомнит последний подходящий элемент во вхождение"
   ]
  },
  {
   "cell_type": "code",
   "execution_count": null,
   "metadata": {},
   "outputs": [],
   "source": [
    "s = \"catkitty\"\n",
    "#s = \"kittycat\"\n",
    "pattern = r\"(cat|kitty)+\"\n",
    "print(re.search(pattern, s))\n",
    "print(re.search(pattern, s).group())\n",
    "print(re.search(pattern, s).groups())"
   ]
  },
  {
   "cell_type": "markdown",
   "metadata": {},
   "source": [
    "При группировке нужно тестировать и понимать, что возвращает каждая из функций.\n",
    "\n",
    "<details>\n",
    "<summary>Спойлер: </summary>\n",
    "\n",
    "re.search(pattern, string) - первое вхождение (все как мы любим)\n",
    "\n",
    "re.search(pattern, string).groups() - кортеж из того, в какие группы попало, а в какие не попало первое вхождение\n",
    "\n",
    "re.findall(pattern, string) - лист, соответствующий количеству вхождений, из кортежей длиной кол-ва групп\n",
    "\n",
    "</details>\n"
   ]
  },
  {
   "cell_type": "code",
   "execution_count": null,
   "metadata": {},
   "outputs": [],
   "source": [
    "s = \"catdog\"\n",
    "pattern = r\"(cat|(dog|fish))\"\n",
    "#pattern = r\"((dog|fish)|cat)\" \n",
    "#pattern = r\"((cat)|(dog|fish))\" \n",
    "print(re.search(pattern, s))\n",
    "print(re.search(pattern, s).groups()) #\n",
    "\n",
    "print(re.findall(pattern, s)) \n"
   ]
  },
  {
   "cell_type": "code",
   "execution_count": null,
   "metadata": {},
   "outputs": [],
   "source": [
    "s = \"catdog\"\n",
    "pattern = r\"((cat)|(dog|fish))\"\n",
    "print(re.search(pattern, s))\n",
    "print(re.search(pattern, s).groups()) \n",
    "print(re.findall(pattern, s)) "
   ]
  },
  {
   "cell_type": "code",
   "execution_count": null,
   "metadata": {},
   "outputs": [],
   "source": [
    "s = \"catdog\"\n",
    "pattern = r\"(cat|(cat|cat))\"\n",
    "\n",
    "print(re.search(pattern, s))\n",
    "print(re.search(pattern, s).groups()) \n",
    "print(re.findall(pattern, s))"
   ]
  },
  {
   "cell_type": "markdown",
   "metadata": {},
   "source": [
    "**Использование номеров групп**\n",
    "\n",
    "Группы нумеруются согласно очередности открывающих скобок"
   ]
  },
  {
   "cell_type": "code",
   "execution_count": 102,
   "metadata": {},
   "outputs": [
    {
     "name": "stdout",
     "output_type": "stream",
     "text": [
      "[('Cillian Murphy', 'Cillian', 'Murphy'), ('Emily Blunt', 'Emily', 'Blunt'), ('Matt Damon', 'Matt', 'Damon'), ('Robert Downey', 'Robert', 'Downey'), ('Florence Pugh', 'Florence', 'Pugh')]\n",
      "5\n"
     ]
    }
   ],
   "source": [
    "s = \"Cillian Murphy, Emily Blunt, Matt Damon, Robert Downey, Florence Pugh\"\n",
    "pattern = r\"(([a-zA-Z]+) *([a-zA-Z]+))\"\n",
    "\n",
    "print(re.findall(pattern, s))\n",
    "print(len(re.findall(pattern, s)))"
   ]
  },
  {
   "cell_type": "code",
   "execution_count": 107,
   "metadata": {},
   "outputs": [
    {
     "name": "stdout",
     "output_type": "stream",
     "text": [
      "Family name: Murphy Murphy Cillian Murphy, Family name: Blunt Blunt Emily Blunt, Family name: Damon Damon Matt Damon, Family name: Downey Downey Robert Downey, Family name: Pugh Pugh Florence Pugh\n"
     ]
    }
   ],
   "source": [
    "s = \"Cillian Murphy, Emily Blunt, Matt Damon, Robert Downey, Florence Pugh\"\n",
    "pattern = r\"(([a-zA-Z]+) *([a-zA-Z]+))\"\n",
    "\n",
    "print(re.sub(pattern, r\"Family name: \\3 \\3 \\1\", s))"
   ]
  },
  {
   "cell_type": "code",
   "execution_count": null,
   "metadata": {},
   "outputs": [],
   "source": [
    "s = \"Le bon-bon\"\n",
    "pattern = r\"\"\n",
    "print(re.search(pattern, s))"
   ]
  },
  {
   "cell_type": "code",
   "execution_count": null,
   "metadata": {},
   "outputs": [],
   "source": [
    "s = \"Le bon-bon\"\n",
    "pattern = r\"\"\n",
    "print(re.search(pattern, s))"
   ]
  },
  {
   "attachments": {},
   "cell_type": "markdown",
   "metadata": {},
   "source": [
    "**Для тех, кто хочет знать, насколько глубока кроличья нора**\n",
    "\n",
    "Флаги\n",
    "\n",
    "re.S re.DOTALL - чтобы . соответствовала в том числе переносу строки\n",
    "\n",
    "re.DEBUG - для вывода дополнительной информации\n",
    "\n",
    "re.X re.VERBOSE - для записи паттерна на нескольких строках\n",
    "\n",
    "re.I, re.IGNORECASE - игнорировать регистр"
   ]
  },
  {
   "cell_type": "code",
   "execution_count": null,
   "metadata": {},
   "outputs": [],
   "source": [
    "re.compile(\".*\").match(\"Allons enfants de la patrie,\\n le jour de gloire est arrivee!\").group()"
   ]
  },
  {
   "cell_type": "code",
   "execution_count": null,
   "metadata": {},
   "outputs": [],
   "source": [
    "re.compile(\".*\", flags=re.DOTALL).match(\"Allons enfants de la patrie,\\n le jour de gloire est arrivee!\").group()"
   ]
  },
  {
   "cell_type": "code",
   "execution_count": null,
   "metadata": {},
   "outputs": [],
   "source": [
    "pattern = r\"text\"\n",
    "s = \"TEXT\"\n",
    "re.match(pattern, s, re.IGNORECASE)"
   ]
  },
  {
   "cell_type": "code",
   "execution_count": null,
   "metadata": {},
   "outputs": [],
   "source": [
    "pattern = r\"text\"\n",
    "s = \"TEXT\"\n",
    "re.match(pattern, s, re.DEBUG) "
   ]
  },
  {
   "cell_type": "code",
   "execution_count": null,
   "metadata": {},
   "outputs": [],
   "source": [
    "pattern = r\"((\\w+)\\s)+(\\w+)\\?\"\n",
    "s = \"What if we repented?\"\n",
    "re.search(pattern, s)"
   ]
  },
  {
   "cell_type": "code",
   "execution_count": null,
   "metadata": {},
   "outputs": [],
   "source": [
    "pattern = r\"\"\"((\\w+)\\s)+\n",
    "              (\\w+)\\?\"\"\"\n",
    "s = \"What if we repented?\"\n",
    "re.search(pattern, s, re.X)"
   ]
  },
  {
   "cell_type": "markdown",
   "metadata": {},
   "source": [
    "А что если группа не нужна?\n",
    "\n",
    "?:  мета-символ (в начале группы) для её \"пропуска\""
   ]
  },
  {
   "cell_type": "code",
   "execution_count": null,
   "metadata": {},
   "outputs": [],
   "source": [
    "s = \"Margot Robbie, Ryan Gosling, America Ferrera\"\n",
    "\n",
    "pattern = r\"(\\w+) (?:\\w+)\"\n",
    "\n",
    "matches = re.findall(pattern, s)\n",
    "\n",
    "for match in matches:\n",
    "    print(f\"Last Name: {match}\")\n",
    "\n",
    "print(re.findall(pattern, s))\n",
    "\n",
    "re.sub(pattern, r\"Last Name: \\1\", s)\n"
   ]
  },
  {
   "cell_type": "markdown",
   "metadata": {},
   "source": [
    "re.match(pattern, string).groupdict() - вернет словарь с вхождениями каждой группы согласно названиям,\n",
    "\n",
    "НО необходимо задать внутри каждой группы в начале ее имя конструкций ?P\\<groupname\\>"
   ]
  },
  {
   "cell_type": "code",
   "execution_count": null,
   "metadata": {},
   "outputs": [],
   "source": [
    "s = \"12376 232 23823\"\n",
    "pattern = r\"(?P<first>\\d+) (?P<second>\\d+) (?P<third>\\d+)\"\n",
    "match = re.match(pattern, s)\n",
    "match.groupdict()"
   ]
  },
  {
   "cell_type": "markdown",
   "metadata": {},
   "source": [
    "fidnall с перекрывающимися подстроками - использовать ?="
   ]
  },
  {
   "cell_type": "code",
   "execution_count": null,
   "metadata": {},
   "outputs": [],
   "source": [
    "s = \"124781236\"\n",
    "pattern = r\"(?=(\\d{3}))\"\n",
    "print(re.findall(pattern, s))"
   ]
  },
  {
   "cell_type": "markdown",
   "metadata": {},
   "source": [
    "Регулярка для парсинга e-mail (просто посмотреть):\n",
    "\n",
    "(?:[a-z0-9!#$%&'*+/=?^_`{|}~-]+(?:\\.[a-z0-9!#$%&'*+/=?^_`{|}~-]+)*|\"(?:[\\x01-\\x08\\x0b\\x0c\\x0e-\\x1f\\x21\\x23-\\x5b\\x5d-\\x7f]|\\\\[\\x01-\\x09\\x0b\\x0c\\x0e-\\x7f])*\")@(?:(?:[a-z0-9](?:[a-z0-9-]*[a-z0-9])?\\.)+[a-z0-9](?:[a-z0-9-]*[a-z0-9])?|\\[(?:(?:25[0-5]|2[0-4][0-9]|[01]?[0-9][0-9]?)\\.){3}(?:25[0-5]|2[0-4][0-9]|[01]?[0-9][0-9]?|[a-z0-9-]*[a-z0-9]:(?:[\\x01-\\x08\\x0b\\x0c\\x0e-\\x1f\\x21-\\x5a\\x53-\\x7f]|\\\\[\\x01-\\x09\\x0b\\x0c\\x0e-\\x7f])+)\\])"
   ]
  },
  {
   "cell_type": "markdown",
   "metadata": {},
   "source": [
    "Ещё пара полезных ссылок:\n",
    "\n",
    "[туть песочница](https://regex101.com/)\n",
    "\n",
    "[моё любимое эссе на тему регэкспов](https://stackoverflow.com/questions/1732348/regex-match-open-tags-except-xhtml-self-contained-tags)\n"
   ]
  },
  {
   "cell_type": "code",
   "execution_count": null,
   "metadata": {},
   "outputs": [],
   "source": []
  }
 ],
 "metadata": {
  "kernelspec": {
   "display_name": "Kulakova env",
   "language": "python",
   "name": "kulakova_env"
  },
  "language_info": {
   "codemirror_mode": {
    "name": "ipython",
    "version": 3
   },
   "file_extension": ".py",
   "mimetype": "text/x-python",
   "name": "python",
   "nbconvert_exporter": "python",
   "pygments_lexer": "ipython3",
   "version": "3.11.7"
  },
  "orig_nbformat": 4
 },
 "nbformat": 4,
 "nbformat_minor": 2
}
