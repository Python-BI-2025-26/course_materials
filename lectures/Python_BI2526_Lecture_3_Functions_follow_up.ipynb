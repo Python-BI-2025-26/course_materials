{
 "cells": [
  {
   "cell_type": "markdown",
   "id": "af4ab24d-35cd-48c3-a6f3-34dc9b826a46",
   "metadata": {},
   "source": [
    "# Two afterwords about previous lectures"
   ]
  },
  {
   "cell_type": "markdown",
   "id": "261cc88f-1d22-4d74-8cf7-6bf5285c836c",
   "metadata": {},
   "source": [
    "## 1. Global and local variables"
   ]
  },
  {
   "cell_type": "code",
   "execution_count": 2,
   "id": "11524589-32de-44d4-914e-acf23b95ebc9",
   "metadata": {},
   "outputs": [],
   "source": [
    "def func(a, b):\n",
    "    return a + b**2"
   ]
  },
  {
   "cell_type": "code",
   "execution_count": 3,
   "id": "c1491df9-e0af-4733-b574-9781de098e2c",
   "metadata": {},
   "outputs": [
    {
     "data": {
      "text/plain": [
       "5"
      ]
     },
     "execution_count": 3,
     "metadata": {},
     "output_type": "execute_result"
    }
   ],
   "source": [
    "func(1,2)"
   ]
  },
  {
   "cell_type": "code",
   "execution_count": 4,
   "id": "40718f57-6ddb-4f69-af6e-7395ca51e492",
   "metadata": {},
   "outputs": [],
   "source": [
    "c = 3\n",
    "\n",
    "def func(a, b):\n",
    "    return a + b**2 + c**3"
   ]
  },
  {
   "cell_type": "code",
   "execution_count": 5,
   "id": "a3a4f955-bf0a-481a-ae03-7322821fc115",
   "metadata": {},
   "outputs": [
    {
     "data": {
      "text/plain": [
       "32"
      ]
     },
     "execution_count": 5,
     "metadata": {},
     "output_type": "execute_result"
    }
   ],
   "source": [
    "func(1,2)"
   ]
  },
  {
   "cell_type": "code",
   "execution_count": 9,
   "id": "a9bd9349-fa0f-4b78-a08e-1ad5bb049113",
   "metadata": {},
   "outputs": [],
   "source": [
    "def func(a, b):\n",
    "    d = 3\n",
    "    return a + b**2 + d**3"
   ]
  },
  {
   "cell_type": "code",
   "execution_count": 10,
   "id": "18bf98f7-fbb9-4e78-9c2a-497393c94f47",
   "metadata": {},
   "outputs": [
    {
     "data": {
      "text/plain": [
       "32"
      ]
     },
     "execution_count": 10,
     "metadata": {},
     "output_type": "execute_result"
    }
   ],
   "source": [
    "func(1,2)"
   ]
  },
  {
   "cell_type": "code",
   "execution_count": 11,
   "id": "682f0e8c-00a9-4997-820a-0534e73e5c42",
   "metadata": {},
   "outputs": [
    {
     "ename": "NameError",
     "evalue": "name 'd' is not defined",
     "output_type": "error",
     "traceback": [
      "\u001b[0;31m---------------------------------------------------------------------------\u001b[0m",
      "\u001b[0;31mNameError\u001b[0m                                 Traceback (most recent call last)",
      "Cell \u001b[0;32mIn[11], line 1\u001b[0m\n\u001b[0;32m----> 1\u001b[0m \u001b[38;5;28mprint\u001b[39m(\u001b[43md\u001b[49m)\n",
      "\u001b[0;31mNameError\u001b[0m: name 'd' is not defined"
     ]
    }
   ],
   "source": [
    "print(d)"
   ]
  },
  {
   "cell_type": "code",
   "execution_count": 19,
   "id": "64c219e9-7362-42a0-8bb9-7ea26dc8d9b1",
   "metadata": {},
   "outputs": [],
   "source": [
    "c = 3\n",
    "\n",
    "def func(a, b):\n",
    "    c = 4\n",
    "    return a + b + c"
   ]
  },
  {
   "cell_type": "code",
   "execution_count": 13,
   "id": "5d538b80-4666-4c47-af2b-41ad1105c051",
   "metadata": {},
   "outputs": [
    {
     "data": {
      "text/plain": [
       "7"
      ]
     },
     "execution_count": 13,
     "metadata": {},
     "output_type": "execute_result"
    }
   ],
   "source": [
    "func(1, 2)"
   ]
  },
  {
   "cell_type": "code",
   "execution_count": 14,
   "id": "f8ffa6ef-ae39-4219-b263-fa170b6f90fa",
   "metadata": {},
   "outputs": [
    {
     "name": "stdout",
     "output_type": "stream",
     "text": [
      "3\n"
     ]
    }
   ],
   "source": [
    "print(c)"
   ]
  },
  {
   "cell_type": "code",
   "execution_count": 25,
   "id": "309710bc-08fa-496e-8865-ba7f6300fb16",
   "metadata": {},
   "outputs": [],
   "source": [
    "c = 3\n",
    "c += 1\n",
    "\n",
    "def func(a, b):\n",
    "    a += 1\n",
    "    c += 1\n",
    "    return c"
   ]
  },
  {
   "cell_type": "code",
   "execution_count": 26,
   "id": "d729b410-65e7-4787-90b4-e780916bb11f",
   "metadata": {},
   "outputs": [
    {
     "ename": "UnboundLocalError",
     "evalue": "cannot access local variable 'c' where it is not associated with a value",
     "output_type": "error",
     "traceback": [
      "\u001b[0;31m---------------------------------------------------------------------------\u001b[0m",
      "\u001b[0;31mUnboundLocalError\u001b[0m                         Traceback (most recent call last)",
      "Cell \u001b[0;32mIn[26], line 1\u001b[0m\n\u001b[0;32m----> 1\u001b[0m \u001b[43mfunc\u001b[49m\u001b[43m(\u001b[49m\u001b[38;5;241;43m1\u001b[39;49m\u001b[43m,\u001b[49m\u001b[43m \u001b[49m\u001b[38;5;241;43m2\u001b[39;49m\u001b[43m)\u001b[49m\n",
      "Cell \u001b[0;32mIn[25], line 6\u001b[0m, in \u001b[0;36mfunc\u001b[0;34m(a, b)\u001b[0m\n\u001b[1;32m      4\u001b[0m \u001b[38;5;28;01mdef\u001b[39;00m \u001b[38;5;21mfunc\u001b[39m(a, b):\n\u001b[1;32m      5\u001b[0m     a \u001b[38;5;241m+\u001b[39m\u001b[38;5;241m=\u001b[39m \u001b[38;5;241m1\u001b[39m\n\u001b[0;32m----> 6\u001b[0m     \u001b[43mc\u001b[49m \u001b[38;5;241m+\u001b[39m\u001b[38;5;241m=\u001b[39m \u001b[38;5;241m1\u001b[39m\n\u001b[1;32m      7\u001b[0m     \u001b[38;5;28;01mreturn\u001b[39;00m c\n",
      "\u001b[0;31mUnboundLocalError\u001b[0m: cannot access local variable 'c' where it is not associated with a value"
     ]
    }
   ],
   "source": [
    "func(1, 2)"
   ]
  },
  {
   "cell_type": "code",
   "execution_count": 27,
   "id": "d5d859b3-0eb2-4ba5-8a0d-16ba3f3bc91f",
   "metadata": {},
   "outputs": [],
   "source": [
    "c = 3\n",
    "c += 1\n",
    "\n",
    "def func(a, b):\n",
    "    a += 1\n",
    "\n",
    "    global c\n",
    "    c += 1\n",
    "    return c"
   ]
  },
  {
   "cell_type": "code",
   "execution_count": 28,
   "id": "b18ea230-0f7a-4319-8e6a-9bd16e9f7e3e",
   "metadata": {},
   "outputs": [
    {
     "data": {
      "text/plain": [
       "5"
      ]
     },
     "execution_count": 28,
     "metadata": {},
     "output_type": "execute_result"
    }
   ],
   "source": [
    "func(1, 2)"
   ]
  },
  {
   "cell_type": "code",
   "execution_count": 29,
   "id": "29b24fc9-4f3a-4b1c-b45c-f28784c7d958",
   "metadata": {},
   "outputs": [
    {
     "name": "stdout",
     "output_type": "stream",
     "text": [
      "5\n"
     ]
    }
   ],
   "source": [
    "print(c)"
   ]
  },
  {
   "cell_type": "code",
   "execution_count": null,
   "id": "6ac5b4af-b48f-46a3-bf7c-5bb90c0fb253",
   "metadata": {},
   "outputs": [],
   "source": []
  },
  {
   "cell_type": "code",
   "execution_count": null,
   "id": "c7f7969b-4fa7-40f1-bb0b-ecce609256a2",
   "metadata": {},
   "outputs": [],
   "source": []
  },
  {
   "cell_type": "code",
   "execution_count": null,
   "id": "9bcf954e-977d-4a41-afab-5337d0b7ebfe",
   "metadata": {},
   "outputs": [],
   "source": []
  },
  {
   "cell_type": "code",
   "execution_count": null,
   "id": "dba31594-9521-4c27-aa32-7c302bcf825d",
   "metadata": {},
   "outputs": [],
   "source": []
  },
  {
   "cell_type": "markdown",
   "id": "ffba3057-30c6-4490-bbec-b2e77a703d42",
   "metadata": {},
   "source": [
    "## 2. PEP-8 and Naming conventions\n",
    "\n",
    "There two schemes of naming: ***snake_case*** and ***CamelCase***. Do not mix them!!\n",
    "\n",
    "In Python we use:\n",
    " - *snake_case* for variables and functions\n",
    " - *CamelCase* for Classes (next semester)\n",
    " \n",
    "So in the first semestr stick to the snake_case for everything you do!\n",
    " \n",
    "How should I create a name for something?\n",
    " \n",
    " ### Variables\n",
    "- **Variable: noun** (переменные называем именами существительными)\n",
    "    - **Collections: plural** (коллекции - множественным числом)\n",
    "    \n",
    "Example:\n",
    "```python\n",
    "student_id = 1\n",
    "sequence = 'ATG'\n",
    "\n",
    "student_ids = [1, 2, 3]\n",
    "sequences = ('A', 'ATCG', 'ATG')\n",
    "```\n",
    "\n",
    "**Do not** inculde data types in the name of the variable:\n",
    "```python\n",
    "sequence_str = 'ATG' # BAD\n",
    "sequence = 'ATG' # GOOD\n",
    "```"
   ]
  },
  {
   "cell_type": "code",
   "execution_count": null,
   "id": "8cfc52c0-58e5-4967-9b24-48db08437908",
   "metadata": {},
   "outputs": [],
   "source": []
  },
  {
   "cell_type": "code",
   "execution_count": null,
   "id": "1d6bed21-c527-4b6e-abeb-a6caf8aef30d",
   "metadata": {},
   "outputs": [],
   "source": []
  },
  {
   "cell_type": "code",
   "execution_count": null,
   "id": "19a0cfa2-5ddb-4adb-a96f-84e7923f86b2",
   "metadata": {},
   "outputs": [],
   "source": []
  },
  {
   "cell_type": "code",
   "execution_count": null,
   "id": "041ccf82-05fb-4628-ad55-62b408bb9dda",
   "metadata": {},
   "outputs": [],
   "source": []
  },
  {
   "cell_type": "code",
   "execution_count": null,
   "id": "d6cc9901-6ac9-499e-bd7d-bc98ffb3e65f",
   "metadata": {},
   "outputs": [],
   "source": []
  },
  {
   "cell_type": "code",
   "execution_count": null,
   "id": "0aecbbc8-95e7-428b-9cbc-0b00772500e4",
   "metadata": {},
   "outputs": [],
   "source": []
  },
  {
   "cell_type": "code",
   "execution_count": null,
   "id": "2aec6f50-4282-43f9-9fac-8bd81e793b16",
   "metadata": {},
   "outputs": [],
   "source": []
  },
  {
   "cell_type": "code",
   "execution_count": null,
   "id": "f7ce23ce-26bc-48e5-a15b-9a37aecf338c",
   "metadata": {},
   "outputs": [],
   "source": []
  },
  {
   "cell_type": "code",
   "execution_count": 30,
   "id": "460fdb26-44ed-4fa3-a81f-ba15be7e918d",
   "metadata": {},
   "outputs": [
    {
     "ename": "SyntaxError",
     "evalue": "invalid syntax (3238301447.py, line 2)",
     "output_type": "error",
     "traceback": [
      "\u001b[0;36m  Cell \u001b[0;32mIn[30], line 2\u001b[0;36m\u001b[0m\n\u001b[0;31m    ....\u001b[0m\n\u001b[0m        ^\u001b[0m\n\u001b[0;31mSyntaxError\u001b[0m\u001b[0;31m:\u001b[0m invalid syntax\n"
     ]
    }
   ],
   "source": [
    "def is_dna(seq):\n",
    "    ....\n",
    "    return True"
   ]
  },
  {
   "cell_type": "code",
   "execution_count": null,
   "id": "ba338182-0f7a-47aa-aedb-99f6353f4d6c",
   "metadata": {},
   "outputs": [],
   "source": [
    "is_dna(sequence) -> True"
   ]
  },
  {
   "cell_type": "markdown",
   "id": "653ac17d-eda7-451f-870b-c10718ccc622",
   "metadata": {},
   "source": [
    "### Functions\n",
    "- **Functions: verb** (функции называем глаголами)\n",
    "\n",
    "Example:\n",
    "```python\n",
    "def reverse(seq):\n",
    "    return seq[::-1]\n",
    "\n",
    "def update_database():\n",
    "    pass\n",
    "\n",
    "def plot_histogram():\n",
    "    pass\n",
    "\n",
    "def validate_args():\n",
    "    pass\n",
    "```\n",
    "\n",
    "- There some commonly used prefixes:\n",
    "    + `is_`: mean function returns `bool` (`is_dna`, `isdigit`)\n",
    "    + `get_`\n",
    "    + `fetch_`: same as get but means getting from internet\n",
    "    \n",
    "**Do not** include function arguments in the function name:\n",
    "```python\n",
    "# BAD\n",
    "def reverse_seq(seq):\n",
    "    pass\n",
    "\n",
    "def validate_args(args):\n",
    "    pass\n",
    "\n",
    "# GOOD\n",
    "def reverse(seq):\n",
    "    pass\n",
    "\n",
    "def validate(args):\n",
    "    pass\n",
    "# or\n",
    "def validate_args():\n",
    "    pass\n",
    "```"
   ]
  },
  {
   "cell_type": "code",
   "execution_count": null,
   "id": "b29b1912-3566-44b3-8966-17941e84b82d",
   "metadata": {},
   "outputs": [],
   "source": []
  }
 ],
 "metadata": {
  "kernelspec": {
   "display_name": "Python 3 (ipykernel)",
   "language": "python",
   "name": "python3"
  },
  "language_info": {
   "codemirror_mode": {
    "name": "ipython",
    "version": 3
   },
   "file_extension": ".py",
   "mimetype": "text/x-python",
   "name": "python",
   "nbconvert_exporter": "python",
   "pygments_lexer": "ipython3",
   "version": "3.11.10"
  }
 },
 "nbformat": 4,
 "nbformat_minor": 5
}
