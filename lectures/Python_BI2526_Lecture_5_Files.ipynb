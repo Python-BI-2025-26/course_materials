{
 "cells": [
  {
   "cell_type": "markdown",
   "id": "8d7cf656",
   "metadata": {},
   "source": [
    "# <center>  Python for biologists"
   ]
  },
  {
   "cell_type": "markdown",
   "id": "eaad065b",
   "metadata": {},
   "source": [
    "# Lecture 5, Files\n"
   ]
  },
  {
   "cell_type": "markdown",
   "id": "6a6150f9",
   "metadata": {},
   "source": [
    "---"
   ]
  },
  {
   "cell_type": "markdown",
   "id": "af4ab24d-35cd-48c3-a6f3-34dc9b826a46",
   "metadata": {},
   "source": [
    "# Two afterwords about previous lectures"
   ]
  },
  {
   "cell_type": "markdown",
   "id": "ffba3057-30c6-4490-bbec-b2e77a703d42",
   "metadata": {},
   "source": [
    "## 1. Naming conventions\n",
    "\n",
    "There two schemes of naming: ***snake_case*** and ***CamelCase***. Do not mix them!!\n",
    "\n",
    "In Python we use:\n",
    " - *snake_case* for variables and functions\n",
    " - *CamelCase* for Classes (next semester)\n",
    " \n",
    "So in the first semestr stick to the snake_case for everything you do!\n",
    " \n",
    "How should I create a name for something?\n",
    " \n",
    " ### Variables\n",
    "- **Variable: noun** (переменные называем именами существительными)\n",
    "    - **Collections: plural** (коллекции - множественным числом)\n",
    "    \n",
    "Example:\n",
    "```python\n",
    "student_id = 1\n",
    "sequence = 'ATG'\n",
    "\n",
    "student_ids = [1, 2, 3]\n",
    "sequences = ('A', 'ATCG', 'ATG')\n",
    "```\n",
    "\n",
    "**Do not** inculde data types in the name of the variable:\n",
    "```python\n",
    "sequence_str = 'ATG' # BAD\n",
    "sequence = 'ATG' # GOOD\n",
    "```"
   ]
  },
  {
   "cell_type": "code",
   "execution_count": 1,
   "id": "4d5df2a1",
   "metadata": {},
   "outputs": [],
   "source": []
  },
  {
   "cell_type": "code",
   "execution_count": 2,
   "id": "3062737c",
   "metadata": {},
   "outputs": [],
   "source": []
  },
  {
   "cell_type": "code",
   "execution_count": null,
   "id": "47627451",
   "metadata": {},
   "outputs": [],
   "source": []
  },
  {
   "cell_type": "code",
   "execution_count": null,
   "id": "c8dfdb63",
   "metadata": {},
   "outputs": [],
   "source": []
  },
  {
   "attachments": {},
   "cell_type": "markdown",
   "id": "653ac17d-eda7-451f-870b-c10718ccc622",
   "metadata": {},
   "source": [
    "### Functions\n",
    "- **Functions: verb** (функции называем глаголами)\n",
    "\n",
    "Example:\n",
    "```python\n",
    "def reverse(seq):\n",
    "    return seq[::-1]\n",
    "\n",
    "def update_database():\n",
    "    pass\n",
    "\n",
    "def plot_histogram():\n",
    "    pass\n",
    "\n",
    "def validate_args():\n",
    "    pass\n",
    "\n",
    "def filter_fastq():\n",
    "    pass\n",
    "```\n",
    "\n",
    "- There some commonly used prefixes:\n",
    "    + `is_`: mean function returns `bool` (`is_dna`, `isdigit`)\n",
    "    + `get_`\n",
    "    + `fetch_`: same as get but means getting from internet\n",
    "    \n",
    "**Do not** include function arguments in the function name:\n",
    "```python\n",
    "# BAD\n",
    "def reverse_seq(seq):\n",
    "    pass\n",
    "\n",
    "def validate_args(args):\n",
    "    pass\n",
    "\n",
    "# GOOD\n",
    "def reverse(seq):\n",
    "    pass\n",
    "\n",
    "def validate(args):\n",
    "    pass\n",
    "# or\n",
    "def validate_args():\n",
    "    pass\n",
    "```"
   ]
  },
  {
   "attachments": {},
   "cell_type": "markdown",
   "id": "49fc657a-fb12-4886-9064-feeac80b76c0",
   "metadata": {},
   "source": [
    "## 2. Standard library modules\n",
    "\n",
    "Here are most used modules in the python standart library:\n",
    "\n",
    "- sys \\*\\*\n",
    "- os \\*\\*\\*\n",
    "- re \\*\\*\n",
    "- os.path \\*\\*\\*, glob, pathlib\n",
    "- argparse \\*\n",
    "- venv \\*\n",
    "- datetime \\*\n",
    "- itertools, functools \\*\n",
    "- multiprocessing, threading \\*\n",
    "- collections\n",
    "- copy\n",
    "- pprint\n",
    "- typing\n",
    "- gc\n",
    "\n",
    "**sys**:\n",
    "- exit\n",
    "- getsizeof\n",
    "- path\n",
    "- stdin, stdout, stderr \\*\\*\\*\n",
    "\n",
    "**os**:\n",
    "- chdir, getcwd\n",
    "- mkdir\n",
    "- chmod, chown\n",
    "- listdir \\*\\*\n",
    "- rename\n",
    "- cpu_count\n",
    "\n",
    "**os.path**:\n",
    "- basename\n",
    "- exist\n",
    "- isfile, isfile \\*\n",
    "- join \\*\\*\\*\n",
    "s\n",
    "- isfile, isfile *\n",
    "- join ***\n"
   ]
  },
  {
   "cell_type": "markdown",
   "id": "96e0ce07-3863-4789-84d1-88f64b39b858",
   "metadata": {},
   "source": [
    "## Inspecting OS Filesystem"
   ]
  },
  {
   "cell_type": "code",
   "execution_count": 2,
   "id": "36566113-ef2e-4f26-a832-62d8c437a46f",
   "metadata": {},
   "outputs": [],
   "source": [
    "import os"
   ]
  },
  {
   "cell_type": "code",
   "execution_count": 4,
   "id": "79a66d68",
   "metadata": {},
   "outputs": [
    {
     "data": {
      "text/plain": [
       "['data', '2025_10_04_files.ipynb']"
      ]
     },
     "execution_count": 4,
     "metadata": {},
     "output_type": "execute_result"
    }
   ],
   "source": [
    "os.listdir() "
   ]
  },
  {
   "cell_type": "code",
   "execution_count": 5,
   "id": "5bf7051b",
   "metadata": {},
   "outputs": [
    {
     "data": {
      "text/plain": [
       "['script.py', 'snps.vcf', 'test.fastq']"
      ]
     },
     "execution_count": 5,
     "metadata": {},
     "output_type": "execute_result"
    }
   ],
   "source": [
    "os.listdir('data') "
   ]
  },
  {
   "cell_type": "code",
   "execution_count": 13,
   "id": "b953b948",
   "metadata": {},
   "outputs": [
    {
     "data": {
      "text/plain": [
       "['project_8',\n",
       " 'project_4',\n",
       " 'project_1',\n",
       " 'project_2',\n",
       " 'project_5',\n",
       " 'project_6',\n",
       " 'project_3',\n",
       " 'project_7']"
      ]
     },
     "execution_count": 13,
     "metadata": {},
     "output_type": "execute_result"
    }
   ],
   "source": [
    "os.listdir('/home/nadia/BI/projects')"
   ]
  },
  {
   "cell_type": "markdown",
   "id": "155ec075-1cf0-4f2f-afb3-e0a3f5e6970e",
   "metadata": {},
   "source": [
    "Listing files in the directory"
   ]
  },
  {
   "cell_type": "code",
   "execution_count": 14,
   "id": "093b1c36-de90-443c-9e59-9197f6f4221d",
   "metadata": {},
   "outputs": [
    {
     "name": "stdout",
     "output_type": "stream",
     "text": [
      "['data', '2025_10_04_files.ipynb']\n",
      "['script.py', 'snps.vcf', 'test.fastq']\n"
     ]
    }
   ],
   "source": [
    "print(os.listdir()) # in current\n",
    "print(os.listdir('data')) # in some specific"
   ]
  },
  {
   "cell_type": "markdown",
   "id": "cd0be1ac-7200-40fc-b629-e8db37e7476d",
   "metadata": {},
   "source": [
    "Check whether the path a file or not (there are the same function for dirs and links)"
   ]
  },
  {
   "cell_type": "code",
   "execution_count": 15,
   "id": "dc6abd07-fe1f-49c8-86b3-11b777ccd204",
   "metadata": {},
   "outputs": [
    {
     "data": {
      "text/plain": [
       "True"
      ]
     },
     "execution_count": 15,
     "metadata": {},
     "output_type": "execute_result"
    }
   ],
   "source": [
    "os.path.isfile('data/snps.vcf') # полезно проверять наличие файлов, прежде чем начать их записывать"
   ]
  },
  {
   "cell_type": "code",
   "execution_count": 16,
   "id": "75919dc1",
   "metadata": {},
   "outputs": [
    {
     "data": {
      "text/plain": [
       "False"
      ]
     },
     "execution_count": 16,
     "metadata": {},
     "output_type": "execute_result"
    }
   ],
   "source": [
    "os.path.isfile('data') # вопрос, что выведет???"
   ]
  },
  {
   "cell_type": "code",
   "execution_count": 17,
   "id": "721c4048",
   "metadata": {},
   "outputs": [
    {
     "data": {
      "text/plain": [
       "True"
      ]
     },
     "execution_count": 17,
     "metadata": {},
     "output_type": "execute_result"
    }
   ],
   "source": [
    "os.path.isdir('data')"
   ]
  },
  {
   "cell_type": "code",
   "execution_count": 18,
   "id": "34c85e79",
   "metadata": {},
   "outputs": [
    {
     "data": {
      "text/plain": [
       "False"
      ]
     },
     "execution_count": 18,
     "metadata": {},
     "output_type": "execute_result"
    }
   ],
   "source": [
    "os.path.isfile('data\\\\snps.vcf') # для винды"
   ]
  },
  {
   "cell_type": "markdown",
   "id": "e49b071d-628a-4780-8636-a0c254d65a88",
   "metadata": {},
   "source": [
    "To construct paths in OS-independent way - use this function"
   ]
  },
  {
   "cell_type": "code",
   "execution_count": 19,
   "id": "52c05d38",
   "metadata": {},
   "outputs": [
    {
     "data": {
      "text/plain": [
       "'/'"
      ]
     },
     "execution_count": 19,
     "metadata": {},
     "output_type": "execute_result"
    }
   ],
   "source": [
    "os.path.sep"
   ]
  },
  {
   "cell_type": "code",
   "execution_count": 20,
   "id": "60fd54cc-1094-446a-b0f9-7f44b9a6eac5",
   "metadata": {},
   "outputs": [
    {
     "data": {
      "text/plain": [
       "'data/snps.vcf'"
      ]
     },
     "execution_count": 20,
     "metadata": {},
     "output_type": "execute_result"
    }
   ],
   "source": [
    "os.path.join('data', 'snps.vcf')"
   ]
  },
  {
   "cell_type": "code",
   "execution_count": 21,
   "id": "b6ca3a85-c6ea-40d6-89f3-bcce92da9f15",
   "metadata": {},
   "outputs": [],
   "source": [
    "out_dir = 'data'\n",
    "out_file = 'A1_filtered_sorted.txt'"
   ]
  },
  {
   "cell_type": "code",
   "execution_count": 22,
   "id": "a6767338-a453-4477-af1a-c429c77bdebf",
   "metadata": {},
   "outputs": [
    {
     "data": {
      "text/plain": [
       "'data/A1_filtered_sorted.txt'"
      ]
     },
     "execution_count": 22,
     "metadata": {},
     "output_type": "execute_result"
    }
   ],
   "source": [
    "os.path.join(out_dir, out_file)"
   ]
  },
  {
   "cell_type": "markdown",
   "id": "dc90c4fa-1f59-4c81-9fb0-ab9fbfb88481",
   "metadata": {},
   "source": [
    "## Connecting to files - open"
   ]
  },
  {
   "cell_type": "code",
   "execution_count": 23,
   "id": "855053a6",
   "metadata": {},
   "outputs": [
    {
     "data": {
      "text/plain": [
       "True"
      ]
     },
     "execution_count": 23,
     "metadata": {},
     "output_type": "execute_result"
    }
   ],
   "source": [
    "os.path.isfile('data/script.py')"
   ]
  },
  {
   "cell_type": "code",
   "execution_count": 31,
   "id": "b2824660-a77f-4672-95ac-8d55163da7c6",
   "metadata": {},
   "outputs": [],
   "source": [
    "file = open('data/script.py') # открываем доступ к файлу"
   ]
  },
  {
   "cell_type": "code",
   "execution_count": 32,
   "id": "e69a4e56",
   "metadata": {},
   "outputs": [
    {
     "data": {
      "text/plain": [
       "<_io.TextIOWrapper name='data/script.py' mode='r' encoding='UTF-8'>"
      ]
     },
     "execution_count": 32,
     "metadata": {},
     "output_type": "execute_result"
    }
   ],
   "source": [
    "file "
   ]
  },
  {
   "cell_type": "code",
   "execution_count": 33,
   "id": "86d4930a-6abe-4c5b-a5ae-c9adeaee3fd9",
   "metadata": {},
   "outputs": [],
   "source": [
    "text = file.read() #метод ддля чтения содержимого"
   ]
  },
  {
   "cell_type": "code",
   "execution_count": 35,
   "id": "3baa8f7e",
   "metadata": {},
   "outputs": [
    {
     "data": {
      "text/plain": [
       "'joke = \"\"\"There are 10 types of people: \\n          those who understand binary and \\n          those who don\\'t.\"\"\"\\n\\nif __name__ == \"__main__\":\\n    print(joke)'"
      ]
     },
     "execution_count": 35,
     "metadata": {},
     "output_type": "execute_result"
    }
   ],
   "source": [
    "text"
   ]
  },
  {
   "cell_type": "code",
   "execution_count": 34,
   "id": "e5d73bd8",
   "metadata": {},
   "outputs": [
    {
     "name": "stdout",
     "output_type": "stream",
     "text": [
      "joke = \"\"\"There are 10 types of people: \n",
      "          those who understand binary and \n",
      "          those who don't.\"\"\"\n",
      "\n",
      "if __name__ == \"__main__\":\n",
      "    print(joke)\n"
     ]
    }
   ],
   "source": [
    "print(text)"
   ]
  },
  {
   "cell_type": "code",
   "execution_count": 36,
   "id": "33230737",
   "metadata": {},
   "outputs": [],
   "source": [
    "file.close() # ВСЕГДА ОБЯЗАТЕЛЬНО XOXO"
   ]
  },
  {
   "cell_type": "code",
   "execution_count": 30,
   "id": "63526827-cf35-4142-a8bf-516b44f22c42",
   "metadata": {},
   "outputs": [
    {
     "data": {
      "text/plain": [
       "type"
      ]
     },
     "execution_count": 30,
     "metadata": {},
     "output_type": "execute_result"
    }
   ],
   "source": [
    "type(str)"
   ]
  },
  {
   "cell_type": "code",
   "execution_count": 31,
   "id": "3d85aaf9-ad7b-460a-804b-f7a186d18816",
   "metadata": {},
   "outputs": [
    {
     "data": {
      "text/plain": [
       "'joke = \"\"\"There are 10 types of people: \\n          those who understand binary and \\n          those who don\\'t.\"\"\"\\n\\nif __name__ == \"__main__\":\\n    print(joke)'"
      ]
     },
     "execution_count": 31,
     "metadata": {},
     "output_type": "execute_result"
    }
   ],
   "source": [
    "text"
   ]
  },
  {
   "cell_type": "markdown",
   "id": "6a636c25-f01b-48c4-9789-4cba74bebfce",
   "metadata": {},
   "source": [
    "Pay attention to '\\n' symbols (linebreaks). The `print` function can display it in a nice way"
   ]
  },
  {
   "cell_type": "code",
   "execution_count": 32,
   "id": "de5cee8e-5cee-4d32-bd02-41042d16e304",
   "metadata": {},
   "outputs": [
    {
     "name": "stdout",
     "output_type": "stream",
     "text": [
      "joke = \"\"\"There are 10 types of people: \n",
      "          those who understand binary and \n",
      "          those who don't.\"\"\"\n",
      "\n",
      "if __name__ == \"__main__\":\n",
      "    print(joke)\n"
     ]
    }
   ],
   "source": [
    "print(text)"
   ]
  },
  {
   "cell_type": "markdown",
   "id": "8bcafc05-4b3f-492a-8cb8-a123216a895a",
   "metadata": {},
   "source": [
    "UNIX-like OS: '\\n' \n",
    "\n",
    "Windows: '\\r\\n'"
   ]
  },
  {
   "cell_type": "markdown",
   "id": "6dfcc11f-c6ef-48ad-8b47-04ae637b08f6",
   "metadata": {},
   "source": [
    "### But,\n",
    "the most important thing to do with file - to close it"
   ]
  },
  {
   "cell_type": "code",
   "execution_count": 33,
   "id": "73126b5d-337e-42dd-801e-366971f29d47",
   "metadata": {},
   "outputs": [],
   "source": [
    "file.close()"
   ]
  },
  {
   "cell_type": "code",
   "execution_count": 39,
   "id": "3e3a27cd",
   "metadata": {},
   "outputs": [
    {
     "name": "stdout",
     "output_type": "stream",
     "text": [
      "Help on built-in function print in module builtins:\n",
      "\n",
      "print(*args, sep=' ', end='\\n', file=None, flush=False)\n",
      "    Prints the values to a stream, or to sys.stdout by default.\n",
      "    \n",
      "    sep\n",
      "      string inserted between values, default a space.\n",
      "    end\n",
      "      string appended after the last value, default a newline.\n",
      "    file\n",
      "      a file-like object (stream); defaults to the current sys.stdout.\n",
      "    flush\n",
      "      whether to forcibly flush the stream.\n",
      "\n"
     ]
    }
   ],
   "source": [
    "help(print)"
   ]
  },
  {
   "cell_type": "code",
   "execution_count": 41,
   "id": "e7f5d034",
   "metadata": {},
   "outputs": [
    {
     "name": "stdout",
     "output_type": "stream",
     "text": [
      "1_2_"
     ]
    }
   ],
   "source": [
    "print(1, end=\"_\")\n",
    "print(2, end=\"_\")"
   ]
  },
  {
   "cell_type": "markdown",
   "id": "de07d673-708b-431b-b6d1-c934475c26c7",
   "metadata": {},
   "source": [
    "Due to this fact, in python we work with files using special so-called `context manager`:"
   ]
  },
  {
   "cell_type": "code",
   "execution_count": 42,
   "id": "54065c51-1b27-420e-acb2-0a1d16ab6792",
   "metadata": {},
   "outputs": [
    {
     "name": "stdout",
     "output_type": "stream",
     "text": [
      "joke = \"\"\"There are 10 types of people: \n",
      "          those who understand binary and \n",
      "          those who don't.\"\"\"\n",
      "\n",
      "if __name__ == \"__main__\":\n",
      "    print(joke)\n",
      "_\n"
     ]
    },
    {
     "ename": "ValueError",
     "evalue": "I/O operation on closed file.",
     "output_type": "error",
     "traceback": [
      "\u001b[31m---------------------------------------------------------------------------\u001b[39m",
      "\u001b[31mValueError\u001b[39m                                Traceback (most recent call last)",
      "\u001b[36mCell\u001b[39m\u001b[36m \u001b[39m\u001b[32mIn[42]\u001b[39m\u001b[32m, line 5\u001b[39m\n\u001b[32m      3\u001b[39m                           \u001b[38;5;66;03m# вне блока файл закрывается \u001b[39;00m\n\u001b[32m      4\u001b[39m \u001b[38;5;28mprint\u001b[39m(\u001b[33m'\u001b[39m\u001b[33m_\u001b[39m\u001b[33m'\u001b[39m)\n\u001b[32m----> \u001b[39m\u001b[32m5\u001b[39m \u001b[38;5;28mprint\u001b[39m(\u001b[43mfile\u001b[49m\u001b[43m.\u001b[49m\u001b[43mread\u001b[49m\u001b[43m(\u001b[49m\u001b[43m)\u001b[49m) \u001b[38;5;66;03m# тут файл уже закрыт и его чтение дает ошибку\u001b[39;00m\n",
      "\u001b[31mValueError\u001b[39m: I/O operation on closed file."
     ]
    }
   ],
   "source": [
    "with open('data/script.py') as file: # контекстный менеджер\n",
    "    print(file.read()) # работаем с файлом внутри блока\n",
    "                          # вне блока файл закрывается \n",
    "print('_')\n",
    "print(file.read()) # тут файл уже закрыт и его чтение дает ошибку"
   ]
  },
  {
   "cell_type": "markdown",
   "id": "946eda66-c54a-47b6-a87b-4144f92e3988",
   "metadata": {},
   "source": [
    "- В `open` хорошо бы подавать пути через `os.path.join`.\n",
    "- Читать весь файл единым киричем за раз - не очень хорошо. И работать сложно, и компьютеру может быть больно. Можно читать отдельные строки. Каждый раз читая строку, вы переходите на следующую"
   ]
  },
  {
   "cell_type": "code",
   "execution_count": 43,
   "id": "e0c4d28d",
   "metadata": {},
   "outputs": [
    {
     "name": "stdout",
     "output_type": "stream",
     "text": [
      "joke = \"\"\"There are 10 types of people: \n",
      "          those who understand binary and \n",
      "          those who don't.\"\"\"\n",
      "\n",
      "if __name__ == \"__main__\":\n",
      "    print(joke)\n",
      "joke = \"\"\"There are 10 types of people: \n",
      "          those who understand binary and \n",
      "          those who don't.\"\"\"\n",
      "\n",
      "if __name__ == \"__main__\":\n",
      "    print(joke)\n",
      "_\n"
     ]
    },
    {
     "ename": "ValueError",
     "evalue": "I/O operation on closed file.",
     "output_type": "error",
     "traceback": [
      "\u001b[31m---------------------------------------------------------------------------\u001b[39m",
      "\u001b[31mValueError\u001b[39m                                Traceback (most recent call last)",
      "\u001b[36mCell\u001b[39m\u001b[36m \u001b[39m\u001b[32mIn[43]\u001b[39m\u001b[32m, line 8\u001b[39m\n\u001b[32m      6\u001b[39m \u001b[38;5;28mprint\u001b[39m(text)                          \n\u001b[32m      7\u001b[39m \u001b[38;5;28mprint\u001b[39m(\u001b[33m'\u001b[39m\u001b[33m_\u001b[39m\u001b[33m'\u001b[39m)\n\u001b[32m----> \u001b[39m\u001b[32m8\u001b[39m \u001b[38;5;28mprint\u001b[39m(\u001b[43mfile\u001b[49m\u001b[43m.\u001b[49m\u001b[43mread\u001b[49m\u001b[43m(\u001b[49m\u001b[43m)\u001b[49m) \u001b[38;5;66;03m# тут файл уже закрыт и его чтение дает ошибку\u001b[39;00m\n",
      "\u001b[31mValueError\u001b[39m: I/O operation on closed file."
     ]
    }
   ],
   "source": [
    "with open('data/script.py') as file: # контекстный менеджер\n",
    "    text = file.read() # работаем с файлом внутри блока\n",
    "    print(text)\n",
    "                          # вне блока файл закрывается \n",
    "\n",
    "print(text)                          \n",
    "print('_')\n",
    "print(file.read()) # тут файл уже закрыт и его чтение дает ошибку\n"
   ]
  },
  {
   "cell_type": "code",
   "execution_count": 46,
   "id": "cd97bc45",
   "metadata": {},
   "outputs": [
    {
     "data": {
      "text/plain": [
       "['##fileformat=VCFv4.2\\n',\n",
       " '##fileDate=20230207\\n',\n",
       " '##source=PLINKv1.90\\n',\n",
       " '##contig=<ID=1,length=249218993>\\n',\n",
       " '##contig=<ID=2,length=243048761>\\n',\n",
       " '##contig=<ID=3,length=197833759>\\n',\n",
       " '##contig=<ID=4,length=190939666>\\n',\n",
       " '##contig=<ID=5,length=180696890>\\n',\n",
       " '##contig=<ID=6,length=170919471>\\n',\n",
       " '##contig=<ID=7,length=159119221>\\n',\n",
       " '##contig=<ID=8,length=146296415>\\n',\n",
       " '##contig=<ID=9,length=141066492>\\n',\n",
       " '##contig=<ID=10,length=135523247>\\n',\n",
       " '##contig=<ID=11,length=134940417>\\n',\n",
       " '##contig=<ID=12,length=133838354>\\n',\n",
       " '##contig=<ID=13,length=115103151>\\n',\n",
       " '##contig=<ID=14,length=107285438>\\n',\n",
       " '##contig=<ID=15,length=102398632>\\n',\n",
       " '##contig=<ID=16,length=90163276>\\n',\n",
       " '##contig=<ID=17,length=81047709>\\n',\n",
       " '##contig=<ID=18,length=78015181>\\n',\n",
       " '##contig=<ID=19,length=59094137>\\n',\n",
       " '##contig=<ID=20,length=62960293>\\n',\n",
       " '##contig=<ID=21,length=48100156>\\n',\n",
       " '##contig=<ID=22,length=51214250>\\n',\n",
       " '##contig=<ID=Y,length=59032810>\\n',\n",
       " '##contig=<ID=M,length=16548>\\n',\n",
       " '##INFO=<ID=PR,Number=0,Type=Flag,Description=\"Provisional reference allele, may not be based on real reference genome\">\\n',\n",
       " '##FORMAT=<ID=GT,Number=1,Type=String,Description=\"Genotype\">\\n',\n",
       " '#CHROM\\tPOS\\tID\\tREF\\tALT\\tQUAL\\tFILTER\\tINFO\\tFORMAT\\tFAM001_ID001\\n',\n",
       " 'Y\\t2649694\\ti4000095\\tT\\t.\\t.\\t.\\tPR\\tGT\\t0/0\\n',\n",
       " 'Y\\t2649696\\ti4000093\\tN\\t.\\t.\\t.\\tPR\\tGT\\t./.\\n',\n",
       " 'Y\\t2655180\\trs11575897\\tG\\t.\\t.\\t.\\tPR\\tGT\\t0/0\\n',\n",
       " 'Y\\t2655248\\ti5004371\\tG\\t.\\t.\\t.\\tPR\\tGT\\t0/0\\n',\n",
       " 'Y\\t2655265\\ti5004367\\tT\\t.\\t.\\t.\\tPR\\tGT\\t0/0\\n',\n",
       " 'Y\\t2655308\\ti5004381\\tC\\t.\\t.\\t.\\tPR\\tGT\\t0/0\\n',\n",
       " 'Y\\t2655319\\ti5004386\\tA\\t.\\t.\\t.\\tPR\\tGT\\t0/0\\n',\n",
       " 'Y\\t2655324\\ti5004379\\tC\\t.\\t.\\t.\\tPR\\tGT\\t0/0\\n',\n",
       " 'Y\\t2655325\\ti5004380\\tC\\t.\\t.\\t.\\tPR\\tGT\\t0/0\\n',\n",
       " 'Y\\t2655328\\ti5004382\\tT\\t.\\t.\\t.\\tPR\\tGT\\t0/0\\n',\n",
       " 'Y\\t2655361\\ti5004368\\tC\\t.\\t.\\t.\\tPR\\tGT\\t0/0\\n',\n",
       " 'Y\\t2655368\\ti5004384\\tG\\t.\\t.\\t.\\tPR\\tGT\\t0/0\\n',\n",
       " 'Y\\t2655375\\ti5004383\\tN\\t.\\t.\\t.\\tPR\\tGT\\t./.\\n',\n",
       " 'Y\\t2655435\\ti5004376\\tC\\t.\\t.\\t.\\tPR\\tGT\\t0/0\\n',\n",
       " 'Y\\t2655436\\ti5004375\\tC\\t.\\t.\\t.\\tPR\\tGT\\t0/0\\n',\n",
       " 'Y\\t2655442\\ti5004378\\tA\\t.\\t.\\t.\\tPR\\tGT\\t0/0\\n',\n",
       " 'Y\\t2655592\\ti5004369\\tC\\t.\\t.\\t.\\tPR\\tGT\\t0/0\\n',\n",
       " 'Y\\t2655641\\ti5004370\\tG\\t.\\t.\\t.\\tPR\\tGT\\t0/0\\n',\n",
       " 'Y\\t2657176\\trs2534636\\tT\\t.\\t.\\t.\\tPR\\tGT\\t0/0\\n',\n",
       " 'Y\\t2658271\\ti3000043\\tG\\t.\\t.\\t.\\tPR\\tGT\\t0/0\\n',\n",
       " 'Y\\t2658869\\ti3000045\\tG\\t.\\t.\\t.\\tPR\\tGT\\t0/0\\n',\n",
       " 'Y\\t2661306\\trs35840667\\tT\\t.\\t.\\t.\\tPR\\tGT\\t0/0\\n',\n",
       " 'Y\\t2663707\\ti4000162\\tT\\t.\\t.\\t.\\tPR\\tGT\\t0/0\\n',\n",
       " 'Y\\t2663889\\ti4000122\\tN\\t.\\t.\\t.\\tPR\\tGT\\t./.\\n',\n",
       " 'Y\\t2663943\\trs9786608\\tC\\t.\\t.\\t.\\tPR\\tGT\\t0/0\\n',\n",
       " 'Y\\t2693993\\trs17276379\\tC\\t.\\t.\\t.\\tPR\\tGT\\t0/0\\n',\n",
       " 'Y\\t2710309\\trs34402762\\tT\\t.\\t.\\t.\\tPR\\tGT\\t0/0\\n',\n",
       " 'Y\\t2712237\\trs11538309\\tA\\t.\\t.\\t.\\tPR\\tGT\\t0/0\\n',\n",
       " 'Y\\t2733235\\trs11538311\\tC\\t.\\t.\\t.\\tPR\\tGT\\t0/0\\n',\n",
       " 'Y\\t2734854\\trs35284970\\tC\\t.\\t.\\t.\\tPR\\tGT\\t0/0\\n',\n",
       " 'Y\\t2740274\\ti4000052\\tT\\t.\\t.\\t.\\tPR\\tGT\\t0/0\\n',\n",
       " 'Y\\t2744628\\trs3895\\tT\\t.\\t.\\t.\\tPR\\tGT\\t0/0\\n',\n",
       " 'Y\\t2749995\\ti4000120\\tT\\t.\\t.\\t.\\tPR\\tGT\\t0/0\\n',\n",
       " 'Y\\t2750408\\ti4000121\\tA\\t.\\t.\\t.\\tPR\\tGT\\t0/0\\n',\n",
       " 'Y\\t2751678\\ti4000123\\tA\\t.\\t.\\t.\\tPR\\tGT\\t0/0\\n',\n",
       " 'Y\\t2756980\\trs13305441\\tT\\t.\\t.\\t.\\tPR\\tGT\\t0/0\\n',\n",
       " 'Y\\t2762492\\trs9786320\\tT\\t.\\t.\\t.\\tPR\\tGT\\t0/0\\n',\n",
       " 'Y\\t2815303\\trs17276393\\tC\\t.\\t.\\t.\\tPR\\tGT\\t0/0\\n',\n",
       " 'Y\\t2815425\\trs1270122\\tA\\t.\\t.\\t.\\tPR\\tGT\\t0/0\\n',\n",
       " 'Y\\t2821786\\trs13447361\\tG\\t.\\t.\\t.\\tPR\\tGT\\t0/0\\n',\n",
       " 'Y\\t2828196\\trs2267801\\tT\\t.\\t.\\t.\\tPR\\tGT\\t0/0\\n',\n",
       " 'Y\\t2828425\\trs2267802\\tA\\t.\\t.\\t.\\tPR\\tGT\\t0/0\\n',\n",
       " 'Y\\t2840133\\trs13303875\\tN\\t.\\t.\\t.\\tPR\\tGT\\t./.\\n',\n",
       " 'Y\\t2842212\\trs9786142\\tT\\t.\\t.\\t.\\tPR\\tGT\\t0/0\\n',\n",
       " 'Y\\t2846401\\trs34742138\\tC\\t.\\t.\\t.\\tPR\\tGT\\t0/0\\n',\n",
       " 'Y\\t2854520\\trs9786519\\tT\\t.\\t.\\t.\\tPR\\tGT\\t0/0\\n',\n",
       " 'Y\\t2875527\\ti4000099\\tG\\t.\\t.\\t.\\tPR\\tGT\\t0/0\\n',\n",
       " 'Y\\t2877478\\ti5049484\\tC\\t.\\t.\\t.\\tPR\\tGT\\t0/0\\n',\n",
       " 'Y\\t2877479\\ti4000105\\tA\\t.\\t.\\t.\\tPR\\tGT\\t0/0\\n',\n",
       " 'Y\\t2881367\\ti4000102\\tT\\t.\\t.\\t.\\tPR\\tGT\\t0/0\\n',\n",
       " 'Y\\t2881377\\ti4000174\\tG\\t.\\t.\\t.\\tPR\\tGT\\t0/0\\n',\n",
       " 'Y\\t2887156\\ti4000104\\tC\\t.\\t.\\t.\\tPR\\tGT\\t0/0\\n',\n",
       " 'Y\\t2887744\\ti5049384\\tC\\t.\\t.\\t.\\tPR\\tGT\\t0/0\\n',\n",
       " 'Y\\t2887824\\trs9786184\\tC\\t.\\t.\\t.\\tPR\\tGT\\t0/0\\n',\n",
       " 'Y\\t2888203\\ti4000108\\tC\\t.\\t.\\t.\\tPR\\tGT\\t0/0\\n',\n",
       " 'Y\\t2888252\\ti4000109\\tC\\t.\\t.\\t.\\tPR\\tGT\\t0/0\\n',\n",
       " 'Y\\t2888477\\ti4000114\\tG\\t.\\t.\\t.\\tPR\\tGT\\t0/0\\n',\n",
       " 'Y\\t2888598\\ti4000115\\tC\\t.\\t.\\t.\\tPR\\tGT\\t0/0\\n',\n",
       " 'Y\\t2888628\\ti4000112\\tN\\t.\\t.\\t.\\tPR\\tGT\\t./.\\n',\n",
       " 'Y\\t2888632\\ti4000113\\tN\\t.\\t.\\t.\\tPR\\tGT\\t./.\\n',\n",
       " 'Y\\t2893277\\ti4000106\\tG\\t.\\t.\\t.\\tPR\\tGT\\t0/0\\n',\n",
       " 'Y\\t2911033\\trs9786252\\tN\\t.\\t.\\t.\\tPR\\tGT\\t./.\\n',\n",
       " 'Y\\t2912385\\trs9786491\\tC\\t.\\t.\\t.\\tPR\\tGT\\t0/0\\n',\n",
       " 'Y\\t2920925\\trs3963100\\tN\\t.\\t.\\t.\\tPR\\tGT\\t./.\\n',\n",
       " 'Y\\t2937010\\trs2535203\\tN\\t.\\t.\\t.\\tPR\\tGT\\t./.\\n',\n",
       " 'Y\\t2942559\\trs2534290\\tN\\t.\\t.\\t.\\tPR\\tGT\\t./.\\n',\n",
       " 'Y\\t2943636\\trs2534327\\tT\\t.\\t.\\t.\\tPR\\tGT\\t0/0\\n',\n",
       " 'Y\\t2945498\\trs2534398\\tN\\t.\\t.\\t.\\tPR\\tGT\\t./.\\n',\n",
       " 'Y\\t2957180\\trs2534238\\tN\\t.\\t.\\t.\\tPR\\tGT\\t./.\\n',\n",
       " 'Y\\t2967867\\trs2534299\\tN\\t.\\t.\\t.\\tPR\\tGT\\t./.\\n',\n",
       " 'Y\\t2978552\\trs13304875\\tN\\t.\\t.\\t.\\tPR\\tGT\\t./.\\n',\n",
       " 'Y\\t2980200\\trs35257590\\tN\\t.\\t.\\t.\\tPR\\tGT\\t./.\\n',\n",
       " 'Y\\t2987520\\trs2349620\\tN\\t.\\t.\\t.\\tPR\\tGT\\t./.\\n',\n",
       " 'Y\\t2991977\\trs2534378\\tN\\t.\\t.\\t.\\tPR\\tGT\\t./.\\n',\n",
       " 'Y\\t2993783\\trs2534388\\tN\\t.\\t.\\t.\\tPR\\tGT\\t./.\\n',\n",
       " 'Y\\t2994033\\trs2020128\\tN\\t.\\t.\\t.\\tPR\\tGT\\t./.\\n',\n",
       " 'Y\\t2995103\\trs2534395\\tN\\t.\\t.\\t.\\tPR\\tGT\\t./.\\n',\n",
       " 'Y\\t2999020\\trs2534415\\tN\\t.\\t.\\t.\\tPR\\tGT\\t./.\\n',\n",
       " 'Y\\t3004873\\trs2534442\\tN\\t.\\t.\\t.\\tPR\\tGT\\t./.\\n',\n",
       " 'Y\\t3017407\\trs2534492\\tN\\t.\\t.\\t.\\tPR\\tGT\\t./.\\n',\n",
       " 'Y\\t3026733\\trs3095194\\tN\\t.\\t.\\t.\\tPR\\tGT\\t./.\\n',\n",
       " 'Y\\t3029098\\trs2534519\\tA\\t.\\t.\\t.\\tPR\\tGT\\t0/0\\n',\n",
       " 'Y\\t3041551\\trs7067390\\tN\\t.\\t.\\t.\\tPR\\tGT\\t./.\\n',\n",
       " 'Y\\t3044007\\trs2534047\\tN\\t.\\t.\\t.\\tPR\\tGT\\t./.\\n',\n",
       " 'Y\\t3046930\\trs3900551\\tA\\t.\\t.\\t.\\tPR\\tGT\\t0/0\\n',\n",
       " 'Y\\t3048114\\trs2534055\\tN\\t.\\t.\\t.\\tPR\\tGT\\t./.\\n',\n",
       " 'Y\\t3059025\\trs2534083\\tN\\t.\\t.\\t.\\tPR\\tGT\\t./.\\n',\n",
       " 'Y\\t3068555\\trs2534104\\tN\\t.\\t.\\t.\\tPR\\tGT\\t./.\\n',\n",
       " 'Y\\t3068643\\trs2534105\\tN\\t.\\t.\\t.\\tPR\\tGT\\t./.\\n',\n",
       " 'Y\\t3071499\\trs2534111\\tN\\t.\\t.\\t.\\tPR\\tGT\\t./.\\n',\n",
       " 'Y\\t3077483\\trs2534126\\tN\\t.\\t.\\t.\\tPR\\tGT\\t./.\\n',\n",
       " 'Y\\t3081263\\trs2534134\\tN\\t.\\t.\\t.\\tPR\\tGT\\t./.\\n',\n",
       " 'Y\\t3085555\\trs2534148\\tN\\t.\\t.\\t.\\tPR\\tGT\\t./.\\n',\n",
       " 'Y\\t3087892\\trs4033727\\tN\\t.\\t.\\t.\\tPR\\tGT\\t./.\\n',\n",
       " 'Y\\t3088983\\trs2534161\\tN\\t.\\t.\\t.\\tPR\\tGT\\t./.\\n',\n",
       " 'Y\\t3094565\\trs2534185\\tN\\t.\\t.\\t.\\tPR\\tGT\\t./.\\n',\n",
       " 'Y\\t3095739\\trs2534189\\tN\\t.\\t.\\t.\\tPR\\tGT\\t./.\\n',\n",
       " 'Y\\t3098262\\trs2534201\\tN\\t.\\t.\\t.\\tPR\\tGT\\t./.\\n',\n",
       " 'Y\\t3116788\\trs4033695\\tN\\t.\\t.\\t.\\tPR\\tGT\\t./.\\n',\n",
       " 'Y\\t3127531\\trs2534921\\tN\\t.\\t.\\t.\\tPR\\tGT\\t./.\\n',\n",
       " 'Y\\t3134595\\trs17221594\\tN\\t.\\t.\\t.\\tPR\\tGT\\t./.\\n',\n",
       " 'Y\\t3139658\\trs2534969\\tN\\t.\\t.\\t.\\tPR\\tGT\\t./.\\n',\n",
       " 'Y\\t3147996\\trs2534991\\tN\\t.\\t.\\t.\\tPR\\tGT\\t./.\\n',\n",
       " 'Y\\t3157767\\trs2535018\\tN\\t.\\t.\\t.\\tPR\\tGT\\t./.\\n',\n",
       " 'Y\\t3179117\\trs17249727\\tN\\t.\\t.\\t.\\tPR\\tGT\\t./.\\n',\n",
       " 'Y\\t3179600\\trs2535089\\tN\\t.\\t.\\t.\\tPR\\tGT\\t./.\\n',\n",
       " 'Y\\t3180346\\trs2535095\\tN\\t.\\t.\\t.\\tPR\\tGT\\t./.\\n',\n",
       " 'Y\\t3197060\\trs2568815\\tN\\t.\\t.\\t.\\tPR\\tGT\\t./.\\n',\n",
       " 'Y\\t3202164\\trs2535139\\tN\\t.\\t.\\t.\\tPR\\tGT\\t./.\\n',\n",
       " 'Y\\t3202246\\trs2535140\\tN\\t.\\t.\\t.\\tPR\\tGT\\t./.\\n',\n",
       " 'Y\\t3228828\\trs2534908\\tN\\t.\\t.\\t.\\tPR\\tGT\\t./.\\n',\n",
       " 'Y\\t3245636\\trs2436264\\tN\\t.\\t.\\t.\\tPR\\tGT\\t./.\\n',\n",
       " 'Y\\t3262129\\trs2552851\\tN\\t.\\t.\\t.\\tPR\\tGT\\t./.\\n',\n",
       " 'Y\\t3269280\\trs2552656\\tN\\t.\\t.\\t.\\tPR\\tGT\\t./.\\n',\n",
       " 'Y\\t3270422\\trs13304240\\tN\\t.\\t.\\t.\\tPR\\tGT\\t./.\\n',\n",
       " 'Y\\t3288124\\trs2552774\\tN\\t.\\t.\\t.\\tPR\\tGT\\t./.\\n',\n",
       " 'Y\\t3299144\\trs4033183\\tN\\t.\\t.\\t.\\tPR\\tGT\\t./.\\n',\n",
       " 'Y\\t3308699\\trs2552838\\tA\\t.\\t.\\t.\\tPR\\tGT\\t0/0\\n',\n",
       " 'Y\\t3310270\\trs2552844\\tN\\t.\\t.\\t.\\tPR\\tGT\\t./.\\n',\n",
       " 'Y\\t3318178\\trs4033165\\tN\\t.\\t.\\t.\\tPR\\tGT\\t./.\\n',\n",
       " 'Y\\t3340336\\trs4033144\\tN\\t.\\t.\\t.\\tPR\\tGT\\t./.\\n',\n",
       " 'Y\\t3359049\\trs2552568\\tN\\t.\\t.\\t.\\tPR\\tGT\\t./.\\n',\n",
       " 'Y\\t3370708\\trs2250769\\tN\\t.\\t.\\t.\\tPR\\tGT\\t./.\\n',\n",
       " 'Y\\t3370714\\trs2250770\\tN\\t.\\t.\\t.\\tPR\\tGT\\t./.\\n',\n",
       " 'Y\\t3378385\\trs2771511\\tC\\t.\\t.\\t.\\tPR\\tGT\\t0/0\\n',\n",
       " 'Y\\t3380902\\trs2552637\\tN\\t.\\t.\\t.\\tPR\\tGT\\t./.\\n',\n",
       " 'Y\\t3385259\\trs2552661\\tT\\t.\\t.\\t.\\tPR\\tGT\\t0/0\\n',\n",
       " 'Y\\t3387992\\trs34831046\\tN\\t.\\t.\\t.\\tPR\\tGT\\t./.\\n',\n",
       " 'Y\\t3388418\\trs2771535\\tN\\t.\\t.\\t.\\tPR\\tGT\\t./.\\n',\n",
       " 'Y\\t3399585\\trs2552701\\tN\\t.\\t.\\t.\\tPR\\tGT\\t./.\\n',\n",
       " 'Y\\t3401707\\trs35505285\\tN\\t.\\t.\\t.\\tPR\\tGT\\t./.\\n',\n",
       " 'Y\\t3406292\\trs4535946\\tT\\t.\\t.\\t.\\tPR\\tGT\\t0/0\\n',\n",
       " 'Y\\t3407219\\trs2113789\\tC\\t.\\t.\\t.\\tPR\\tGT\\t0/0\\n',\n",
       " 'Y\\t3407265\\trs2113790\\tC\\t.\\t.\\t.\\tPR\\tGT\\t0/0\\n',\n",
       " 'Y\\t3409772\\trs2552715\\tN\\t.\\t.\\t.\\tPR\\tGT\\t./.\\n',\n",
       " 'Y\\t3417620\\trs2771662\\tN\\t.\\t.\\t.\\tPR\\tGT\\t./.\\n',\n",
       " 'Y\\t3417721\\trs2602313\\tN\\t.\\t.\\t.\\tPR\\tGT\\t./.\\n',\n",
       " 'Y\\t3418599\\trs2771666\\tN\\t.\\t.\\t.\\tPR\\tGT\\t./.\\n',\n",
       " 'Y\\t3419500\\trs2602319\\tN\\t.\\t.\\t.\\tPR\\tGT\\t./.\\n',\n",
       " 'Y\\t3436442\\ti4000283\\tG\\t.\\t.\\t.\\tPR\\tGT\\t0/0\\n',\n",
       " 'Y\\t3436444\\ti4000284\\tG\\t.\\t.\\t.\\tPR\\tGT\\t0/0\\n',\n",
       " 'Y\\t3438029\\trs2444383\\tN\\t.\\t.\\t.\\tPR\\tGT\\t./.\\n',\n",
       " 'Y\\t3439085\\trs2444389\\tN\\t.\\t.\\t.\\tPR\\tGT\\t./.\\n',\n",
       " 'Y\\t3447851\\trs1053786\\tN\\t.\\t.\\t.\\tPR\\tGT\\t./.\\n',\n",
       " 'Y\\t3447878\\trs1053788\\tN\\t.\\t.\\t.\\tPR\\tGT\\t./.\\n',\n",
       " 'Y\\t3447915\\trs1053790\\tN\\t.\\t.\\t.\\tPR\\tGT\\t./.\\n',\n",
       " 'Y\\t3447964\\trs1053791\\tN\\t.\\t.\\t.\\tPR\\tGT\\t./.\\n',\n",
       " 'Y\\t3448836\\trs2444402\\tN\\t.\\t.\\t.\\tPR\\tGT\\t./.\\n',\n",
       " 'Y\\t3448844\\trs2496951\\tN\\t.\\t.\\t.\\tPR\\tGT\\t./.\\n',\n",
       " 'Y\\t3452753\\trs2444418\\tN\\t.\\t.\\t.\\tPR\\tGT\\t./.\\n',\n",
       " 'Y\\t3452870\\trs2444419\\tN\\t.\\t.\\t.\\tPR\\tGT\\t./.\\n',\n",
       " 'Y\\t3453793\\trs2444421\\tN\\t.\\t.\\t.\\tPR\\tGT\\t./.\\n',\n",
       " 'Y\\t3453914\\trs2444422\\tN\\t.\\t.\\t.\\tPR\\tGT\\t./.\\n',\n",
       " 'Y\\t3454630\\ti5900138\\tN\\t.\\t.\\t.\\tPR\\tGT\\t./.\\n',\n",
       " 'Y\\t3454870\\trs2444427\\tN\\t.\\t.\\t.\\tPR\\tGT\\t./.\\n',\n",
       " 'Y\\t3454966\\trs2444428\\tN\\t.\\t.\\t.\\tPR\\tGT\\t./.\\n',\n",
       " 'Y\\t3456606\\trs2444440\\tN\\t.\\t.\\t.\\tPR\\tGT\\t./.\\n',\n",
       " 'Y\\t3459839\\trs13304326\\tN\\t.\\t.\\t.\\tPR\\tGT\\t./.\\n',\n",
       " 'Y\\t3477343\\trs13303647\\tN\\t.\\t.\\t.\\tPR\\tGT\\t./.\\n',\n",
       " 'Y\\t3480417\\trs2245374\\tN\\t.\\t.\\t.\\tPR\\tGT\\t./.\\n',\n",
       " 'Y\\t3480782\\trs2167806\\tN\\t.\\t.\\t.\\tPR\\tGT\\t./.\\n',\n",
       " 'Y\\t3487032\\trs4032877\\tN\\t.\\t.\\t.\\tPR\\tGT\\t./.\\n',\n",
       " 'Y\\t3487565\\trs2444512\\tN\\t.\\t.\\t.\\tPR\\tGT\\t./.\\n',\n",
       " 'Y\\t3489396\\trs2444521\\tN\\t.\\t.\\t.\\tPR\\tGT\\t./.\\n',\n",
       " 'Y\\t3490038\\trs2444525\\tN\\t.\\t.\\t.\\tPR\\tGT\\t./.\\n',\n",
       " 'Y\\t3495995\\trs11096456\\tN\\t.\\t.\\t.\\tPR\\tGT\\t./.\\n',\n",
       " 'Y\\t3496205\\trs10856767\\tN\\t.\\t.\\t.\\tPR\\tGT\\t./.\\n',\n",
       " 'Y\\t3496739\\trs2060922\\tG\\t.\\t.\\t.\\tPR\\tGT\\t0/0\\n',\n",
       " 'Y\\t3506956\\trs2444550\\tN\\t.\\t.\\t.\\tPR\\tGT\\t./.\\n',\n",
       " 'Y\\t3521762\\trs1038613\\tN\\t.\\t.\\t.\\tPR\\tGT\\t./.\\n',\n",
       " 'Y\\t3527701\\trs2450664\\tN\\t.\\t.\\t.\\tPR\\tGT\\t./.\\n',\n",
       " 'Y\\t3529676\\trs2129709\\tN\\t.\\t.\\t.\\tPR\\tGT\\t./.\\n',\n",
       " 'Y\\t3543996\\trs9785789\\tA\\t.\\t.\\t.\\tPR\\tGT\\t0/0\\n',\n",
       " 'Y\\t3545070\\ti4000163\\tT\\t.\\t.\\t.\\tPR\\tGT\\t0/0\\n',\n",
       " 'Y\\t3545172\\ti4001526\\tG\\t.\\t.\\t.\\tPR\\tGT\\t0/0\\n',\n",
       " 'Y\\t3547060\\trs2632889\\tN\\t.\\t.\\t.\\tPR\\tGT\\t./.\\n',\n",
       " 'Y\\t3553080\\trs2752807\\tN\\t.\\t.\\t.\\tPR\\tGT\\t./.\\n',\n",
       " 'Y\\t3557090\\trs2632910\\tN\\t.\\t.\\t.\\tPR\\tGT\\t./.\\n',\n",
       " 'Y\\t3574126\\trs2559264\\tN\\t.\\t.\\t.\\tPR\\tGT\\t./.\\n',\n",
       " 'Y\\t3579458\\trs1365996\\tN\\t.\\t.\\t.\\tPR\\tGT\\t./.\\n',\n",
       " 'Y\\t3581267\\trs2632956\\tN\\t.\\t.\\t.\\tPR\\tGT\\t./.\\n',\n",
       " 'Y\\t3582829\\trs2632957\\tN\\t.\\t.\\t.\\tPR\\tGT\\t./.\\n',\n",
       " 'Y\\t3587732\\trs2559301\\tG\\t.\\t.\\t.\\tPR\\tGT\\t0/0\\n',\n",
       " 'Y\\t3597108\\trs35898620\\tN\\t.\\t.\\t.\\tPR\\tGT\\t./.\\n',\n",
       " 'Y\\t3607001\\trs4032687\\tN\\t.\\t.\\t.\\tPR\\tGT\\t./.\\n',\n",
       " 'Y\\t3608161\\trs34494083\\tN\\t.\\t.\\t.\\tPR\\tGT\\t./.\\n',\n",
       " 'Y\\t3621140\\trs2559350\\tN\\t.\\t.\\t.\\tPR\\tGT\\t./.\\n',\n",
       " 'Y\\t3624644\\trs2559356\\tN\\t.\\t.\\t.\\tPR\\tGT\\t./.\\n',\n",
       " 'Y\\t3627909\\trs2559361\\tN\\t.\\t.\\t.\\tPR\\tGT\\t./.\\n',\n",
       " 'Y\\t3635319\\ti5900387\\tA\\t.\\t.\\t.\\tPR\\tGT\\t0/0\\n',\n",
       " 'Y\\t3646409\\trs2559402\\tN\\t.\\t.\\t.\\tPR\\tGT\\t./.\\n',\n",
       " 'Y\\t3648875\\trs34551723\\tN\\t.\\t.\\t.\\tPR\\tGT\\t./.\\n',\n",
       " 'Y\\t3655030\\trs2255612\\tT\\t.\\t.\\t.\\tPR\\tGT\\t0/0\\n',\n",
       " 'Y\\t3666259\\trs2574587\\tN\\t.\\t.\\t.\\tPR\\tGT\\t./.\\n',\n",
       " 'Y\\t3668533\\trs2574589\\tN\\t.\\t.\\t.\\tPR\\tGT\\t./.\\n',\n",
       " 'Y\\t3669653\\trs2574595\\tN\\t.\\t.\\t.\\tPR\\tGT\\t./.\\n',\n",
       " 'Y\\t3675122\\trs2559154\\tN\\t.\\t.\\t.\\tPR\\tGT\\t./.\\n',\n",
       " 'Y\\t3676289\\trs2574612\\tN\\t.\\t.\\t.\\tPR\\tGT\\t./.\\n',\n",
       " 'Y\\t3696607\\trs4141666\\tG\\t.\\t.\\t.\\tPR\\tGT\\t0/0\\n',\n",
       " 'Y\\t3697126\\trs2559202\\tN\\t.\\t.\\t.\\tPR\\tGT\\t./.\\n',\n",
       " 'Y\\t3697189\\trs2574357\\tN\\t.\\t.\\t.\\tPR\\tGT\\t./.\\n',\n",
       " 'Y\\t3703536\\trs2559217\\tN\\t.\\t.\\t.\\tPR\\tGT\\t./.\\n',\n",
       " 'Y\\t3703919\\trs2559218\\tN\\t.\\t.\\t.\\tPR\\tGT\\t./.\\n',\n",
       " 'Y\\t3706860\\trs6655903\\tN\\t.\\t.\\t.\\tPR\\tGT\\t./.\\n',\n",
       " 'Y\\t3706930\\trs6655893\\tN\\t.\\t.\\t.\\tPR\\tGT\\t./.\\n',\n",
       " 'Y\\t3710786\\trs2574373\\tN\\t.\\t.\\t.\\tPR\\tGT\\t./.\\n',\n",
       " 'Y\\t3711649\\trs2574376\\tN\\t.\\t.\\t.\\tPR\\tGT\\t./.\\n',\n",
       " 'Y\\t3713563\\trs11096440\\tN\\t.\\t.\\t.\\tPR\\tGT\\t./.\\n',\n",
       " 'Y\\t3714776\\trs9645211\\tN\\t.\\t.\\t.\\tPR\\tGT\\t./.\\n',\n",
       " 'Y\\t3714894\\trs4307511\\tN\\t.\\t.\\t.\\tPR\\tGT\\t./.\\n',\n",
       " 'Y\\t3714926\\trs9645215\\tG\\t.\\t.\\t.\\tPR\\tGT\\t0/0\\n',\n",
       " 'Y\\t3715248\\trs6530606\\tA\\t.\\t.\\t.\\tPR\\tGT\\t0/0\\n',\n",
       " 'Y\\t3715642\\trs4589049\\tN\\t.\\t.\\t.\\tPR\\tGT\\t./.\\n',\n",
       " 'Y\\t3715698\\trs4532770\\tN\\t.\\t.\\t.\\tPR\\tGT\\t./.\\n',\n",
       " 'Y\\t3715806\\trs4336789\\tN\\t.\\t.\\t.\\tPR\\tGT\\t./.\\n',\n",
       " 'Y\\t3716034\\trs6530611\\tA\\t.\\t.\\t.\\tPR\\tGT\\t0/0\\n',\n",
       " 'Y\\t3717095\\trs6530615\\tN\\t.\\t.\\t.\\tPR\\tGT\\t./.\\n',\n",
       " 'Y\\t3717186\\trs6530616\\tN\\t.\\t.\\t.\\tPR\\tGT\\t./.\\n',\n",
       " 'Y\\t3717723\\trs6530620\\tN\\t.\\t.\\t.\\tPR\\tGT\\t./.\\n',\n",
       " 'Y\\t3717754\\trs6530621\\tN\\t.\\t.\\t.\\tPR\\tGT\\t./.\\n',\n",
       " 'Y\\t3720007\\trs7067495\\tN\\t.\\t.\\t.\\tPR\\tGT\\t./.\\n',\n",
       " 'Y\\t3720217\\trs7067508\\tN\\t.\\t.\\t.\\tPR\\tGT\\t./.\\n',\n",
       " 'Y\\t3720463\\trs7892911\\tN\\t.\\t.\\t.\\tPR\\tGT\\t./.\\n',\n",
       " 'Y\\t3720464\\trs7892879\\tC\\t.\\t.\\t.\\tPR\\tGT\\t0/0\\n',\n",
       " 'Y\\t3721154\\trs7893082\\tN\\t.\\t.\\t.\\tPR\\tGT\\t./.\\n',\n",
       " 'Y\\t3721267\\trs7892961\\tN\\t.\\t.\\t.\\tPR\\tGT\\t./.\\n',\n",
       " 'Y\\t3721328\\trs2574378\\tN\\t.\\t.\\t.\\tPR\\tGT\\t./.\\n',\n",
       " 'Y\\t3733528\\trs2574413\\tN\\t.\\t.\\t.\\tPR\\tGT\\t./.\\n',\n",
       " 'Y\\t3737991\\trs35248577\\tN\\t.\\t.\\t.\\tPR\\tGT\\t./.\\n',\n",
       " 'Y\\t3747789\\trs2521061\\tN\\t.\\t.\\t.\\tPR\\tGT\\t./.\\n',\n",
       " 'Y\\t3764211\\trs2521115\\tN\\t.\\t.\\t.\\tPR\\tGT\\t./.\\n',\n",
       " 'Y\\t3775622\\trs3995050\\tA\\t.\\t.\\t.\\tPR\\tGT\\t0/0\\n',\n",
       " 'Y\\t3777548\\trs409570\\tT\\t.\\t.\\t.\\tPR\\tGT\\t0/0\\n',\n",
       " 'Y\\t3781791\\trs427332\\tN\\t.\\t.\\t.\\tPR\\tGT\\t./.\\n',\n",
       " 'Y\\t3790709\\trs447613\\tN\\t.\\t.\\t.\\tPR\\tGT\\t./.\\n',\n",
       " 'Y\\t3798995\\trs450222\\tN\\t.\\t.\\t.\\tPR\\tGT\\t./.\\n',\n",
       " 'Y\\t3799971\\trs365786\\tT\\t.\\t.\\t.\\tPR\\tGT\\t0/0\\n',\n",
       " 'Y\\t3800253\\trs366862\\tN\\t.\\t.\\t.\\tPR\\tGT\\t./.\\n',\n",
       " 'Y\\t3808245\\trs371884\\tN\\t.\\t.\\t.\\tPR\\tGT\\t./.\\n',\n",
       " 'Y\\t3818738\\trs418176\\tN\\t.\\t.\\t.\\tPR\\tGT\\t./.\\n',\n",
       " 'Y\\t3828173\\trs384169\\tN\\t.\\t.\\t.\\tPR\\tGT\\t./.\\n',\n",
       " 'Y\\t3830037\\trs404152\\tN\\t.\\t.\\t.\\tPR\\tGT\\t./.\\n',\n",
       " 'Y\\t3833777\\trs373297\\tN\\t.\\t.\\t.\\tPR\\tGT\\t./.\\n',\n",
       " 'Y\\t3835812\\trs401949\\tN\\t.\\t.\\t.\\tPR\\tGT\\t./.\\n',\n",
       " 'Y\\t3839507\\trs2521038\\tN\\t.\\t.\\t.\\tPR\\tGT\\t./.\\n',\n",
       " 'Y\\t3850264\\trs412054\\tN\\t.\\t.\\t.\\tPR\\tGT\\t./.\\n',\n",
       " 'Y\\t3859903\\trs34263525\\tN\\t.\\t.\\t.\\tPR\\tGT\\t./.\\n',\n",
       " 'Y\\t3875488\\trs2557821\\tN\\t.\\t.\\t.\\tPR\\tGT\\t./.\\n',\n",
       " 'Y\\t3884827\\trs2557841\\tN\\t.\\t.\\t.\\tPR\\tGT\\t./.\\n',\n",
       " 'Y\\t3887741\\trs9786367\\tN\\t.\\t.\\t.\\tPR\\tGT\\t./.\\n',\n",
       " 'Y\\t3894810\\trs2755847\\tN\\t.\\t.\\t.\\tPR\\tGT\\t./.\\n',\n",
       " 'Y\\t3900080\\trs2564145\\tN\\t.\\t.\\t.\\tPR\\tGT\\t./.\\n',\n",
       " 'Y\\t3906019\\trs35599960\\tN\\t.\\t.\\t.\\tPR\\tGT\\t./.\\n',\n",
       " 'Y\\t3911174\\trs36036080\\tN\\t.\\t.\\t.\\tPR\\tGT\\t./.\\n',\n",
       " 'Y\\t3918691\\trs35016796\\tN\\t.\\t.\\t.\\tPR\\tGT\\t./.\\n',\n",
       " 'Y\\t3919087\\trs34787276\\tN\\t.\\t.\\t.\\tPR\\tGT\\t./.\\n',\n",
       " 'Y\\t3927594\\trs2564234\\tN\\t.\\t.\\t.\\tPR\\tGT\\t./.\\n',\n",
       " 'Y\\t3928103\\trs2564236\\tN\\t.\\t.\\t.\\tPR\\tGT\\t./.\\n',\n",
       " 'Y\\t3928187\\trs2564237\\tN\\t.\\t.\\t.\\tPR\\tGT\\t./.\\n',\n",
       " 'Y\\t3931440\\trs2564256\\tN\\t.\\t.\\t.\\tPR\\tGT\\t./.\\n',\n",
       " 'Y\\t3934789\\trs1594139\\tN\\t.\\t.\\t.\\tPR\\tGT\\t./.\\n',\n",
       " 'Y\\t3939571\\trs2564316\\tN\\t.\\t.\\t.\\tPR\\tGT\\t./.\\n',\n",
       " 'Y\\t3958657\\ti5900148\\tN\\t.\\t.\\t.\\tPR\\tGT\\t./.\\n',\n",
       " 'Y\\t3960220\\trs2557564\\tN\\t.\\t.\\t.\\tPR\\tGT\\t./.\\n',\n",
       " 'Y\\t3966708\\trs4032353\\tC\\t.\\t.\\t.\\tPR\\tGT\\t0/0\\n',\n",
       " 'Y\\t3977240\\trs35101551\\tN\\t.\\t.\\t.\\tPR\\tGT\\t./.\\n',\n",
       " 'Y\\t3982762\\trs2557482\\tN\\t.\\t.\\t.\\tPR\\tGT\\t./.\\n',\n",
       " 'Y\\t3988042\\trs2557489\\tN\\t.\\t.\\t.\\tPR\\tGT\\t./.\\n',\n",
       " 'Y\\t4008293\\trs2557593\\tN\\t.\\t.\\t.\\tPR\\tGT\\t./.\\n',\n",
       " 'Y\\t4009690\\trs4032231\\tN\\t.\\t.\\t.\\tPR\\tGT\\t./.\\n',\n",
       " 'Y\\t4026698\\trs2557652\\tN\\t.\\t.\\t.\\tPR\\tGT\\t./.\\n',\n",
       " 'Y\\t4036370\\trs2433774\\tN\\t.\\t.\\t.\\tPR\\tGT\\t./.\\n',\n",
       " 'Y\\t4037971\\trs2557714\\tN\\t.\\t.\\t.\\tPR\\tGT\\t./.\\n',\n",
       " 'Y\\t4045423\\trs2557751\\tN\\t.\\t.\\t.\\tPR\\tGT\\t./.\\n',\n",
       " 'Y\\t4049466\\trs35122623\\tN\\t.\\t.\\t.\\tPR\\tGT\\t./.\\n',\n",
       " 'Y\\t4055603\\trs2557307\\tN\\t.\\t.\\t.\\tPR\\tGT\\t./.\\n',\n",
       " 'Y\\t4065381\\trs2557339\\tN\\t.\\t.\\t.\\tPR\\tGT\\t./.\\n',\n",
       " 'Y\\t4078217\\trs3898\\tC\\t.\\t.\\t.\\tPR\\tGT\\t0/0\\n',\n",
       " 'Y\\t4087052\\trs2557376\\tN\\t.\\t.\\t.\\tPR\\tGT\\t./.\\n',\n",
       " 'Y\\t4088453\\trs2433770\\tN\\t.\\t.\\t.\\tPR\\tGT\\t./.\\n',\n",
       " 'Y\\t4091362\\trs13304284\\tN\\t.\\t.\\t.\\tPR\\tGT\\t./.\\n',\n",
       " 'Y\\t4112351\\trs36042884\\tN\\t.\\t.\\t.\\tPR\\tGT\\t./.\\n',\n",
       " 'Y\\t4119294\\trs34418970\\tN\\t.\\t.\\t.\\tPR\\tGT\\t./.\\n',\n",
       " 'Y\\t4128793\\trs2565889\\tN\\t.\\t.\\t.\\tPR\\tGT\\t./.\\n',\n",
       " 'Y\\t4151058\\trs2565936\\tN\\t.\\t.\\t.\\tPR\\tGT\\t./.\\n',\n",
       " 'Y\\t4174376\\trs2566003\\tN\\t.\\t.\\t.\\tPR\\tGT\\t./.\\n',\n",
       " 'Y\\t4183078\\trs2566031\\tN\\t.\\t.\\t.\\tPR\\tGT\\t./.\\n',\n",
       " 'Y\\t4183123\\trs2566032\\tN\\t.\\t.\\t.\\tPR\\tGT\\t./.\\n',\n",
       " 'Y\\t4199133\\trs2435523\\tN\\t.\\t.\\t.\\tPR\\tGT\\t./.\\n',\n",
       " 'Y\\t4208457\\trs2565785\\tN\\t.\\t.\\t.\\tPR\\tGT\\t./.\\n',\n",
       " 'Y\\t4208543\\trs2565786\\tN\\t.\\t.\\t.\\tPR\\tGT\\t./.\\n',\n",
       " 'Y\\t4208653\\trs2565788\\tN\\t.\\t.\\t.\\tPR\\tGT\\t./.\\n',\n",
       " 'Y\\t4209086\\trs2565791\\tN\\t.\\t.\\t.\\tPR\\tGT\\t./.\\n',\n",
       " 'Y\\t4209333\\trs2565793\\tN\\t.\\t.\\t.\\tPR\\tGT\\t./.\\n',\n",
       " 'Y\\t4209882\\trs2261768\\tN\\t.\\t.\\t.\\tPR\\tGT\\t./.\\n',\n",
       " 'Y\\t4210200\\trs2565796\\tN\\t.\\t.\\t.\\tPR\\tGT\\t./.\\n',\n",
       " 'Y\\t4211442\\trs2565802\\tN\\t.\\t.\\t.\\tPR\\tGT\\t./.\\n',\n",
       " 'Y\\t4211837\\trs2565804\\tN\\t.\\t.\\t.\\tPR\\tGT\\t./.\\n',\n",
       " 'Y\\t4213744\\trs2565810\\tN\\t.\\t.\\t.\\tPR\\tGT\\t./.\\n',\n",
       " 'Y\\t4221644\\trs2882747\\tN\\t.\\t.\\t.\\tPR\\tGT\\t./.\\n',\n",
       " 'Y\\t4222241\\trs2435415\\tN\\t.\\t.\\t.\\tPR\\tGT\\t./.\\n',\n",
       " 'Y\\t4223094\\trs2435421\\tN\\t.\\t.\\t.\\tPR\\tGT\\t./.\\n',\n",
       " 'Y\\t4233898\\trs2260934\\tN\\t.\\t.\\t.\\tPR\\tGT\\t./.\\n',\n",
       " 'Y\\t4239428\\trs2435444\\tN\\t.\\t.\\t.\\tPR\\tGT\\t./.\\n',\n",
       " 'Y\\t4244350\\trs9785718\\tA\\t.\\t.\\t.\\tPR\\tGT\\t0/0\\n',\n",
       " 'Y\\t4276579\\trs2262754\\tN\\t.\\t.\\t.\\tPR\\tGT\\t./.\\n',\n",
       " 'Y\\t4277043\\trs2933123\\tN\\t.\\t.\\t.\\tPR\\tGT\\t./.\\n',\n",
       " 'Y\\t4279148\\trs9786282\\tA\\t.\\t.\\t.\\tPR\\tGT\\t0/0\\n',\n",
       " 'Y\\t4280157\\trs2452103\\tN\\t.\\t.\\t.\\tPR\\tGT\\t./.\\n',\n",
       " 'Y\\t4280570\\trs2452106\\tN\\t.\\t.\\t.\\tPR\\tGT\\t./.\\n',\n",
       " 'Y\\t4280688\\trs2452108\\tN\\t.\\t.\\t.\\tPR\\tGT\\t./.\\n',\n",
       " 'Y\\t4283248\\trs2452115\\tN\\t.\\t.\\t.\\tPR\\tGT\\t./.\\n',\n",
       " 'Y\\t4283425\\trs2452116\\tN\\t.\\t.\\t.\\tPR\\tGT\\t./.\\n',\n",
       " 'Y\\t4299120\\trs2452048\\tN\\t.\\t.\\t.\\tPR\\tGT\\t./.\\n',\n",
       " 'Y\\t4309606\\trs4031953\\tN\\t.\\t.\\t.\\tPR\\tGT\\t./.\\n',\n",
       " 'Y\\t4314242\\trs2774569\\tN\\t.\\t.\\t.\\tPR\\tGT\\t./.\\n',\n",
       " 'Y\\t4328236\\trs2437480\\tN\\t.\\t.\\t.\\tPR\\tGT\\t./.\\n',\n",
       " 'Y\\t4334031\\trs2437511\\tN\\t.\\t.\\t.\\tPR\\tGT\\t./.\\n',\n",
       " 'Y\\t4338502\\trs2574297\\tN\\t.\\t.\\t.\\tPR\\tGT\\t./.\\n',\n",
       " 'Y\\t4356874\\trs1347507\\tN\\t.\\t.\\t.\\tPR\\tGT\\t./.\\n',\n",
       " 'Y\\t4357591\\trs2917400\\tC\\t.\\t.\\t.\\tPR\\tGT\\t0/0\\n',\n",
       " 'Y\\t4369067\\trs2437581\\tC\\t.\\t.\\t.\\tPR\\tGT\\t0/0\\n',\n",
       " 'Y\\t4374216\\trs1435908\\tN\\t.\\t.\\t.\\tPR\\tGT\\t./.\\n',\n",
       " 'Y\\t4381499\\trs2437613\\tN\\t.\\t.\\t.\\tPR\\tGT\\t./.\\n',\n",
       " 'Y\\t4388383\\trs2437638\\tN\\t.\\t.\\t.\\tPR\\tGT\\t./.\\n',\n",
       " 'Y\\t4388629\\trs1583501\\tN\\t.\\t.\\t.\\tPR\\tGT\\t./.\\n',\n",
       " 'Y\\t4389694\\trs2437643\\tN\\t.\\t.\\t.\\tPR\\tGT\\t./.\\n',\n",
       " 'Y\\t4399143\\trs35393975\\tC\\t.\\t.\\t.\\tPR\\tGT\\t0/0\\n',\n",
       " 'Y\\t4400485\\trs2574340\\tN\\t.\\t.\\t.\\tPR\\tGT\\t./.\\n',\n",
       " 'Y\\t4409183\\trs1992039\\tN\\t.\\t.\\t.\\tPR\\tGT\\t./.\\n',\n",
       " 'Y\\t4409381\\trs1992037\\tN\\t.\\t.\\t.\\tPR\\tGT\\t./.\\n',\n",
       " 'Y\\t4411300\\trs2351974\\tN\\t.\\t.\\t.\\tPR\\tGT\\t./.\\n',\n",
       " 'Y\\t4415778\\trs2917223\\tN\\t.\\t.\\t.\\tPR\\tGT\\t./.\\n',\n",
       " 'Y\\t4418534\\trs9782803\\tN\\t.\\t.\\t.\\tPR\\tGT\\t./.\\n',\n",
       " 'Y\\t4418745\\trs9782774\\tN\\t.\\t.\\t.\\tPR\\tGT\\t./.\\n',\n",
       " 'Y\\t4432813\\trs1865697\\tN\\t.\\t.\\t.\\tPR\\tGT\\t./.\\n',\n",
       " 'Y\\t4435665\\trs2917299\\tN\\t.\\t.\\t.\\tPR\\tGT\\t./.\\n',\n",
       " 'Y\\t4435761\\trs1369727\\tN\\t.\\t.\\t.\\tPR\\tGT\\t./.\\n',\n",
       " 'Y\\t4436752\\trs2917301\\tN\\t.\\t.\\t.\\tPR\\tGT\\t./.\\n',\n",
       " 'Y\\t4454345\\trs2196403\\tN\\t.\\t.\\t.\\tPR\\tGT\\t./.\\n',\n",
       " 'Y\\t4459062\\trs35089484\\tN\\t.\\t.\\t.\\tPR\\tGT\\t./.\\n',\n",
       " 'Y\\t4460629\\trs1435912\\tN\\t.\\t.\\t.\\tPR\\tGT\\t./.\\n',\n",
       " 'Y\\t4462368\\trs1435910\\tN\\t.\\t.\\t.\\tPR\\tGT\\t./.\\n',\n",
       " 'Y\\t4462429\\trs1435909\\tN\\t.\\t.\\t.\\tPR\\tGT\\t./.\\n',\n",
       " 'Y\\t4465588\\trs1435936\\tN\\t.\\t.\\t.\\tPR\\tGT\\t./.\\n',\n",
       " 'Y\\t4465673\\trs1435935\\tN\\t.\\t.\\t.\\tPR\\tGT\\t./.\\n',\n",
       " 'Y\\t4465675\\trs1435934\\tN\\t.\\t.\\t.\\tPR\\tGT\\t./.\\n',\n",
       " 'Y\\t4465993\\trs1435933\\tN\\t.\\t.\\t.\\tPR\\tGT\\t./.\\n',\n",
       " 'Y\\t4466044\\trs1435932\\tN\\t.\\t.\\t.\\tPR\\tGT\\t./.\\n',\n",
       " 'Y\\t4466077\\trs1435931\\tN\\t.\\t.\\t.\\tPR\\tGT\\t./.\\n',\n",
       " 'Y\\t4490047\\trs2574162\\tN\\t.\\t.\\t.\\tPR\\tGT\\t./.\\n',\n",
       " 'Y\\t4496381\\trs3899882\\tN\\t.\\t.\\t.\\tPR\\tGT\\t./.\\n',\n",
       " 'Y\\t4498690\\trs2352023\\tN\\t.\\t.\\t.\\tPR\\tGT\\t./.\\n',\n",
       " 'Y\\t4502160\\trs2574213\\tN\\t.\\t.\\t.\\tPR\\tGT\\t./.\\n',\n",
       " 'Y\\t4518978\\trs2558500\\tN\\t.\\t.\\t.\\tPR\\tGT\\t./.\\n',\n",
       " 'Y\\t4529168\\trs2882804\\tN\\t.\\t.\\t.\\tPR\\tGT\\t./.\\n',\n",
       " 'Y\\t4534217\\trs2217213\\tN\\t.\\t.\\t.\\tPR\\tGT\\t./.\\n',\n",
       " 'Y\\t4549638\\trs2558522\\tN\\t.\\t.\\t.\\tPR\\tGT\\t./.\\n',\n",
       " 'Y\\t4565398\\trs2558607\\tN\\t.\\t.\\t.\\tPR\\tGT\\t./.\\n',\n",
       " 'Y\\t4566784\\trs13303654\\tN\\t.\\t.\\t.\\tPR\\tGT\\t./.\\n',\n",
       " 'Y\\t4578763\\trs2558625\\tN\\t.\\t.\\t.\\tPR\\tGT\\t./.\\n',\n",
       " 'Y\\t4589434\\trs2882865\\tN\\t.\\t.\\t.\\tPR\\tGT\\t./.\\n',\n",
       " 'Y\\t4593374\\trs2195177\\tN\\t.\\t.\\t.\\tPR\\tGT\\t./.\\n',\n",
       " 'Y\\t4593378\\trs2195178\\tN\\t.\\t.\\t.\\tPR\\tGT\\t./.\\n',\n",
       " 'Y\\t4593411\\trs2195179\\tN\\t.\\t.\\t.\\tPR\\tGT\\t./.\\n',\n",
       " 'Y\\t4599754\\trs2114792\\tN\\t.\\t.\\t.\\tPR\\tGT\\t./.\\n',\n",
       " 'Y\\t4600192\\trs2114795\\tN\\t.\\t.\\t.\\tPR\\tGT\\t./.\\n',\n",
       " 'Y\\t4600930\\trs2195180\\tN\\t.\\t.\\t.\\tPR\\tGT\\t./.\\n',\n",
       " 'Y\\t4601055\\trs2195181\\tN\\t.\\t.\\t.\\tPR\\tGT\\t./.\\n',\n",
       " 'Y\\t4601116\\trs2195182\\tN\\t.\\t.\\t.\\tPR\\tGT\\t./.\\n',\n",
       " 'Y\\t4601214\\trs2217215\\tN\\t.\\t.\\t.\\tPR\\tGT\\t./.\\n',\n",
       " 'Y\\t4608800\\trs3097037\\tN\\t.\\t.\\t.\\tPR\\tGT\\t./.\\n',\n",
       " 'Y\\t4626652\\trs1869315\\tN\\t.\\t.\\t.\\tPR\\tGT\\t./.\\n',\n",
       " 'Y\\t4629210\\trs3096899\\tN\\t.\\t.\\t.\\tPR\\tGT\\t./.\\n',\n",
       " 'Y\\t4634898\\trs2882875\\tN\\t.\\t.\\t.\\tPR\\tGT\\t./.\\n',\n",
       " 'Y\\t4634972\\trs2882876\\tN\\t.\\t.\\t.\\tPR\\tGT\\t./.\\n',\n",
       " 'Y\\t4642548\\trs3096938\\tN\\t.\\t.\\t.\\tPR\\tGT\\t./.\\n',\n",
       " 'Y\\t4657826\\trs2352280\\tN\\t.\\t.\\t.\\tPR\\tGT\\t./.\\n',\n",
       " 'Y\\t4657934\\trs2352282\\tN\\t.\\t.\\t.\\tPR\\tGT\\t./.\\n',\n",
       " 'Y\\t4659433\\trs3100486\\tN\\t.\\t.\\t.\\tPR\\tGT\\t./.\\n',\n",
       " 'Y\\t4660061\\trs2352283\\tN\\t.\\t.\\t.\\tPR\\tGT\\t./.\\n',\n",
       " 'Y\\t4662029\\trs3100560\\tN\\t.\\t.\\t.\\tPR\\tGT\\t./.\\n',\n",
       " 'Y\\t4663958\\trs3100308\\tN\\t.\\t.\\t.\\tPR\\tGT\\t./.\\n',\n",
       " 'Y\\t4670284\\trs3100353\\tN\\t.\\t.\\t.\\tPR\\tGT\\t./.\\n',\n",
       " 'Y\\t4670423\\trs3100354\\tN\\t.\\t.\\t.\\tPR\\tGT\\t./.\\n',\n",
       " 'Y\\t4672316\\trs35193182\\tN\\t.\\t.\\t.\\tPR\\tGT\\t./.\\n',\n",
       " 'Y\\t4685801\\trs3100364\\tT\\t.\\t.\\t.\\tPR\\tGT\\t0/0\\n',\n",
       " 'Y\\t4686627\\trs3100365\\tN\\t.\\t.\\t.\\tPR\\tGT\\t./.\\n',\n",
       " 'Y\\t4696701\\trs2352312\\tT\\t.\\t.\\t.\\tPR\\tGT\\t0/0\\n',\n",
       " 'Y\\t4702703\\trs3100442\\tN\\t.\\t.\\t.\\tPR\\tGT\\t./.\\n',\n",
       " 'Y\\t4707065\\trs3100456\\tN\\t.\\t.\\t.\\tPR\\tGT\\t./.\\n',\n",
       " 'Y\\t4710868\\trs3100461\\tN\\t.\\t.\\t.\\tPR\\tGT\\t./.\\n',\n",
       " 'Y\\t4710900\\trs3126799\\tN\\t.\\t.\\t.\\tPR\\tGT\\t./.\\n',\n",
       " 'Y\\t4720507\\trs3100488\\tN\\t.\\t.\\t.\\tPR\\tGT\\t./.\\n',\n",
       " 'Y\\t4724101\\trs3100503\\tN\\t.\\t.\\t.\\tPR\\tGT\\t./.\\n',\n",
       " 'Y\\t4750031\\trs3100568\\tN\\t.\\t.\\t.\\tPR\\tGT\\t./.\\n',\n",
       " 'Y\\t4766721\\trs3100319\\tN\\t.\\t.\\t.\\tPR\\tGT\\t./.\\n',\n",
       " 'Y\\t4771928\\trs2352388\\tN\\t.\\t.\\t.\\tPR\\tGT\\t./.\\n',\n",
       " 'Y\\t4780256\\trs3102581\\tN\\t.\\t.\\t.\\tPR\\tGT\\t./.\\n',\n",
       " 'Y\\t4780549\\trs2200335\\tN\\t.\\t.\\t.\\tPR\\tGT\\t./.\\n',\n",
       " 'Y\\t4780596\\trs2200336\\tN\\t.\\t.\\t.\\tPR\\tGT\\t./.\\n',\n",
       " 'Y\\t4780764\\trs2200337\\tN\\t.\\t.\\t.\\tPR\\tGT\\t./.\\n',\n",
       " 'Y\\t4780771\\trs2200338\\tN\\t.\\t.\\t.\\tPR\\tGT\\t./.\\n',\n",
       " 'Y\\t4786366\\trs3102599\\tN\\t.\\t.\\t.\\tPR\\tGT\\t./.\\n',\n",
       " 'Y\\t4799565\\trs2220162\\tN\\t.\\t.\\t.\\tPR\\tGT\\t./.\\n',\n",
       " 'Y\\t4799828\\trs2200342\\tN\\t.\\t.\\t.\\tPR\\tGT\\t./.\\n',\n",
       " 'Y\\t4800467\\trs990806\\tN\\t.\\t.\\t.\\tPR\\tGT\\t./.\\n',\n",
       " 'Y\\t4803688\\trs9785674\\tC\\t.\\t.\\t.\\tPR\\tGT\\t0/0\\n',\n",
       " 'Y\\t4804521\\trs4141926\\tN\\t.\\t.\\t.\\tPR\\tGT\\t./.\\n',\n",
       " 'Y\\t4808053\\trs1038470\\tN\\t.\\t.\\t.\\tPR\\tGT\\t./.\\n',\n",
       " 'Y\\t4811634\\trs3102656\\tN\\t.\\t.\\t.\\tPR\\tGT\\t./.\\n',\n",
       " 'Y\\t4812436\\trs3102659\\tN\\t.\\t.\\t.\\tPR\\tGT\\t./.\\n',\n",
       " 'Y\\t4815436\\trs3102669\\tN\\t.\\t.\\t.\\tPR\\tGT\\t./.\\n',\n",
       " 'Y\\t4815620\\trs2352696\\tN\\t.\\t.\\t.\\tPR\\tGT\\t./.\\n',\n",
       " 'Y\\t4815665\\trs9306844\\tN\\t.\\t.\\t.\\tPR\\tGT\\t./.\\n',\n",
       " 'Y\\t4815709\\trs2352698\\tN\\t.\\t.\\t.\\tPR\\tGT\\t./.\\n',\n",
       " 'Y\\t4816141\\trs12385675\\tN\\t.\\t.\\t.\\tPR\\tGT\\t./.\\n',\n",
       " 'Y\\t4816154\\trs9724559\\tN\\t.\\t.\\t.\\tPR\\tGT\\t./.\\n',\n",
       " 'Y\\t4816476\\trs2883005\\tN\\t.\\t.\\t.\\tPR\\tGT\\t./.\\n',\n",
       " 'Y\\t4823861\\trs3102674\\tN\\t.\\t.\\t.\\tPR\\tGT\\t./.\\n',\n",
       " 'Y\\t4824433\\trs3102679\\tN\\t.\\t.\\t.\\tPR\\tGT\\t./.\\n',\n",
       " 'Y\\t4826650\\trs3102692\\tN\\t.\\t.\\t.\\tPR\\tGT\\t./.\\n',\n",
       " 'Y\\t4826746\\trs3102693\\tN\\t.\\t.\\t.\\tPR\\tGT\\t./.\\n',\n",
       " 'Y\\t4827430\\trs16980759\\tN\\t.\\t.\\t.\\tPR\\tGT\\t./.\\n',\n",
       " 'Y\\t4829860\\trs2628486\\tN\\t.\\t.\\t.\\tPR\\tGT\\t./.\\n',\n",
       " 'Y\\t4834281\\trs2200360\\tN\\t.\\t.\\t.\\tPR\\tGT\\t./.\\n',\n",
       " 'Y\\t4838430\\trs2524749\\tN\\t.\\t.\\t.\\tPR\\tGT\\t./.\\n',\n",
       " 'Y\\t4849444\\trs2628515\\tN\\t.\\t.\\t.\\tPR\\tGT\\t./.\\n',\n",
       " 'Y\\t4850983\\trs2628530\\tN\\t.\\t.\\t.\\tPR\\tGT\\t./.\\n',\n",
       " 'Y\\t4859475\\trs2563543\\tN\\t.\\t.\\t.\\tPR\\tGT\\t./.\\n',\n",
       " 'Y\\t4859806\\trs2563554\\tN\\t.\\t.\\t.\\tPR\\tGT\\t./.\\n',\n",
       " 'Y\\t4859842\\trs2563556\\tN\\t.\\t.\\t.\\tPR\\tGT\\t./.\\n',\n",
       " 'Y\\t4860430\\trs35998465\\tN\\t.\\t.\\t.\\tPR\\tGT\\t./.\\n',\n",
       " 'Y\\t4860688\\trs2563605\\tN\\t.\\t.\\t.\\tPR\\tGT\\t./.\\n',\n",
       " 'Y\\t4863400\\trs36113635\\tN\\t.\\t.\\t.\\tPR\\tGT\\t./.\\n',\n",
       " 'Y\\t4866753\\trs2563845\\tN\\t.\\t.\\t.\\tPR\\tGT\\t./.\\n',\n",
       " 'Y\\t4866885\\trs2563850\\tN\\t.\\t.\\t.\\tPR\\tGT\\t./.\\n',\n",
       " 'Y\\t4869632\\trs2563422\\tN\\t.\\t.\\t.\\tPR\\tGT\\t./.\\n',\n",
       " 'Y\\t4871691\\trs2524796\\tN\\t.\\t.\\t.\\tPR\\tGT\\t./.\\n',\n",
       " 'Y\\t4871809\\trs2524797\\tN\\t.\\t.\\t.\\tPR\\tGT\\t./.\\n',\n",
       " 'Y\\t4882982\\trs36082732\\tN\\t.\\t.\\t.\\tPR\\tGT\\t./.\\n',\n",
       " 'Y\\t4883618\\ti5900150\\tN\\t.\\t.\\t.\\tPR\\tGT\\t./.\\n',\n",
       " 'Y\\t4884204\\trs2563553\\tN\\t.\\t.\\t.\\tPR\\tGT\\t./.\\n',\n",
       " 'Y\\t4885328\\trs2563561\\tN\\t.\\t.\\t.\\tPR\\tGT\\t./.\\n',\n",
       " 'Y\\t4885759\\trs34853722\\tN\\t.\\t.\\t.\\tPR\\tGT\\t./.\\n',\n",
       " 'Y\\t4886615\\trs2563566\\tN\\t.\\t.\\t.\\tPR\\tGT\\t./.\\n',\n",
       " 'Y\\t4887182\\trs4031209\\tN\\t.\\t.\\t.\\tPR\\tGT\\t./.\\n',\n",
       " 'Y\\t4888084\\trs2563571\\tN\\t.\\t.\\t.\\tPR\\tGT\\t./.\\n',\n",
       " 'Y\\t4890139\\trs2563580\\tN\\t.\\t.\\t.\\tPR\\tGT\\t./.\\n',\n",
       " 'Y\\t4892950\\trs2563602\\tN\\t.\\t.\\t.\\tPR\\tGT\\t./.\\n',\n",
       " 'Y\\t4897228\\trs2563636\\tN\\t.\\t.\\t.\\tPR\\tGT\\t./.\\n',\n",
       " 'Y\\t4898709\\trs2563642\\tN\\t.\\t.\\t.\\tPR\\tGT\\t./.\\n',\n",
       " 'Y\\t4898895\\trs2563645\\tN\\t.\\t.\\t.\\tPR\\tGT\\t./.\\n',\n",
       " 'Y\\t4899482\\trs2524862\\tN\\t.\\t.\\t.\\tPR\\tGT\\t./.\\n',\n",
       " 'Y\\t4903753\\trs2563670\\tN\\t.\\t.\\t.\\tPR\\tGT\\t./.\\n',\n",
       " 'Y\\t4904642\\trs2563674\\tN\\t.\\t.\\t.\\tPR\\tGT\\t./.\\n',\n",
       " 'Y\\t4907409\\trs2563689\\tN\\t.\\t.\\t.\\tPR\\tGT\\t./.\\n',\n",
       " 'Y\\t4917525\\trs2563709\\tN\\t.\\t.\\t.\\tPR\\tGT\\t./.\\n',\n",
       " 'Y\\t4918862\\trs2563714\\tN\\t.\\t.\\t.\\tPR\\tGT\\t./.\\n',\n",
       " 'Y\\t4919060\\trs2563715\\tN\\t.\\t.\\t.\\tPR\\tGT\\t./.\\n',\n",
       " 'Y\\t4920361\\trs2563728\\tN\\t.\\t.\\t.\\tPR\\tGT\\t./.\\n',\n",
       " 'Y\\t4923729\\trs2563744\\tN\\t.\\t.\\t.\\tPR\\tGT\\t./.\\n',\n",
       " 'Y\\t4924098\\trs2563748\\tN\\t.\\t.\\t.\\tPR\\tGT\\t./.\\n',\n",
       " 'Y\\t4925004\\trs2249187\\tN\\t.\\t.\\t.\\tPR\\tGT\\t./.\\n',\n",
       " 'Y\\t4925084\\trs2571796\\tN\\t.\\t.\\t.\\tPR\\tGT\\t./.\\n',\n",
       " 'Y\\t4925637\\trs4252209\\tG\\t.\\t.\\t.\\tPR\\tGT\\t0/0\\n',\n",
       " 'Y\\t4927998\\trs2524449\\tN\\t.\\t.\\t.\\tPR\\tGT\\t./.\\n',\n",
       " 'Y\\t4929400\\trs2563771\\tN\\t.\\t.\\t.\\tPR\\tGT\\t./.\\n',\n",
       " 'Y\\t4929651\\trs2563772\\tN\\t.\\t.\\t.\\tPR\\tGT\\t./.\\n',\n",
       " 'Y\\t4929688\\trs2563773\\tN\\t.\\t.\\t.\\tPR\\tGT\\t./.\\n',\n",
       " 'Y\\t4929959\\trs2563775\\tN\\t.\\t.\\t.\\tPR\\tGT\\t./.\\n',\n",
       " 'Y\\t4930871\\trs2563782\\tN\\t.\\t.\\t.\\tPR\\tGT\\t./.\\n',\n",
       " 'Y\\t4933271\\trs2563788\\tN\\t.\\t.\\t.\\tPR\\tGT\\t./.\\n',\n",
       " 'Y\\t4933300\\trs2563789\\tN\\t.\\t.\\t.\\tPR\\tGT\\t./.\\n',\n",
       " 'Y\\t4935539\\trs2563801\\tN\\t.\\t.\\t.\\tPR\\tGT\\t./.\\n',\n",
       " 'Y\\t4935714\\trs2571653\\tN\\t.\\t.\\t.\\tPR\\tGT\\t./.\\n',\n",
       " 'Y\\t4936805\\trs9782849\\tN\\t.\\t.\\t.\\tPR\\tGT\\t./.\\n',\n",
       " 'Y\\t4937075\\trs2571973\\tN\\t.\\t.\\t.\\tPR\\tGT\\t./.\\n',\n",
       " 'Y\\t4937376\\trs9782793\\tN\\t.\\t.\\t.\\tPR\\tGT\\t./.\\n',\n",
       " 'Y\\t4937576\\trs2563804\\tN\\t.\\t.\\t.\\tPR\\tGT\\t./.\\n',\n",
       " 'Y\\t4938298\\trs2571958\\tN\\t.\\t.\\t.\\tPR\\tGT\\t./.\\n',\n",
       " 'Y\\t4938728\\trs2571939\\tN\\t.\\t.\\t.\\tPR\\tGT\\t./.\\n',\n",
       " 'Y\\t4939145\\trs2571936\\tN\\t.\\t.\\t.\\tPR\\tGT\\t./.\\n',\n",
       " 'Y\\t4939870\\trs2524475\\tN\\t.\\t.\\t.\\tPR\\tGT\\t./.\\n',\n",
       " 'Y\\t4943232\\trs2571809\\tN\\t.\\t.\\t.\\tPR\\tGT\\t./.\\n',\n",
       " 'Y\\t4953563\\trs2563844\\tN\\t.\\t.\\t.\\tPR\\tGT\\t./.\\n',\n",
       " 'Y\\t4956432\\trs34403272\\tN\\t.\\t.\\t.\\tPR\\tGT\\t./.\\n',\n",
       " 'Y\\t4956713\\trs2524519\\tN\\t.\\t.\\t.\\tPR\\tGT\\t./.\\n',\n",
       " 'Y\\t4956740\\trs2563859\\tN\\t.\\t.\\t.\\tPR\\tGT\\t./.\\n',\n",
       " 'Y\\t4957120\\trs2563340\\tC\\t.\\t.\\t.\\tPR\\tGT\\t0/0\\n',\n",
       " 'Y\\t4957608\\trs2563344\\tN\\t.\\t.\\t.\\tPR\\tGT\\t./.\\n',\n",
       " 'Y\\t4958164\\trs2563348\\tN\\t.\\t.\\t.\\tPR\\tGT\\t./.\\n',\n",
       " 'Y\\t4959274\\trs2563358\\tN\\t.\\t.\\t.\\tPR\\tGT\\t./.\\n',\n",
       " 'Y\\t4960699\\trs2563363\\tN\\t.\\t.\\t.\\tPR\\tGT\\t./.\\n',\n",
       " 'Y\\t4961084\\trs2563364\\tN\\t.\\t.\\t.\\tPR\\tGT\\t./.\\n',\n",
       " 'Y\\t4962194\\trs2563368\\tN\\t.\\t.\\t.\\tPR\\tGT\\t./.\\n',\n",
       " 'Y\\t4963201\\trs2563374\\tN\\t.\\t.\\t.\\tPR\\tGT\\t./.\\n',\n",
       " 'Y\\t4965092\\trs2563378\\tN\\t.\\t.\\t.\\tPR\\tGT\\t./.\\n',\n",
       " 'Y\\t4965423\\trs2563379\\tN\\t.\\t.\\t.\\tPR\\tGT\\t./.\\n',\n",
       " 'Y\\t4965920\\trs2571658\\tN\\t.\\t.\\t.\\tPR\\tGT\\t./.\\n',\n",
       " 'Y\\t4966030\\trs34212701\\tN\\t.\\t.\\t.\\tPR\\tGT\\t./.\\n',\n",
       " 'Y\\t4966360\\trs2563382\\tN\\t.\\t.\\t.\\tPR\\tGT\\t./.\\n',\n",
       " 'Y\\t4967350\\trs2241629\\tN\\t.\\t.\\t.\\tPR\\tGT\\t./.\\n',\n",
       " 'Y\\t4968368\\trs2524543\\tN\\t.\\t.\\t.\\tPR\\tGT\\t./.\\n',\n",
       " 'Y\\t4968505\\trs2563387\\tN\\t.\\t.\\t.\\tPR\\tGT\\t./.\\n',\n",
       " 'Y\\t4968588\\trs2563388\\tN\\t.\\t.\\t.\\tPR\\tGT\\t./.\\n',\n",
       " 'Y\\t4968712\\trs2571665\\tN\\t.\\t.\\t.\\tPR\\tGT\\t./.\\n',\n",
       " 'Y\\t4969715\\trs2563392\\tN\\t.\\t.\\t.\\tPR\\tGT\\t./.\\n',\n",
       " 'Y\\t4969740\\trs2571669\\tN\\t.\\t.\\t.\\tPR\\tGT\\t./.\\n',\n",
       " 'Y\\t4972426\\trs36044208\\tN\\t.\\t.\\t.\\tPR\\tGT\\t./.\\n',\n",
       " 'Y\\t4973930\\trs2563405\\tN\\t.\\t.\\t.\\tPR\\tGT\\t./.\\n',\n",
       " 'Y\\t4979700\\trs2563414\\tN\\t.\\t.\\t.\\tPR\\tGT\\t./.\\n',\n",
       " 'Y\\t4981964\\trs2563421\\tN\\t.\\t.\\t.\\tPR\\tGT\\t./.\\n',\n",
       " 'Y\\t4984245\\trs2563427\\tN\\t.\\t.\\t.\\tPR\\tGT\\t./.\\n',\n",
       " 'Y\\t4988954\\trs2563449\\tN\\t.\\t.\\t.\\tPR\\tGT\\t./.\\n',\n",
       " 'Y\\t4990746\\trs2563457\\tN\\t.\\t.\\t.\\tPR\\tGT\\t./.\\n',\n",
       " 'Y\\t4991980\\trs35978000\\tN\\t.\\t.\\t.\\tPR\\tGT\\t./.\\n',\n",
       " 'Y\\t4994324\\trs35021742\\tN\\t.\\t.\\t.\\tPR\\tGT\\t./.\\n',\n",
       " 'Y\\t5006661\\trs34290728\\tN\\t.\\t.\\t.\\tPR\\tGT\\t./.\\n',\n",
       " 'Y\\t5006918\\trs34527402\\tN\\t.\\t.\\t.\\tPR\\tGT\\t./.\\n',\n",
       " 'Y\\t5008686\\trs2563515\\tN\\t.\\t.\\t.\\tPR\\tGT\\t./.\\n',\n",
       " 'Y\\t5011750\\trs2524619\\tN\\t.\\t.\\t.\\tPR\\tGT\\t./.\\n',\n",
       " 'Y\\t5012099\\trs2524623\\tN\\t.\\t.\\t.\\tPR\\tGT\\t./.\\n',\n",
       " 'Y\\t5012892\\trs2571764\\tA\\t.\\t.\\t.\\tPR\\tGT\\t0/0\\n',\n",
       " 'Y\\t5015450\\trs2525127\\tA\\t.\\t.\\t.\\tPR\\tGT\\t0/0\\n',\n",
       " 'Y\\t5015824\\trs3952256\\tN\\t.\\t.\\t.\\tPR\\tGT\\t./.\\n',\n",
       " 'Y\\t5016232\\trs2563518\\tN\\t.\\t.\\t.\\tPR\\tGT\\t./.\\n',\n",
       " 'Y\\t5017352\\trs2563520\\tN\\t.\\t.\\t.\\tPR\\tGT\\t./.\\n',\n",
       " 'Y\\t5017715\\trs2571768\\tN\\t.\\t.\\t.\\tPR\\tGT\\t./.\\n',\n",
       " 'Y\\t5019234\\trs2571769\\tN\\t.\\t.\\t.\\tPR\\tGT\\t./.\\n',\n",
       " 'Y\\t5021851\\trs2260694\\tN\\t.\\t.\\t.\\tPR\\tGT\\t./.\\n',\n",
       " 'Y\\t5025304\\trs2563171\\tN\\t.\\t.\\t.\\tPR\\tGT\\t./.\\n',\n",
       " 'Y\\t5025569\\trs2563191\\tN\\t.\\t.\\t.\\tPR\\tGT\\t./.\\n',\n",
       " 'Y\\t5031814\\trs35762759\\tN\\t.\\t.\\t.\\tPR\\tGT\\t./.\\n',\n",
       " 'Y\\t5034233\\trs2563050\\tN\\t.\\t.\\t.\\tPR\\tGT\\t./.\\n',\n",
       " 'Y\\t5036720\\trs2195472\\tG\\t.\\t.\\t.\\tPR\\tGT\\t0/0\\n',\n",
       " 'Y\\t5036753\\trs2195473\\tN\\t.\\t.\\t.\\tPR\\tGT\\t./.\\n',\n",
       " 'Y\\t5039828\\trs2571813\\tG\\t.\\t.\\t.\\tPR\\tGT\\t0/0\\n',\n",
       " 'Y\\t5055224\\trs2563076\\tN\\t.\\t.\\t.\\tPR\\tGT\\t./.\\n',\n",
       " 'Y\\t5058273\\trs2563090\\tN\\t.\\t.\\t.\\tPR\\tGT\\t./.\\n',\n",
       " 'Y\\t5060411\\trs2571870\\tN\\t.\\t.\\t.\\tPR\\tGT\\t./.\\n',\n",
       " 'Y\\t5060531\\trs2571872\\tN\\t.\\t.\\t.\\tPR\\tGT\\t./.\\n',\n",
       " 'Y\\t5060885\\trs2563107\\tN\\t.\\t.\\t.\\tPR\\tGT\\t./.\\n',\n",
       " 'Y\\t5064323\\trs2563121\\tN\\t.\\t.\\t.\\tPR\\tGT\\t./.\\n',\n",
       " 'Y\\t5066735\\trs2563128\\tN\\t.\\t.\\t.\\tPR\\tGT\\t./.\\n',\n",
       " 'Y\\t5068581\\trs34025717\\tN\\t.\\t.\\t.\\tPR\\tGT\\t./.\\n',\n",
       " 'Y\\t5069202\\trs2571899\\tN\\t.\\t.\\t.\\tPR\\tGT\\t./.\\n',\n",
       " 'Y\\t5074648\\trs2571923\\tN\\t.\\t.\\t.\\tPR\\tGT\\t./.\\n',\n",
       " 'Y\\t5078340\\trs2571934\\tN\\t.\\t.\\t.\\tPR\\tGT\\t./.\\n',\n",
       " 'Y\\t5079713\\trs2525300\\tN\\t.\\t.\\t.\\tPR\\tGT\\t./.\\n',\n",
       " 'Y\\t5083703\\trs35516852\\tN\\t.\\t.\\t.\\tPR\\tGT\\t./.\\n',\n",
       " 'Y\\t5085510\\trs2563145\\tN\\t.\\t.\\t.\\tPR\\tGT\\t./.\\n',\n",
       " 'Y\\t5086412\\trs2563146\\tC\\t.\\t.\\t.\\tPR\\tGT\\t0/0\\n',\n",
       " 'Y\\t5090263\\trs2571962\\tN\\t.\\t.\\t.\\tPR\\tGT\\t./.\\n',\n",
       " 'Y\\t5093793\\trs2571968\\tN\\t.\\t.\\t.\\tPR\\tGT\\t./.\\n',\n",
       " 'Y\\t5095973\\trs2563179\\tN\\t.\\t.\\t.\\tPR\\tGT\\t./.\\n',\n",
       " 'Y\\t5101087\\trs2563212\\tN\\t.\\t.\\t.\\tPR\\tGT\\t./.\\n',\n",
       " 'Y\\t5105226\\trs2525234\\tN\\t.\\t.\\t.\\tPR\\tGT\\t./.\\n',\n",
       " 'Y\\t5124941\\trs9786474\\tA\\t.\\t.\\t.\\tPR\\tGT\\t0/0\\n',\n",
       " 'Y\\t5127976\\trs2562913\\tN\\t.\\t.\\t.\\tPR\\tGT\\t./.\\n',\n",
       " 'Y\\t5133173\\trs2562928\\tN\\t.\\t.\\t.\\tPR\\tGT\\t./.\\n',\n",
       " 'Y\\t5140581\\trs35599306\\tN\\t.\\t.\\t.\\tPR\\tGT\\t./.\\n',\n",
       " 'Y\\t5143038\\trs34293660\\tN\\t.\\t.\\t.\\tPR\\tGT\\t./.\\n',\n",
       " 'Y\\t5143579\\trs35293705\\tN\\t.\\t.\\t.\\tPR\\tGT\\t./.\\n',\n",
       " 'Y\\t5144853\\trs2562952\\tN\\t.\\t.\\t.\\tPR\\tGT\\t./.\\n',\n",
       " 'Y\\t5145860\\trs2435120\\tN\\t.\\t.\\t.\\tPR\\tGT\\t./.\\n',\n",
       " 'Y\\t5149645\\trs2562967\\tN\\t.\\t.\\t.\\tPR\\tGT\\t./.\\n',\n",
       " 'Y\\t5150478\\trs34969950\\tN\\t.\\t.\\t.\\tPR\\tGT\\t./.\\n',\n",
       " 'Y\\t5152228\\trs35978544\\tN\\t.\\t.\\t.\\tPR\\tGT\\t./.\\n',\n",
       " 'Y\\t5159855\\trs4030621\\tN\\t.\\t.\\t.\\tPR\\tGT\\t./.\\n',\n",
       " 'Y\\t5164932\\trs2435135\\tN\\t.\\t.\\t.\\tPR\\tGT\\t./.\\n',\n",
       " 'Y\\t5166488\\trs4030632\\tN\\t.\\t.\\t.\\tPR\\tGT\\t./.\\n',\n",
       " 'Y\\t5168875\\trs2563007\\tN\\t.\\t.\\t.\\tPR\\tGT\\t./.\\n',\n",
       " 'Y\\t5169170\\trs2435136\\tN\\t.\\t.\\t.\\tPR\\tGT\\t./.\\n',\n",
       " 'Y\\t5170726\\trs2563016\\tN\\t.\\t.\\t.\\tPR\\tGT\\t./.\\n',\n",
       " 'Y\\t5171469\\trs2563023\\tN\\t.\\t.\\t.\\tPR\\tGT\\t./.\\n',\n",
       " 'Y\\t5173800\\trs2563036\\tN\\t.\\t.\\t.\\tPR\\tGT\\t./.\\n',\n",
       " 'Y\\t5176034\\trs2563043\\tN\\t.\\t.\\t.\\tPR\\tGT\\t./.\\n',\n",
       " 'Y\\t5187330\\trs4030607\\tN\\t.\\t.\\t.\\tPR\\tGT\\t./.\\n',\n",
       " 'Y\\t5190930\\trs4437815\\tC\\t.\\t.\\t.\\tPR\\tGT\\t0/0\\n',\n",
       " 'Y\\t5192546\\trs2558155\\tN\\t.\\t.\\t.\\tPR\\tGT\\t./.\\n',\n",
       " 'Y\\t5203601\\trs2558164\\tN\\t.\\t.\\t.\\tPR\\tGT\\t./.\\n',\n",
       " 'Y\\t5204283\\trs34401889\\tN\\t.\\t.\\t.\\tPR\\tGT\\t./.\\n',\n",
       " 'Y\\t5205541\\trs2558169\\tG\\t.\\t.\\t.\\tPR\\tGT\\t0/0\\n',\n",
       " 'Y\\t5210582\\trs2760009\\tN\\t.\\t.\\t.\\tPR\\tGT\\t./.\\n',\n",
       " 'Y\\t5213307\\trs2558181\\tN\\t.\\t.\\t.\\tPR\\tGT\\t./.\\n',\n",
       " 'Y\\t5217968\\trs2558188\\tN\\t.\\t.\\t.\\tPR\\tGT\\t./.\\n',\n",
       " 'Y\\t5219787\\trs2558191\\tN\\t.\\t.\\t.\\tPR\\tGT\\t./.\\n',\n",
       " 'Y\\t5222128\\trs3098120\\tN\\t.\\t.\\t.\\tPR\\tGT\\t./.\\n',\n",
       " 'Y\\t5223907\\trs35937280\\tN\\t.\\t.\\t.\\tPR\\tGT\\t./.\\n',\n",
       " 'Y\\t5227971\\trs2573981\\tN\\t.\\t.\\t.\\tPR\\tGT\\t./.\\n',\n",
       " 'Y\\t5228166\\trs2573985\\tN\\t.\\t.\\t.\\tPR\\tGT\\t./.\\n',\n",
       " 'Y\\t5230105\\trs2476041\\tN\\t.\\t.\\t.\\tPR\\tGT\\t./.\\n',\n",
       " 'Y\\t5231014\\trs4420024\\tN\\t.\\t.\\t.\\tPR\\tGT\\t./.\\n',\n",
       " 'Y\\t5233227\\trs2573781\\tN\\t.\\t.\\t.\\tPR\\tGT\\t./.\\n',\n",
       " 'Y\\t5240155\\trs2573904\\tN\\t.\\t.\\t.\\tPR\\tGT\\t./.\\n',\n",
       " 'Y\\t5243188\\trs2573908\\tN\\t.\\t.\\t.\\tPR\\tGT\\t./.\\n',\n",
       " 'Y\\t5247381\\trs2573912\\tN\\t.\\t.\\t.\\tPR\\tGT\\t./.\\n',\n",
       " 'Y\\t5248973\\trs3950682\\tN\\t.\\t.\\t.\\tPR\\tGT\\t./.\\n',\n",
       " 'Y\\t5249934\\trs2573915\\tN\\t.\\t.\\t.\\tPR\\tGT\\t./.\\n',\n",
       " 'Y\\t5250029\\trs2573916\\tN\\t.\\t.\\t.\\tPR\\tGT\\t./.\\n',\n",
       " 'Y\\t5252099\\trs2573921\\tN\\t.\\t.\\t.\\tPR\\tGT\\t./.\\n',\n",
       " 'Y\\t5263800\\trs4030063\\tN\\t.\\t.\\t.\\tPR\\tGT\\t./.\\n',\n",
       " 'Y\\t5268653\\trs13303771\\tN\\t.\\t.\\t.\\tPR\\tGT\\t./.\\n',\n",
       " 'Y\\t5270504\\trs2573937\\tN\\t.\\t.\\t.\\tPR\\tGT\\t./.\\n',\n",
       " 'Y\\t5271819\\trs2573942\\tN\\t.\\t.\\t.\\tPR\\tGT\\t./.\\n',\n",
       " 'Y\\t5274434\\trs2573952\\tN\\t.\\t.\\t.\\tPR\\tGT\\t./.\\n',\n",
       " 'Y\\t5276875\\trs2573960\\tN\\t.\\t.\\t.\\tPR\\tGT\\t./.\\n',\n",
       " 'Y\\t5277543\\trs2573963\\tN\\t.\\t.\\t.\\tPR\\tGT\\t./.\\n',\n",
       " 'Y\\t5283478\\trs4030030\\tN\\t.\\t.\\t.\\tPR\\tGT\\t./.\\n',\n",
       " 'Y\\t5283839\\trs4030032\\tN\\t.\\t.\\t.\\tPR\\tGT\\t./.\\n',\n",
       " 'Y\\t5287617\\trs34815343\\tN\\t.\\t.\\t.\\tPR\\tGT\\t./.\\n',\n",
       " 'Y\\t5287832\\trs35073693\\tC\\t.\\t.\\t.\\tPR\\tGT\\t0/0\\n',\n",
       " 'Y\\t5291619\\trs13304498\\tN\\t.\\t.\\t.\\tPR\\tGT\\t./.\\n',\n",
       " 'Y\\t5292479\\trs13304710\\tN\\t.\\t.\\t.\\tPR\\tGT\\t./.\\n',\n",
       " 'Y\\t5292658\\trs13305901\\tN\\t.\\t.\\t.\\tPR\\tGT\\t./.\\n',\n",
       " 'Y\\t5298470\\trs2574010\\tN\\t.\\t.\\t.\\tPR\\tGT\\t./.\\n',\n",
       " 'Y\\t5302278\\trs2574019\\tN\\t.\\t.\\t.\\tPR\\tGT\\t./.\\n',\n",
       " 'Y\\t5304830\\trs2574036\\tN\\t.\\t.\\t.\\tPR\\tGT\\t./.\\n',\n",
       " 'Y\\t5304939\\trs2574037\\tN\\t.\\t.\\t.\\tPR\\tGT\\t./.\\n',\n",
       " 'Y\\t5305187\\trs2574040\\tN\\t.\\t.\\t.\\tPR\\tGT\\t./.\\n',\n",
       " 'Y\\t5306408\\trs2574048\\tN\\t.\\t.\\t.\\tPR\\tGT\\t./.\\n',\n",
       " 'Y\\t5307265\\trs2574057\\tN\\t.\\t.\\t.\\tPR\\tGT\\t./.\\n',\n",
       " 'Y\\t5309327\\trs2574077\\tN\\t.\\t.\\t.\\tPR\\tGT\\t./.\\n',\n",
       " 'Y\\t5311419\\trs2574093\\tN\\t.\\t.\\t.\\tPR\\tGT\\t./.\\n',\n",
       " 'Y\\t5313957\\trs2574100\\tN\\t.\\t.\\t.\\tPR\\tGT\\t./.\\n',\n",
       " 'Y\\t5314013\\trs2574101\\tN\\t.\\t.\\t.\\tPR\\tGT\\t./.\\n',\n",
       " 'Y\\t5314863\\trs2574103\\tN\\t.\\t.\\t.\\tPR\\tGT\\t./.\\n',\n",
       " 'Y\\t5315597\\trs2574105\\tN\\t.\\t.\\t.\\tPR\\tGT\\t./.\\n',\n",
       " 'Y\\t5319267\\trs2522705\\tN\\t.\\t.\\t.\\tPR\\tGT\\t./.\\n',\n",
       " 'Y\\t5319469\\trs2522704\\tN\\t.\\t.\\t.\\tPR\\tGT\\t./.\\n',\n",
       " 'Y\\t5327816\\trs2573752\\tN\\t.\\t.\\t.\\tPR\\tGT\\t./.\\n',\n",
       " 'Y\\t5334538\\trs2573769\\tN\\t.\\t.\\t.\\tPR\\tGT\\t./.\\n',\n",
       " 'Y\\t5337518\\trs2020061\\tN\\t.\\t.\\t.\\tPR\\tGT\\t./.\\n',\n",
       " 'Y\\t5339574\\trs2522676\\tN\\t.\\t.\\t.\\tPR\\tGT\\t./.\\n',\n",
       " 'Y\\t5339773\\trs34667571\\tN\\t.\\t.\\t.\\tPR\\tGT\\t./.\\n',\n",
       " 'Y\\t5340224\\trs2917206\\tN\\t.\\t.\\t.\\tPR\\tGT\\t./.\\n',\n",
       " 'Y\\t5340347\\trs2917208\\tN\\t.\\t.\\t.\\tPR\\tGT\\t./.\\n',\n",
       " 'Y\\t5340671\\trs2573802\\tN\\t.\\t.\\t.\\tPR\\tGT\\t./.\\n',\n",
       " 'Y\\t5350703\\trs34683662\\tN\\t.\\t.\\t.\\tPR\\tGT\\t./.\\n',\n",
       " 'Y\\t5351707\\trs2522620\\tN\\t.\\t.\\t.\\tPR\\tGT\\t./.\\n',\n",
       " 'Y\\t5354507\\trs35015089\\tN\\t.\\t.\\t.\\tPR\\tGT\\t./.\\n',\n",
       " 'Y\\t5356676\\trs2573831\\tN\\t.\\t.\\t.\\tPR\\tGT\\t./.\\n',\n",
       " 'Y\\t5357573\\trs2573835\\tN\\t.\\t.\\t.\\tPR\\tGT\\t./.\\n',\n",
       " 'Y\\t5358346\\trs2573838\\tA\\t.\\t.\\t.\\tPR\\tGT\\t0/0\\n',\n",
       " 'Y\\t5360092\\trs2573846\\tN\\t.\\t.\\t.\\tPR\\tGT\\t./.\\n',\n",
       " 'Y\\t5366445\\trs2522757\\tN\\t.\\t.\\t.\\tPR\\tGT\\t./.\\n',\n",
       " 'Y\\t5366585\\trs2573857\\tN\\t.\\t.\\t.\\tPR\\tGT\\t./.\\n',\n",
       " 'Y\\t5370861\\trs34636876\\tN\\t.\\t.\\t.\\tPR\\tGT\\t./.\\n',\n",
       " 'Y\\t5371937\\trs2522651\\tN\\t.\\t.\\t.\\tPR\\tGT\\t./.\\n',\n",
       " 'Y\\t5372797\\trs2573867\\tN\\t.\\t.\\t.\\tPR\\tGT\\t./.\\n',\n",
       " 'Y\\t5372983\\trs2905658\\tN\\t.\\t.\\t.\\tPR\\tGT\\t./.\\n',\n",
       " 'Y\\t5373561\\trs2754895\\tN\\t.\\t.\\t.\\tPR\\tGT\\t./.\\n',\n",
       " 'Y\\t5374345\\trs2754899\\tN\\t.\\t.\\t.\\tPR\\tGT\\t./.\\n',\n",
       " 'Y\\t5377315\\trs2573879\\tT\\t.\\t.\\t.\\tPR\\tGT\\t0/0\\n',\n",
       " 'Y\\t5382696\\trs2754935\\tN\\t.\\t.\\t.\\tPR\\tGT\\t./.\\n',\n",
       " 'Y\\t5384673\\trs2573897\\tN\\t.\\t.\\t.\\tPR\\tGT\\t./.\\n',\n",
       " 'Y\\t5385063\\trs4030007\\tN\\t.\\t.\\t.\\tPR\\tGT\\t./.\\n',\n",
       " 'Y\\t5385764\\trs35594593\\tN\\t.\\t.\\t.\\tPR\\tGT\\t./.\\n',\n",
       " 'Y\\t5390851\\trs2578896\\tN\\t.\\t.\\t.\\tPR\\tGT\\t./.\\n',\n",
       " 'Y\\t5390965\\trs2578902\\tN\\t.\\t.\\t.\\tPR\\tGT\\t./.\\n',\n",
       " 'Y\\t5398894\\trs2578735\\tN\\t.\\t.\\t.\\tPR\\tGT\\t./.\\n',\n",
       " 'Y\\t5398982\\trs2578736\\tN\\t.\\t.\\t.\\tPR\\tGT\\t./.\\n',\n",
       " 'Y\\t5401459\\trs2918583\\tN\\t.\\t.\\t.\\tPR\\tGT\\t./.\\n',\n",
       " 'Y\\t5406678\\trs2578765\\tN\\t.\\t.\\t.\\tPR\\tGT\\t./.\\n',\n",
       " 'Y\\t5407534\\trs35547721\\tN\\t.\\t.\\t.\\tPR\\tGT\\t./.\\n',\n",
       " 'Y\\t5407917\\trs2578769\\tN\\t.\\t.\\t.\\tPR\\tGT\\t./.\\n',\n",
       " 'Y\\t5410153\\trs2578781\\tN\\t.\\t.\\t.\\tPR\\tGT\\t./.\\n',\n",
       " 'Y\\t5411068\\trs2578787\\tN\\t.\\t.\\t.\\tPR\\tGT\\t./.\\n',\n",
       " 'Y\\t5411977\\trs2578791\\tN\\t.\\t.\\t.\\tPR\\tGT\\t./.\\n',\n",
       " 'Y\\t5412794\\trs2578797\\tN\\t.\\t.\\t.\\tPR\\tGT\\t./.\\n',\n",
       " 'Y\\t5413643\\trs2578803\\tN\\t.\\t.\\t.\\tPR\\tGT\\t./.\\n',\n",
       " 'Y\\t5414941\\trs2578813\\tN\\t.\\t.\\t.\\tPR\\tGT\\t./.\\n',\n",
       " 'Y\\t5419286\\trs2578830\\tN\\t.\\t.\\t.\\tPR\\tGT\\t./.\\n',\n",
       " 'Y\\t5420449\\trs2578840\\tN\\t.\\t.\\t.\\tPR\\tGT\\t./.\\n',\n",
       " 'Y\\t5426528\\trs2578861\\tN\\t.\\t.\\t.\\tPR\\tGT\\t./.\\n',\n",
       " 'Y\\t5426745\\trs2578863\\tN\\t.\\t.\\t.\\tPR\\tGT\\t./.\\n',\n",
       " 'Y\\t5434873\\trs36030761\\tN\\t.\\t.\\t.\\tPR\\tGT\\t./.\\n',\n",
       " 'Y\\t5437491\\trs35253647\\tG\\t.\\t.\\t.\\tPR\\tGT\\t0/0\\n',\n",
       " 'Y\\t5446444\\trs2578953\\tN\\t.\\t.\\t.\\tPR\\tGT\\t./.\\n',\n",
       " 'Y\\t5449444\\trs2578972\\tN\\t.\\t.\\t.\\tPR\\tGT\\t./.\\n',\n",
       " 'Y\\t5449477\\trs2578973\\tG\\t.\\t.\\t.\\tPR\\tGT\\t0/0\\n',\n",
       " 'Y\\t5449667\\trs2578975\\tA\\t.\\t.\\t.\\tPR\\tGT\\t0/0\\n',\n",
       " 'Y\\t5458035\\trs9645241\\tN\\t.\\t.\\t.\\tPR\\tGT\\t./.\\n',\n",
       " 'Y\\t5461036\\trs2557051\\tN\\t.\\t.\\t.\\tPR\\tGT\\t./.\\n',\n",
       " 'Y\\t5463470\\ti5900147\\tN\\t.\\t.\\t.\\tPR\\tGT\\t./.\\n',\n",
       " 'Y\\t5466851\\trs2557165\\tN\\t.\\t.\\t.\\tPR\\tGT\\t./.\\n',\n",
       " 'Y\\t5467529\\trs2557191\\tN\\t.\\t.\\t.\\tPR\\tGT\\t./.\\n',\n",
       " 'Y\\t5469643\\trs2750816\\tN\\t.\\t.\\t.\\tPR\\tGT\\t./.\\n',\n",
       " 'Y\\t5470697\\trs2557302\\tN\\t.\\t.\\t.\\tPR\\tGT\\t./.\\n',\n",
       " 'Y\\t5470887\\trs2556695\\tN\\t.\\t.\\t.\\tPR\\tGT\\t./.\\n',\n",
       " 'Y\\t5471629\\trs2556738\\tN\\t.\\t.\\t.\\tPR\\tGT\\t./.\\n',\n",
       " 'Y\\t5473592\\trs2556804\\tN\\t.\\t.\\t.\\tPR\\tGT\\t./.\\n',\n",
       " 'Y\\t5483968\\trs2557032\\tN\\t.\\t.\\t.\\tPR\\tGT\\t./.\\n',\n",
       " 'Y\\t5484253\\trs2557033\\tN\\t.\\t.\\t.\\tPR\\tGT\\t./.\\n',\n",
       " 'Y\\t5486420\\trs2557045\\tN\\t.\\t.\\t.\\tPR\\tGT\\t./.\\n',\n",
       " 'Y\\t5489419\\trs34609261\\tN\\t.\\t.\\t.\\tPR\\tGT\\t./.\\n',\n",
       " 'Y\\t5498015\\trs2750891\\tN\\t.\\t.\\t.\\tPR\\tGT\\t./.\\n',\n",
       " 'Y\\t5498398\\trs4029102\\tN\\t.\\t.\\t.\\tPR\\tGT\\t./.\\n',\n",
       " 'Y\\t5502755\\trs2557070\\tN\\t.\\t.\\t.\\tPR\\tGT\\t./.\\n',\n",
       " 'Y\\t5502934\\trs4029103\\tN\\t.\\t.\\t.\\tPR\\tGT\\t./.\\n',\n",
       " 'Y\\t5503212\\trs2557071\\tN\\t.\\t.\\t.\\tPR\\tGT\\t./.\\n',\n",
       " 'Y\\t5503299\\trs2750914\\tN\\t.\\t.\\t.\\tPR\\tGT\\t./.\\n',\n",
       " 'Y\\t5505501\\trs2557085\\tN\\t.\\t.\\t.\\tPR\\tGT\\t./.\\n',\n",
       " 'Y\\t5507956\\trs2557090\\tN\\t.\\t.\\t.\\tPR\\tGT\\t./.\\n',\n",
       " 'Y\\t5509658\\trs2557096\\tN\\t.\\t.\\t.\\tPR\\tGT\\t./.\\n',\n",
       " 'Y\\t5510069\\trs2557098\\tN\\t.\\t.\\t.\\tPR\\tGT\\t./.\\n',\n",
       " 'Y\\t5510737\\trs2557106\\tN\\t.\\t.\\t.\\tPR\\tGT\\t./.\\n',\n",
       " 'Y\\t5512132\\trs2557114\\tN\\t.\\t.\\t.\\tPR\\tGT\\t./.\\n',\n",
       " 'Y\\t5512600\\trs35269387\\tN\\t.\\t.\\t.\\tPR\\tGT\\t./.\\n',\n",
       " 'Y\\t5519068\\trs2557155\\tN\\t.\\t.\\t.\\tPR\\tGT\\t./.\\n',\n",
       " 'Y\\t5519571\\trs2557159\\tN\\t.\\t.\\t.\\tPR\\tGT\\t./.\\n',\n",
       " 'Y\\t5520540\\trs2557161\\tN\\t.\\t.\\t.\\tPR\\tGT\\t./.\\n',\n",
       " 'Y\\t5521610\\ti5900326\\tN\\t.\\t.\\t.\\tPR\\tGT\\t./.\\n',\n",
       " 'Y\\t5521648\\ti5900356\\tN\\t.\\t.\\t.\\tPR\\tGT\\t./.\\n',\n",
       " 'Y\\t5531055\\trs2557198\\tN\\t.\\t.\\t.\\tPR\\tGT\\t./.\\n',\n",
       " 'Y\\t5532302\\trs2750988\\tN\\t.\\t.\\t.\\tPR\\tGT\\t./.\\n',\n",
       " 'Y\\t5540703\\trs2557217\\tN\\t.\\t.\\t.\\tPR\\tGT\\t./.\\n',\n",
       " 'Y\\t5542746\\trs2557227\\tN\\t.\\t.\\t.\\tPR\\tGT\\t./.\\n',\n",
       " 'Y\\t5542931\\trs2557230\\tN\\t.\\t.\\t.\\tPR\\tGT\\t./.\\n',\n",
       " 'Y\\t5543830\\trs2557231\\tN\\t.\\t.\\t.\\tPR\\tGT\\t./.\\n',\n",
       " 'Y\\t5546038\\trs2557252\\tN\\t.\\t.\\t.\\tPR\\tGT\\t./.\\n',\n",
       " 'Y\\t5546352\\trs2557257\\tN\\t.\\t.\\t.\\tPR\\tGT\\t./.\\n',\n",
       " 'Y\\t5548849\\trs4020596\\tN\\t.\\t.\\t.\\tPR\\tGT\\t./.\\n',\n",
       " 'Y\\t5550538\\trs2557272\\tN\\t.\\t.\\t.\\tPR\\tGT\\t./.\\n',\n",
       " 'Y\\t5553914\\trs2557286\\tN\\t.\\t.\\t.\\tPR\\tGT\\t./.\\n',\n",
       " 'Y\\t5557491\\trs3950862\\tN\\t.\\t.\\t.\\tPR\\tGT\\t./.\\n',\n",
       " 'Y\\t5560349\\trs4029075\\tG\\t.\\t.\\t.\\tPR\\tGT\\t0/0\\n',\n",
       " 'Y\\t5566038\\trs2556716\\tN\\t.\\t.\\t.\\tPR\\tGT\\t./.\\n',\n",
       " 'Y\\t5568155\\trs2556732\\tN\\t.\\t.\\t.\\tPR\\tGT\\t./.\\n',\n",
       " 'Y\\t5571624\\trs34994472\\tN\\t.\\t.\\t.\\tPR\\tGT\\t./.\\n',\n",
       " 'Y\\t5574161\\trs2556753\\tN\\t.\\t.\\t.\\tPR\\tGT\\t./.\\n',\n",
       " 'Y\\t5574967\\trs2750610\\tN\\t.\\t.\\t.\\tPR\\tGT\\t./.\\n',\n",
       " 'Y\\t5577185\\trs9792836\\tC\\t.\\t.\\t.\\tPR\\tGT\\t0/0\\n',\n",
       " 'Y\\t5577743\\trs2556763\\tN\\t.\\t.\\t.\\tPR\\tGT\\t./.\\n',\n",
       " 'Y\\t5579528\\trs4029042\\tN\\t.\\t.\\t.\\tPR\\tGT\\t./.\\n',\n",
       " 'Y\\t5583114\\trs2556782\\tN\\t.\\t.\\t.\\tPR\\tGT\\t./.\\n',\n",
       " 'Y\\t5586370\\trs4029051\\tN\\t.\\t.\\t.\\tPR\\tGT\\t./.\\n',\n",
       " 'Y\\t5590152\\ti5900145\\tN\\t.\\t.\\t.\\tPR\\tGT\\t./.\\n',\n",
       " 'Y\\t5591207\\trs2556815\\tN\\t.\\t.\\t.\\tPR\\tGT\\t./.\\n',\n",
       " 'Y\\t5591646\\trs2556816\\tN\\t.\\t.\\t.\\tPR\\tGT\\t./.\\n',\n",
       " 'Y\\t5596380\\trs2556835\\tN\\t.\\t.\\t.\\tPR\\tGT\\t./.\\n',\n",
       " 'Y\\t5596613\\trs34539720\\tN\\t.\\t.\\t.\\tPR\\tGT\\t./.\\n',\n",
       " 'Y\\t5600534\\trs2556854\\tN\\t.\\t.\\t.\\tPR\\tGT\\t./.\\n',\n",
       " 'Y\\t5600765\\trs2556858\\tN\\t.\\t.\\t.\\tPR\\tGT\\t./.\\n',\n",
       " 'Y\\t5603640\\trs2556876\\tN\\t.\\t.\\t.\\tPR\\tGT\\t./.\\n',\n",
       " 'Y\\t5604122\\trs2556882\\tN\\t.\\t.\\t.\\tPR\\tGT\\t./.\\n',\n",
       " 'Y\\t5605520\\trs2556895\\tN\\t.\\t.\\t.\\tPR\\tGT\\t./.\\n',\n",
       " 'Y\\t5607368\\trs2556911\\tN\\t.\\t.\\t.\\tPR\\tGT\\t./.\\n',\n",
       " 'Y\\t5608402\\trs2556916\\tN\\t.\\t.\\t.\\tPR\\tGT\\t./.\\n',\n",
       " 'Y\\t5608654\\trs2556917\\tN\\t.\\t.\\t.\\tPR\\tGT\\t./.\\n',\n",
       " 'Y\\t5608878\\trs2556920\\tN\\t.\\t.\\t.\\tPR\\tGT\\t./.\\n',\n",
       " 'Y\\t5641166\\trs2751444\\tN\\t.\\t.\\t.\\tPR\\tGT\\t./.\\n',\n",
       " 'Y\\t5650504\\trs2565263\\tN\\t.\\t.\\t.\\tPR\\tGT\\t./.\\n',\n",
       " 'Y\\t5669748\\trs2751551\\tN\\t.\\t.\\t.\\tPR\\tGT\\t./.\\n',\n",
       " 'Y\\t5669973\\trs2565366\\tN\\t.\\t.\\t.\\tPR\\tGT\\t./.\\n',\n",
       " 'Y\\t5670137\\trs2751553\\tN\\t.\\t.\\t.\\tPR\\tGT\\t./.\\n',\n",
       " 'Y\\t5672315\\trs2565375\\tN\\t.\\t.\\t.\\tPR\\tGT\\t./.\\n',\n",
       " 'Y\\t5674177\\trs3853041\\tT\\t.\\t.\\t.\\tPR\\tGT\\t0/0\\n',\n",
       " 'Y\\t5675094\\trs2565384\\tN\\t.\\t.\\t.\\tPR\\tGT\\t./.\\n',\n",
       " 'Y\\t5680126\\trs2355037\\tN\\t.\\t.\\t.\\tPR\\tGT\\t./.\\n',\n",
       " 'Y\\t5680174\\trs2355039\\tN\\t.\\t.\\t.\\tPR\\tGT\\t./.\\n',\n",
       " 'Y\\t5680894\\trs2565393\\tC\\t.\\t.\\t.\\tPR\\tGT\\t0/0\\n',\n",
       " 'Y\\t5681553\\trs2751615\\tN\\t.\\t.\\t.\\tPR\\tGT\\t./.\\n',\n",
       " 'Y\\t5691725\\trs2565421\\tN\\t.\\t.\\t.\\tPR\\tGT\\t./.\\n',\n",
       " 'Y\\t5692055\\trs2565424\\tN\\t.\\t.\\t.\\tPR\\tGT\\t./.\\n',\n",
       " 'Y\\t5692371\\trs2565425\\tN\\t.\\t.\\t.\\tPR\\tGT\\t./.\\n',\n",
       " 'Y\\t5695824\\trs2565444\\tN\\t.\\t.\\t.\\tPR\\tGT\\t./.\\n',\n",
       " 'Y\\t5697256\\trs2565454\\tN\\t.\\t.\\t.\\tPR\\tGT\\t./.\\n',\n",
       " 'Y\\t5699468\\trs9785685\\tG\\t.\\t.\\t.\\tPR\\tGT\\t0/0\\n',\n",
       " 'Y\\t5720090\\trs2565543\\tN\\t.\\t.\\t.\\tPR\\tGT\\t./.\\n',\n",
       " 'Y\\t5728712\\trs2565569\\tN\\t.\\t.\\t.\\tPR\\tGT\\t./.\\n',\n",
       " 'Y\\t5729144\\trs2565574\\tN\\t.\\t.\\t.\\tPR\\tGT\\t./.\\n',\n",
       " 'Y\\t5742149\\trs2751223\\tN\\t.\\t.\\t.\\tPR\\tGT\\t./.\\n',\n",
       " 'Y\\t5754102\\trs2566618\\tN\\t.\\t.\\t.\\tPR\\tGT\\t./.\\n',\n",
       " 'Y\\t5755550\\trs2566671\\tC\\t.\\t.\\t.\\tPR\\tGT\\t0/0\\n',\n",
       " 'Y\\t5755943\\trs2566673\\tN\\t.\\t.\\t.\\tPR\\tGT\\t./.\\n',\n",
       " 'Y\\t5756577\\trs2566675\\tN\\t.\\t.\\t.\\tPR\\tGT\\t./.\\n',\n",
       " 'Y\\t5760427\\trs2566702\\tN\\t.\\t.\\t.\\tPR\\tGT\\t./.\\n',\n",
       " 'Y\\t5779887\\trs2566616\\tA\\t.\\t.\\t.\\tPR\\tGT\\t0/0\\n',\n",
       " 'Y\\t5789456\\trs2566661\\tN\\t.\\t.\\t.\\tPR\\tGT\\t./.\\n',\n",
       " 'Y\\t5814639\\trs2435746\\tN\\t.\\t.\\t.\\tPR\\tGT\\t./.\\n',\n",
       " 'Y\\t5820098\\trs2435760\\tN\\t.\\t.\\t.\\tPR\\tGT\\t./.\\n',\n",
       " 'Y\\t5830229\\trs2355491\\tN\\t.\\t.\\t.\\tPR\\tGT\\t./.\\n',\n",
       " 'Y\\t5840019\\trs2355500\\tN\\t.\\t.\\t.\\tPR\\tGT\\t./.\\n',\n",
       " 'Y\\t5842532\\trs2262822\\tN\\t.\\t.\\t.\\tPR\\tGT\\t./.\\n',\n",
       " 'Y\\t5849209\\trs2500849\\tN\\t.\\t.\\t.\\tPR\\tGT\\t./.\\n',\n",
       " 'Y\\t5853004\\trs2506253\\tN\\t.\\t.\\t.\\tPR\\tGT\\t./.\\n',\n",
       " 'Y\\t5857806\\trs5983165\\tN\\t.\\t.\\t.\\tPR\\tGT\\t./.\\n',\n",
       " 'Y\\t5869480\\trs2435658\\tN\\t.\\t.\\t.\\tPR\\tGT\\t./.\\n',\n",
       " 'Y\\t5870549\\trs4475686\\tN\\t.\\t.\\t.\\tPR\\tGT\\t./.\\n',\n",
       " 'Y\\t5878877\\trs2500851\\tN\\t.\\t.\\t.\\tPR\\tGT\\t./.\\n',\n",
       " 'Y\\t5887601\\trs2441270\\tN\\t.\\t.\\t.\\tPR\\tGT\\t./.\\n',\n",
       " 'Y\\t5897758\\trs34993573\\tN\\t.\\t.\\t.\\tPR\\tGT\\t./.\\n',\n",
       " 'Y\\t5907588\\trs5983224\\tN\\t.\\t.\\t.\\tPR\\tGT\\t./.\\n',\n",
       " 'Y\\t5908282\\trs9785989\\tG\\t.\\t.\\t.\\tPR\\tGT\\t0/0\\n',\n",
       " 'Y\\t5908658\\trs2044439\\tN\\t.\\t.\\t.\\tPR\\tGT\\t./.\\n',\n",
       " 'Y\\t5917202\\trs5940260\\tN\\t.\\t.\\t.\\tPR\\tGT\\t./.\\n',\n",
       " 'Y\\t5929453\\trs2921683\\tN\\t.\\t.\\t.\\tPR\\tGT\\t./.\\n',\n",
       " 'Y\\t5942568\\trs2499282\\tN\\t.\\t.\\t.\\tPR\\tGT\\t./.\\n',\n",
       " 'Y\\t5944384\\trs2921693\\tN\\t.\\t.\\t.\\tPR\\tGT\\t./.\\n',\n",
       " 'Y\\t5947443\\trs2441325\\tA\\t.\\t.\\t.\\tPR\\tGT\\t0/0\\n',\n",
       " 'Y\\t5950884\\trs17276777\\tG\\t.\\t.\\t.\\tPR\\tGT\\t0/0\\n',\n",
       " 'Y\\t5954048\\trs2441340\\tN\\t.\\t.\\t.\\tPR\\tGT\\t./.\\n',\n",
       " 'Y\\t5965169\\trs4247397\\tA\\t.\\t.\\t.\\tPR\\tGT\\t0/0\\n',\n",
       " 'Y\\t5972377\\trs2433989\\tN\\t.\\t.\\t.\\tPR\\tGT\\t./.\\n',\n",
       " 'Y\\t5973640\\trs2913069\\tN\\t.\\t.\\t.\\tPR\\tGT\\t./.\\n',\n",
       " 'Y\\t5973792\\trs4892986\\tN\\t.\\t.\\t.\\tPR\\tGT\\t./.\\n',\n",
       " 'Y\\t5977725\\trs2500820\\tN\\t.\\t.\\t.\\tPR\\tGT\\t./.\\n',\n",
       " 'Y\\t5984066\\trs2500785\\tN\\t.\\t.\\t.\\tPR\\tGT\\t./.\\n',\n",
       " 'Y\\t5990878\\trs2558372\\tA\\t.\\t.\\t.\\tPR\\tGT\\t0/0\\n',\n",
       " 'Y\\t6000464\\trs7067483\\tT\\t.\\t.\\t.\\tPR\\tGT\\t0/0\\n',\n",
       " 'Y\\t6006768\\trs2500814\\tN\\t.\\t.\\t.\\tPR\\tGT\\t./.\\n',\n",
       " 'Y\\t6019934\\trs13305851\\tN\\t.\\t.\\t.\\tPR\\tGT\\t./.\\n',\n",
       " 'Y\\t6020045\\trs35249712\\tN\\t.\\t.\\t.\\tPR\\tGT\\t./.\\n',\n",
       " 'Y\\t6027715\\trs2558426\\tN\\t.\\t.\\t.\\tPR\\tGT\\t./.\\n',\n",
       " 'Y\\t6036449\\trs34731508\\tN\\t.\\t.\\t.\\tPR\\tGT\\t./.\\n',\n",
       " 'Y\\t6039351\\trs2356102\\tN\\t.\\t.\\t.\\tPR\\tGT\\t./.\\n',\n",
       " 'Y\\t6047829\\trs2558453\\tN\\t.\\t.\\t.\\tPR\\tGT\\t./.\\n',\n",
       " 'Y\\t6059628\\trs36020501\\tN\\t.\\t.\\t.\\tPR\\tGT\\t./.\\n',\n",
       " 'Y\\t6068187\\trs2558223\\tN\\t.\\t.\\t.\\tPR\\tGT\\t./.\\n',\n",
       " 'Y\\t6073524\\trs2558231\\tN\\t.\\t.\\t.\\tPR\\tGT\\t./.\\n',\n",
       " 'Y\\t6073852\\trs4028025\\tN\\t.\\t.\\t.\\tPR\\tGT\\t./.\\n',\n",
       " 'Y\\t6086168\\trs2558282\\tN\\t.\\t.\\t.\\tPR\\tGT\\t./.\\n',\n",
       " 'Y\\t6099342\\trs890649\\tN\\t.\\t.\\t.\\tPR\\tGT\\t./.\\n',\n",
       " 'Y\\t6099477\\trs2081781\\tN\\t.\\t.\\t.\\tPR\\tGT\\t./.\\n',\n",
       " 'Y\\t6188857\\trs2535871\\tN\\t.\\t.\\t.\\tPR\\tGT\\t./.\\n',\n",
       " 'Y\\t6345565\\trs34725497\\tN\\t.\\t.\\t.\\tPR\\tGT\\t./.\\n',\n",
       " 'Y\\t6356478\\trs2559454\\tN\\t.\\t.\\t.\\tPR\\tGT\\t./.\\n',\n",
       " 'Y\\t6382434\\trs34103881\\tN\\t.\\t.\\t.\\tPR\\tGT\\t./.\\n',\n",
       " 'Y\\t6396806\\trs2645182\\tN\\t.\\t.\\t.\\tPR\\tGT\\t./.\\n',\n",
       " 'Y\\t6404526\\trs13303899\\tN\\t.\\t.\\t.\\tPR\\tGT\\t./.\\n',\n",
       " 'Y\\t6408124\\trs2760594\\tN\\t.\\t.\\t.\\tPR\\tGT\\t./.\\n',\n",
       " 'Y\\t6421339\\trs2558931\\tN\\t.\\t.\\t.\\tPR\\tGT\\t./.\\n',\n",
       " 'Y\\t6422525\\trs7067316\\tG\\t.\\t.\\t.\\tPR\\tGT\\t0/0\\n',\n",
       " 'Y\\t6435266\\trs2558950\\tN\\t.\\t.\\t.\\tPR\\tGT\\t./.\\n',\n",
       " 'Y\\t6449519\\trs2356627\\tN\\t.\\t.\\t.\\tPR\\tGT\\t./.\\n',\n",
       " 'Y\\t6455097\\trs3097105\\tN\\t.\\t.\\t.\\tPR\\tGT\\t./.\\n',\n",
       " 'Y\\t6460016\\trs2760635\\tN\\t.\\t.\\t.\\tPR\\tGT\\t./.\\n',\n",
       " 'Y\\t6473598\\trs35584316\\tN\\t.\\t.\\t.\\tPR\\tGT\\t./.\\n',\n",
       " 'Y\\t6478894\\trs1896823\\tN\\t.\\t.\\t.\\tPR\\tGT\\t./.\\n',\n",
       " 'Y\\t6479625\\trs2766317\\tN\\t.\\t.\\t.\\tPR\\tGT\\t./.\\n',\n",
       " 'Y\\t6482118\\trs1529515\\tN\\t.\\t.\\t.\\tPR\\tGT\\t./.\\n',\n",
       " 'Y\\t6482134\\trs1366705\\tN\\t.\\t.\\t.\\tPR\\tGT\\t./.\\n',\n",
       " 'Y\\t6482140\\trs1529516\\tG\\t.\\t.\\t.\\tPR\\tGT\\t0/0\\n',\n",
       " 'Y\\t6509669\\trs2558741\\tN\\t.\\t.\\t.\\tPR\\tGT\\t./.\\n',\n",
       " 'Y\\t6530338\\trs2558812\\tN\\t.\\t.\\t.\\tPR\\tGT\\t./.\\n',\n",
       " 'Y\\t6537199\\trs2558833\\tN\\t.\\t.\\t.\\tPR\\tGT\\t./.\\n',\n",
       " 'Y\\t6541648\\trs4027633\\tN\\t.\\t.\\t.\\tPR\\tGT\\t./.\\n',\n",
       " 'Y\\t6575897\\trs2580599\\tN\\t.\\t.\\t.\\tPR\\tGT\\t./.\\n',\n",
       " 'Y\\t6575915\\trs2580600\\tN\\t.\\t.\\t.\\tPR\\tGT\\t./.\\n',\n",
       " 'Y\\t6579939\\trs2580625\\tN\\t.\\t.\\t.\\tPR\\tGT\\t./.\\n',\n",
       " 'Y\\t6582106\\trs2580641\\tG\\t.\\t.\\t.\\tPR\\tGT\\t0/0\\n',\n",
       " 'Y\\t6597755\\trs2751939\\tN\\t.\\t.\\t.\\tPR\\tGT\\t./.\\n',\n",
       " 'Y\\t6601364\\trs2580675\\tT\\t.\\t.\\t.\\tPR\\tGT\\t0/0\\n',\n",
       " 'Y\\t6602071\\trs2751964\\tN\\t.\\t.\\t.\\tPR\\tGT\\t./.\\n',\n",
       " 'Y\\t6605096\\trs34764213\\tN\\t.\\t.\\t.\\tPR\\tGT\\t./.\\n',\n",
       " 'Y\\t6611498\\trs2580701\\tN\\t.\\t.\\t.\\tPR\\tGT\\t./.\\n',\n",
       " 'Y\\t6612488\\trs35455182\\tN\\t.\\t.\\t.\\tPR\\tGT\\t./.\\n',\n",
       " 'Y\\t6614629\\trs2580721\\tN\\t.\\t.\\t.\\tPR\\tGT\\t./.\\n',\n",
       " 'Y\\t6615362\\trs2580724\\tN\\t.\\t.\\t.\\tPR\\tGT\\t./.\\n',\n",
       " 'Y\\t6660077\\trs9785663\\tT\\t.\\t.\\t.\\tPR\\tGT\\t0/0\\n',\n",
       " 'Y\\t6661973\\trs4121530\\tA\\t.\\t.\\t.\\tPR\\tGT\\t0/0\\n',\n",
       " 'Y\\t6736154\\trs2071394\\tN\\t.\\t.\\t.\\tPR\\tGT\\t./.\\n',\n",
       " 'Y\\t6736443\\trs35815655\\tC\\t.\\t.\\t.\\tPR\\tGT\\t0/0\\n',\n",
       " 'Y\\t6736812\\trs34820858\\tN\\t.\\t.\\t.\\tPR\\tGT\\t./.\\n',\n",
       " 'Y\\t6739738\\ti4000280\\tT\\t.\\t.\\t.\\tPR\\tGT\\t0/0\\n',\n",
       " 'Y\\t6739767\\ti5049566\\tN\\t.\\t.\\t.\\tPR\\tGT\\t./.\\n',\n",
       " 'Y\\t6739768\\ti4000273\\tN\\t.\\t.\\t.\\tPR\\tGT\\t./.\\n',\n",
       " 'Y\\t6739772\\ti5049565\\tN\\t.\\t.\\t.\\tPR\\tGT\\t./.\\n',\n",
       " 'Y\\t6739773\\ti4000272\\tN\\t.\\t.\\t.\\tPR\\tGT\\t./.\\n',\n",
       " 'Y\\t6739826\\ti5049564\\tN\\t.\\t.\\t.\\tPR\\tGT\\t./.\\n',\n",
       " 'Y\\t6739827\\ti4000271\\tN\\t.\\t.\\t.\\tPR\\tGT\\t./.\\n',\n",
       " 'Y\\t6739856\\ti5049563\\tN\\t.\\t.\\t.\\tPR\\tGT\\t./.\\n',\n",
       " 'Y\\t6739857\\ti4000256\\tN\\t.\\t.\\t.\\tPR\\tGT\\t./.\\n',\n",
       " 'Y\\t6739858\\ti4000277\\tN\\t.\\t.\\t.\\tPR\\tGT\\t./.\\n',\n",
       " 'Y\\t6739899\\ti4000270\\tC\\t.\\t.\\t.\\tPR\\tGT\\t0/0\\n',\n",
       " 'Y\\t6739901\\ti4000269\\tG\\t.\\t.\\t.\\tPR\\tGT\\t0/0\\n',\n",
       " 'Y\\t6740171\\ti5049592\\tA\\t.\\t.\\t.\\tPR\\tGT\\t0/0\\n',\n",
       " 'Y\\t6740172\\ti4000275\\tG\\t.\\t.\\t.\\tPR\\tGT\\t0/0\\n',\n",
       " 'Y\\t6740376\\ti4000224\\tT\\t.\\t.\\t.\\tPR\\tGT\\t0/0\\n',\n",
       " 'Y\\t6740377\\ti5049561\\tA\\t.\\t.\\t.\\tPR\\tGT\\t0/0\\n',\n",
       " 'Y\\t6740387\\ti5049560\\tG\\t.\\t.\\t.\\tPR\\tGT\\t0/0\\n',\n",
       " 'Y\\t6740704\\trs34551924\\tA\\t.\\t.\\t.\\tPR\\tGT\\t0/0\\n',\n",
       " 'Y\\t6752012\\ti5049648\\tC\\t.\\t.\\t.\\tPR\\tGT\\t0/0\\n',\n",
       " 'Y\\t6753344\\ti5049637\\tN\\t.\\t.\\t.\\tPR\\tGT\\t./.\\n',\n",
       " 'Y\\t6768265\\ti4000054\\tG\\t.\\t.\\t.\\tPR\\tGT\\t0/0\\n',\n",
       " 'Y\\t6814246\\ti4000252\\tT\\t.\\t.\\t.\\tPR\\tGT\\t0/0\\n',\n",
       " 'Y\\t6823099\\ti4000246\\tA\\t.\\t.\\t.\\tPR\\tGT\\t0/0\\n',\n",
       " 'Y\\t6842263\\ti4000247\\tG\\t.\\t.\\t.\\tPR\\tGT\\t0/0\\n',\n",
       " 'Y\\t6872105\\ti5049640\\tA\\t.\\t.\\t.\\tPR\\tGT\\t0/0\\n',\n",
       " 'Y\\t6872176\\ti5049641\\tT\\t.\\t.\\t.\\tPR\\tGT\\t0/0\\n',\n",
       " 'Y\\t6883856\\trs13304246\\tC\\t.\\t.\\t.\\tPR\\tGT\\t0/0\\n',\n",
       " 'Y\\t6893093\\trs34555473\\tA\\t.\\t.\\t.\\tPR\\tGT\\t0/0\\n',\n",
       " 'Y\\t6896051\\ti4000250\\tA\\t.\\t.\\t.\\tPR\\tGT\\t0/0\\n',\n",
       " 'Y\\t6902475\\ti5900293\\tC\\t.\\t.\\t.\\tPR\\tGT\\t0/0\\n',\n",
       " 'Y\\t6932007\\ti4000253\\tG\\t.\\t.\\t.\\tPR\\tGT\\t0/0\\n',\n",
       " 'Y\\t6932148\\ti4000169\\tG\\t.\\t.\\t.\\tPR\\tGT\\t0/0\\n',\n",
       " 'Y\\t6932199\\trs35573420\\tG\\t.\\t.\\t.\\tPR\\tGT\\t0/0\\n',\n",
       " 'Y\\t6932821\\ti4000251\\tG\\t.\\t.\\t.\\tPR\\tGT\\t0/0\\n',\n",
       " 'Y\\t6938119\\trs34559651\\tG\\t.\\t.\\t.\\tPR\\tGT\\t0/0\\n',\n",
       " 'Y\\t6938665\\trs36044179\\tA\\t.\\t.\\t.\\tPR\\tGT\\t0/0\\n',\n",
       " 'Y\\t6941218\\trs9306845\\tA\\t.\\t.\\t.\\tPR\\tGT\\t0/0\\n',\n",
       " 'Y\\t6943622\\trs13303512\\tT\\t.\\t.\\t.\\tPR\\tGT\\t0/0\\n',\n",
       " 'Y\\t6952003\\trs13305783\\tT\\t.\\t.\\t.\\tPR\\tGT\\t0/0\\n',\n",
       " 'Y\\t6952036\\trs13303951\\tG\\t.\\t.\\t.\\tPR\\tGT\\t0/0\\n',\n",
       " 'Y\\t6954470\\trs35623864\\tC\\t.\\t.\\t.\\tPR\\tGT\\t0/0\\n',\n",
       " 'Y\\t6958165\\trs34137545\\tC\\t.\\t.\\t.\\tPR\\tGT\\t0/0\\n',\n",
       " 'Y\\t6961386\\trs13304047\\tT\\t.\\t.\\t.\\tPR\\tGT\\t0/0\\n',\n",
       " 'Y\\t6965215\\trs16981311\\tC\\t.\\t.\\t.\\tPR\\tGT\\t0/0\\n',\n",
       " 'Y\\t6973766\\trs11799127\\tN\\t.\\t.\\t.\\tPR\\tGT\\t./.\\n',\n",
       " 'Y\\t6995523\\trs7893107\\tA\\t.\\t.\\t.\\tPR\\tGT\\t0/0\\n',\n",
       " 'Y\\t7028463\\trs9786918\\tG\\t.\\t.\\t.\\tPR\\tGT\\t0/0\\n',\n",
       " 'Y\\t7050339\\trs11799245\\tT\\t.\\t.\\t.\\tPR\\tGT\\t0/0\\n',\n",
       " 'Y\\t7113556\\trs3097050\\tC\\t.\\t.\\t.\\tPR\\tGT\\t0/0\\n',\n",
       " 'Y\\t7126454\\trs13305727\\tN\\t.\\t.\\t.\\tPR\\tGT\\t./.\\n',\n",
       " 'Y\\t7134400\\trs3116342\\tN\\t.\\t.\\t.\\tPR\\tGT\\t./.\\n',\n",
       " 'Y\\t7136294\\trs3097068\\tA\\t.\\t.\\t.\\tPR\\tGT\\t0/0\\n',\n",
       " 'Y\\t7137638\\trs3116336\\tC\\t.\\t.\\t.\\tPR\\tGT\\t0/0\\n',\n",
       " 'Y\\t7142860\\trs3116326\\tC\\t.\\t.\\t.\\tPR\\tGT\\t0/0\\n',\n",
       " 'Y\\t7145620\\trs3109990\\tG\\t.\\t.\\t.\\tPR\\tGT\\t0/0\\n',\n",
       " 'Y\\t7146209\\trs3097074\\tG\\t.\\t.\\t.\\tPR\\tGT\\t0/0\\n',\n",
       " 'Y\\t7148620\\trs5016630\\tN\\t.\\t.\\t.\\tPR\\tGT\\t./.\\n',\n",
       " 'Y\\t7149287\\trs5017119\\tN\\t.\\t.\\t.\\tPR\\tGT\\t./.\\n',\n",
       " 'Y\\t7154345\\trs3097081\\tA\\t.\\t.\\t.\\tPR\\tGT\\t0/0\\n',\n",
       " 'Y\\t7155343\\trs34196539\\tN\\t.\\t.\\t.\\tPR\\tGT\\t./.\\n',\n",
       " 'Y\\t7160115\\trs3097091\\tC\\t.\\t.\\t.\\tPR\\tGT\\t0/0\\n',\n",
       " 'Y\\t7167759\\trs4998149\\tN\\t.\\t.\\t.\\tPR\\tGT\\t./.\\n',\n",
       " 'Y\\t7171069\\trs3097103\\tA\\t.\\t.\\t.\\tPR\\tGT\\t0/0\\n',\n",
       " 'Y\\t7171957\\trs35147341\\tG\\t.\\t.\\t.\\tPR\\tGT\\t0/0\\n',\n",
       " 'Y\\t7184140\\trs9786278\\tC\\t.\\t.\\t.\\tPR\\tGT\\t0/0\\n',\n",
       " 'Y\\t7184141\\trs9786281\\tC\\t.\\t.\\t.\\tPR\\tGT\\t0/0\\n',\n",
       " 'Y\\t7188046\\trs5021083\\tN\\t.\\t.\\t.\\tPR\\tGT\\t./.\\n',\n",
       " 'Y\\t7188058\\trs5021081\\tG\\t.\\t.\\t.\\tPR\\tGT\\t0/0\\n',\n",
       " 'Y\\t7209642\\trs5017101\\tG\\t.\\t.\\t.\\tPR\\tGT\\t0/0\\n',\n",
       " 'Y\\t7218079\\trs4988808\\tN\\t.\\t.\\t.\\tPR\\tGT\\t./.\\n',\n",
       " 'Y\\t7218200\\trs4988804\\tN\\t.\\t.\\t.\\tPR\\tGT\\t./.\\n',\n",
       " 'Y\\t7235379\\trs35195174\\tG\\t.\\t.\\t.\\tPR\\tGT\\t0/0\\n',\n",
       " 'Y\\t7241448\\trs7893122\\tG\\t.\\t.\\t.\\tPR\\tGT\\t0/0\\n',\n",
       " 'Y\\t7241566\\trs7892859\\tT\\t.\\t.\\t.\\tPR\\tGT\\t0/0\\n',\n",
       " 'Y\\t7241735\\trs7892979\\tN\\t.\\t.\\t.\\tPR\\tGT\\t./.\\n',\n",
       " 'Y\\t7245239\\trs3210288\\tT\\t.\\t.\\t.\\tPR\\tGT\\t0/0\\n',\n",
       " 'Y\\t7248246\\trs1056374\\tN\\t.\\t.\\t.\\tPR\\tGT\\t./.\\n',\n",
       " 'Y\\t7249562\\trs3210290\\tT\\t.\\t.\\t.\\tPR\\tGT\\t0/0\\n',\n",
       " 'Y\\t7291534\\trs3899\\tG\\t.\\t.\\t.\\tPR\\tGT\\t0/0\\n',\n",
       " 'Y\\t7298921\\trs9785828\\tN\\t.\\t.\\t.\\tPR\\tGT\\t./.\\n',\n",
       " 'Y\\t7314381\\trs13303543\\tT\\t.\\t.\\t.\\tPR\\tGT\\t0/0\\n',\n",
       " 'Y\\t7332132\\trs16980749\\tC\\t.\\t.\\t.\\tPR\\tGT\\t0/0\\n',\n",
       " 'Y\\t7353564\\trs13303732\\tN\\t.\\t.\\t.\\tPR\\tGT\\t./.\\n',\n",
       " 'Y\\t7391161\\trs7067310\\tN\\t.\\t.\\t.\\tPR\\tGT\\t./.\\n',\n",
       " 'Y\\t7391164\\trs7067408\\tN\\t.\\t.\\t.\\tPR\\tGT\\t./.\\n',\n",
       " 'Y\\t7395806\\trs9786877\\tN\\t.\\t.\\t.\\tPR\\tGT\\t./.\\n',\n",
       " 'Y\\t7400278\\trs35040605\\tG\\t.\\t.\\t.\\tPR\\tGT\\t0/0\\n',\n",
       " 'Y\\t7444042\\trs34555185\\tN\\t.\\t.\\t.\\tPR\\tGT\\t./.\\n',\n",
       " 'Y\\t7446682\\trs2730402\\tN\\t.\\t.\\t.\\tPR\\tGT\\t./.\\n',\n",
       " 'Y\\t7499341\\trs2538931\\tN\\t.\\t.\\t.\\tPR\\tGT\\t./.\\n',\n",
       " 'Y\\t7506033\\trs2538953\\tN\\t.\\t.\\t.\\tPR\\tGT\\t./.\\n',\n",
       " 'Y\\t7513592\\trs13303557\\tN\\t.\\t.\\t.\\tPR\\tGT\\t./.\\n',\n",
       " 'Y\\t7546726\\trs2075181\\tG\\t.\\t.\\t.\\tPR\\tGT\\t0/0\\n',\n",
       " 'Y\\t7548900\\trs2078144\\tN\\t.\\t.\\t.\\tPR\\tGT\\t./.\\n',\n",
       " 'Y\\t7548915\\trs17316597\\tG\\t.\\t.\\t.\\tPR\\tGT\\t0/0\\n',\n",
       " 'Y\\t7549445\\trs9786518\\tA\\t.\\t.\\t.\\tPR\\tGT\\t0/0\\n',\n",
       " 'Y\\t7568568\\trs16981290\\tC\\t.\\t.\\t.\\tPR\\tGT\\t0/0\\n',\n",
       " 'Y\\t7570822\\trs1005041\\tN\\t.\\t.\\t.\\tPR\\tGT\\t./.\\n',\n",
       " 'Y\\t7583254\\ti3000076\\tT\\t.\\t.\\t.\\tPR\\tGT\\t0/0\\n',\n",
       " 'Y\\t7583271\\ti3000068\\tA\\t.\\t.\\t.\\tPR\\tGT\\t0/0\\n',\n",
       " 'Y\\t7583480\\trs3903\\tG\\t.\\t.\\t.\\tPR\\tGT\\t0/0\\n',\n",
       " 'Y\\t7602738\\trs11096448\\tG\\t.\\t.\\t.\\tPR\\tGT\\t0/0\\n',\n",
       " 'Y\\t7628484\\trs7892900\\tC\\t.\\t.\\t.\\tPR\\tGT\\t0/0\\n',\n",
       " 'Y\\t7635648\\trs9786179\\tG\\t.\\t.\\t.\\tPR\\tGT\\t0/0\\n',\n",
       " ...]"
      ]
     },
     "execution_count": 46,
     "metadata": {},
     "output_type": "execute_result"
    }
   ],
   "source": [
    "data_dir = 'data'\n",
    "with open(os.path.join(data_dir, 'snps.vcf')) as vcf_file:\n",
    "    lines = vcf_file.readlines()\n",
    "\n",
    "lines"
   ]
  },
  {
   "cell_type": "code",
   "execution_count": 50,
   "id": "872b1b03",
   "metadata": {},
   "outputs": [
    {
     "name": "stdout",
     "output_type": "stream",
     "text": [
      "##fileformat=VCFv4.2\n",
      "\n",
      "а\n"
     ]
    }
   ],
   "source": [
    "data_dir = 'data'\n",
    "with open(os.path.join(data_dir, 'snps.vcf')) as vcf_file:\n",
    "    line = vcf_file.readline()\n",
    "    print(line)\n",
    "\n",
    "print(\"_\")"
   ]
  },
  {
   "cell_type": "code",
   "execution_count": 52,
   "id": "b6402fa5",
   "metadata": {},
   "outputs": [
    {
     "name": "stdout",
     "output_type": "stream",
     "text": [
      "##fileformat=VCFv4.2\n",
      "##fileDate=20230207\n",
      "_\n"
     ]
    }
   ],
   "source": [
    "data_dir = 'data'\n",
    "with open(os.path.join(data_dir, 'snps.vcf')) as vcf_file:\n",
    "    line = vcf_file.readline()\n",
    "    print(line, end=\"\")\n",
    "\n",
    "    line = vcf_file.readline()\n",
    "    print(line, end=\"\")\n",
    "\n",
    "print(\"_\")"
   ]
  },
  {
   "cell_type": "code",
   "execution_count": 44,
   "id": "d9385661-6c0d-4673-8d32-4d2267d87129",
   "metadata": {},
   "outputs": [
    {
     "name": "stdout",
     "output_type": "stream",
     "text": [
      "##fileformat=VCFv4.2\n",
      "##fileDate=20230207\n"
     ]
    }
   ],
   "source": [
    "data_dir = 'data'\n",
    "with open(os.path.join(data_dir, 'snps.vcf')) as vcf_file:\n",
    "    print(vcf_file.readline(), end='')\n",
    "    print(vcf_file.readline(), end='')"
   ]
  },
  {
   "cell_type": "markdown",
   "id": "8f53f92c-c25e-4b29-9d1c-834b5f6cd4a8",
   "metadata": {},
   "source": [
    "Чтобы вернуться назад, можно попросить питон найти \"нулевой\" байт в вашем файле и перейти на него. Но так обычно редко приходится делать."
   ]
  },
  {
   "cell_type": "code",
   "execution_count": 54,
   "id": "b958f7ad-994a-4382-b1e1-b27b2323fb0b",
   "metadata": {},
   "outputs": [
    {
     "name": "stdout",
     "output_type": "stream",
     "text": [
      "##fileformat=VCFv4.2\n",
      "##fileDate=20230207\n",
      "##source=PLINKv1.90\n",
      "\n",
      "##fileformat=VCFv4.2\n"
     ]
    }
   ],
   "source": [
    "data_dir = 'data'\n",
    "with open(os.path.join(data_dir, 'snps.vcf')) as vcf_file:\n",
    "    print(vcf_file.readline(), end='')\n",
    "    print(vcf_file.readline(), end='')\n",
    "    print(vcf_file.readline(), end='')\n",
    "    vcf_file.seek(0) # перейди на 0 байт файла\n",
    "    print()\n",
    "    print(vcf_file.readline(), end='')"
   ]
  },
  {
   "cell_type": "code",
   "execution_count": 55,
   "id": "47b61871",
   "metadata": {},
   "outputs": [
    {
     "name": "stdout",
     "output_type": "stream",
     "text": [
      "##fileformat=VCFv4.2\n",
      "##fileDate=20230207\n",
      "##source=PLINKv1.90\n",
      "\n",
      "eformat=VCFv4.2\n"
     ]
    }
   ],
   "source": [
    "data_dir = 'data'\n",
    "with open(os.path.join(data_dir, 'snps.vcf')) as vcf_file:\n",
    "    print(vcf_file.readline(), end='')\n",
    "    print(vcf_file.readline(), end='')\n",
    "    print(vcf_file.readline(), end='')\n",
    "    vcf_file.seek(5) # перейди на 0 байт файла\n",
    "    print()\n",
    "    print(vcf_file.tell()) # напечатать текущий байт\n",
    "    print(vcf_file.readline(), end='')"
   ]
  },
  {
   "cell_type": "markdown",
   "id": "033fbaed-68d8-4160-b54d-0b73830a7351",
   "metadata": {},
   "source": [
    "**Задача 1**\n",
    "\n",
    "> Напечатать самую первую строчку после комментариев в VCF-файле"
   ]
  },
  {
   "cell_type": "code",
   "execution_count": 56,
   "id": "c1d02a14-9d84-4fde-83da-19f6433199a6",
   "metadata": {
    "scrolled": true
   },
   "outputs": [
    {
     "name": "stdout",
     "output_type": "stream",
     "text": [
      "#CHROM\tPOS\tID\tREF\tALT\tQUAL\tFILTER\tINFO\tFORMAT\tFAM001_ID001\n",
      "Y\t2649694\ti4000095\tT\t.\t.\t.\tPR\tGT\t0/0\n"
     ]
    }
   ],
   "source": [
    "with open(os.path.join(data_dir, 'snps.vcf')) as vcf_file:\n",
    "    line = vcf_file.readline()\n",
    "    while line.startswith('##'):\n",
    "        line = vcf_file.readline()\n",
    "    print(line, end='')\n",
    "    print(vcf_file.readline(), end='')\n",
    "        \n",
    "    "
   ]
  },
  {
   "cell_type": "code",
   "execution_count": 57,
   "id": "a83a5fd4",
   "metadata": {},
   "outputs": [
    {
     "data": {
      "text/plain": [
       "'#CHROM\\tPOS\\tID\\tREF\\tALT\\tQUAL\\tFILTER\\tINFO\\tFORMAT\\tFAM001_ID001\\n'"
      ]
     },
     "execution_count": 57,
     "metadata": {},
     "output_type": "execute_result"
    }
   ],
   "source": [
    "line"
   ]
  },
  {
   "cell_type": "code",
   "execution_count": 58,
   "id": "61e506ce",
   "metadata": {},
   "outputs": [
    {
     "data": {
      "text/plain": [
       "'#CHROM\\tPOS\\tID\\tREF\\tALT\\tQUAL\\tFILTER\\tINFO\\tFORMAT\\tFAM001_ID001'"
      ]
     },
     "execution_count": 58,
     "metadata": {},
     "output_type": "execute_result"
    }
   ],
   "source": [
    "line.strip() # поэтому при чтении строки лучше стриповать "
   ]
  },
  {
   "cell_type": "code",
   "execution_count": 59,
   "id": "517a69c2",
   "metadata": {},
   "outputs": [
    {
     "name": "stdout",
     "output_type": "stream",
     "text": [
      "#CHROM\tPOS\tID\tREF\tALT\tQUAL\tFILTER\tINFO\tFORMAT\tFAM001_ID001\n",
      "Y\t2649694\ti4000095\tT\t.\t.\t.\tPR\tGT\t0/0\n"
     ]
    }
   ],
   "source": [
    "with open(os.path.join(data_dir, 'snps.vcf')) as vcf_file:\n",
    "    line = vcf_file.readline()\n",
    "    while line.startswith('##'):\n",
    "        line = vcf_file.readline()\n",
    "    print(line.strip())\n",
    "    print(vcf_file.readline().strip())"
   ]
  },
  {
   "cell_type": "markdown",
   "id": "0aca03b8-89a9-4281-bdf4-061cf4361c9f",
   "metadata": {},
   "source": [
    "Также можно прочитать все строки за раз, но этом может перегрузить память компьютера, будьте аккуратнее"
   ]
  },
  {
   "cell_type": "code",
   "execution_count": 60,
   "id": "7da11b92-0870-48e8-bca6-5f551d0b392a",
   "metadata": {},
   "outputs": [],
   "source": [
    "with open(os.path.join(data_dir, 'snps.vcf')) as vcf_file:\n",
    "    lines = vcf_file.readlines()"
   ]
  },
  {
   "cell_type": "code",
   "execution_count": 68,
   "id": "75f290ac",
   "metadata": {},
   "outputs": [
    {
     "name": "stdout",
     "output_type": "stream",
     "text": [
      "##fileformat=VCFv4.2\n",
      "\n",
      "##fileDate=20230207\n",
      "\n",
      "##source=PLINKv1.90\n",
      "\n",
      "##contig=<ID=1,length=249218993>\n",
      "\n",
      "##contig=<ID=2,length=243048761>\n",
      "\n",
      "##contig=<ID=3,length=197833759>\n",
      "\n",
      "##contig=<ID=4,length=190939666>\n",
      "\n",
      "##contig=<ID=5,length=180696890>\n",
      "\n",
      "##contig=<ID=6,length=170919471>\n",
      "\n",
      "##contig=<ID=7,length=159119221>\n",
      "\n",
      "##contig=<ID=8,length=146296415>\n",
      "\n",
      "##contig=<ID=9,length=141066492>\n",
      "\n",
      "##contig=<ID=10,length=135523247>\n",
      "\n",
      "##contig=<ID=11,length=134940417>\n",
      "\n",
      "##contig=<ID=12,length=133838354>\n",
      "\n",
      "##contig=<ID=13,length=115103151>\n",
      "\n",
      "##contig=<ID=14,length=107285438>\n",
      "\n",
      "##contig=<ID=15,length=102398632>\n",
      "\n",
      "##contig=<ID=16,length=90163276>\n",
      "\n",
      "##contig=<ID=17,length=81047709>\n",
      "\n",
      "##contig=<ID=18,length=78015181>\n",
      "\n",
      "##contig=<ID=19,length=59094137>\n",
      "\n",
      "##contig=<ID=20,length=62960293>\n",
      "\n",
      "##contig=<ID=21,length=48100156>\n",
      "\n",
      "##contig=<ID=22,length=51214250>\n",
      "\n",
      "##contig=<ID=Y,length=59032810>\n",
      "\n",
      "##contig=<ID=M,length=16548>\n",
      "\n",
      "##INFO=<ID=PR,Number=0,Type=Flag,Description=\"Provisional reference allele, may not be based on real reference genome\">\n",
      "\n",
      "##FORMAT=<ID=GT,Number=1,Type=String,Description=\"Genotype\">\n",
      "\n"
     ]
    }
   ],
   "source": [
    "with open(os.path.join(data_dir, 'snps.vcf')) as vcf_file:\n",
    "    for line in vcf_file.readlines():\n",
    "        if line.startswith(\"##\"):\n",
    "            print(line)"
   ]
  },
  {
   "cell_type": "code",
   "execution_count": 61,
   "id": "e3d2d845-4f74-43f6-92c9-8d148b01c79f",
   "metadata": {},
   "outputs": [
    {
     "data": {
      "text/plain": [
       "['##fileformat=VCFv4.2\\n',\n",
       " '##fileDate=20230207\\n',\n",
       " '##source=PLINKv1.90\\n',\n",
       " '##contig=<ID=1,length=249218993>\\n',\n",
       " '##contig=<ID=2,length=243048761>\\n']"
      ]
     },
     "execution_count": 61,
     "metadata": {},
     "output_type": "execute_result"
    }
   ],
   "source": [
    "lines[:5]"
   ]
  },
  {
   "cell_type": "markdown",
   "id": "0af8bc42-15ef-4767-9e2d-c788e48e4f06",
   "metadata": {},
   "source": [
    "Но так зато можно работать со строками вполне в привычном для нас режиме"
   ]
  },
  {
   "cell_type": "code",
   "execution_count": 62,
   "id": "c44bc059-be18-453a-b085-b67751e43228",
   "metadata": {},
   "outputs": [],
   "source": [
    "data = []\n",
    "for line in lines:\n",
    "    if not line.startswith('#'):\n",
    "        data.append(line)"
   ]
  },
  {
   "cell_type": "code",
   "execution_count": 69,
   "id": "5d4032b1-7e33-409e-9caa-2bac9ff04a92",
   "metadata": {},
   "outputs": [
    {
     "data": {
      "text/plain": [
       "['Y\\t2649694\\ti4000095\\tT\\t.\\t.\\t.\\tPR\\tGT\\t0/0\\n',\n",
       " 'Y\\t2649696\\ti4000093\\tN\\t.\\t.\\t.\\tPR\\tGT\\t./.\\n',\n",
       " 'Y\\t2655180\\trs11575897\\tG\\t.\\t.\\t.\\tPR\\tGT\\t0/0\\n',\n",
       " 'Y\\t2655248\\ti5004371\\tG\\t.\\t.\\t.\\tPR\\tGT\\t0/0\\n',\n",
       " 'Y\\t2655265\\ti5004367\\tT\\t.\\t.\\t.\\tPR\\tGT\\t0/0\\n',\n",
       " 'Y\\t2655308\\ti5004381\\tC\\t.\\t.\\t.\\tPR\\tGT\\t0/0\\n',\n",
       " 'Y\\t2655319\\ti5004386\\tA\\t.\\t.\\t.\\tPR\\tGT\\t0/0\\n',\n",
       " 'Y\\t2655324\\ti5004379\\tC\\t.\\t.\\t.\\tPR\\tGT\\t0/0\\n',\n",
       " 'Y\\t2655325\\ti5004380\\tC\\t.\\t.\\t.\\tPR\\tGT\\t0/0\\n',\n",
       " 'Y\\t2655328\\ti5004382\\tT\\t.\\t.\\t.\\tPR\\tGT\\t0/0\\n']"
      ]
     },
     "execution_count": 69,
     "metadata": {},
     "output_type": "execute_result"
    }
   ],
   "source": [
    "data[:10]"
   ]
  },
  {
   "cell_type": "markdown",
   "id": "3ed3e00a-7d5d-4f15-ad3c-5d43c45b88a3",
   "metadata": {},
   "source": [
    "На самом деле, **можно итерироваться сразу по файлу!**"
   ]
  },
  {
   "cell_type": "code",
   "execution_count": 70,
   "id": "e199a82a-d54d-4638-b438-13cb645086c6",
   "metadata": {},
   "outputs": [
    {
     "name": "stdout",
     "output_type": "stream",
     "text": [
      "Y\t2649694\ti4000095\tT\t.\t.\t.\tPR\tGT\t0/0\n",
      "\n"
     ]
    }
   ],
   "source": [
    "with open(os.path.join(data_dir, 'snps.vcf')) as vcf_file:\n",
    "    for line in vcf_file:\n",
    "        if not line.startswith('#'):\n",
    "            print(line)\n",
    "            break"
   ]
  },
  {
   "cell_type": "markdown",
   "id": "6ed008ed-9c1d-438d-8763-45c5ea0347d5",
   "metadata": {},
   "source": [
    "Давайте посомтрим на нашу строчку. Что нам делать с такой ерундовиной?"
   ]
  },
  {
   "cell_type": "code",
   "execution_count": 71,
   "id": "c508eed6-801d-47dc-b7da-fe934cc4bed3",
   "metadata": {},
   "outputs": [
    {
     "data": {
      "text/plain": [
       "'Y\\t2649694\\ti4000095\\tT\\t.\\t.\\t.\\tPR\\tGT\\t0/0\\n'"
      ]
     },
     "execution_count": 71,
     "metadata": {},
     "output_type": "execute_result"
    }
   ],
   "source": [
    "line # тут куча всяких технических вещей типо \\t (TAB) и \\n (перенос строки)"
   ]
  },
  {
   "cell_type": "markdown",
   "id": "3d9f4540-beba-471c-ad20-51af5bc7e788",
   "metadata": {},
   "source": [
    "Откусить символы с конца строки (по дефолту как раз \\n): "
   ]
  },
  {
   "cell_type": "code",
   "execution_count": 72,
   "id": "5b092dd3-d6d4-4b6b-afc3-562ba0522b7d",
   "metadata": {},
   "outputs": [],
   "source": [
    "line = line.strip()"
   ]
  },
  {
   "cell_type": "markdown",
   "id": "639d5381-e8c9-413e-b76b-f6b7d44ebef7",
   "metadata": {},
   "source": [
    "Разбить строку по символам"
   ]
  },
  {
   "cell_type": "code",
   "execution_count": 73,
   "id": "cdc7e40b-2c8f-40c4-baf4-6cd2c4cf7b69",
   "metadata": {},
   "outputs": [
    {
     "data": {
      "text/plain": [
       "['Y', '2649694', 'i4000095', 'T', '.', '.', '.', 'PR', 'GT', '0/0']"
      ]
     },
     "execution_count": 73,
     "metadata": {},
     "output_type": "execute_result"
    }
   ],
   "source": [
    "line.split('\\t')"
   ]
  },
  {
   "attachments": {
    "df81d8a6-8db3-4576-9788-ac770c1441e2.png": {
     "image/png": "[encoded data removed]"
    }
   },
   "cell_type": "markdown",
   "id": "7c094e30-ed09-41d4-a840-c06dcb8fdfdb",
   "metadata": {},
   "source": [
    "**Задача 2**\n",
    "\n",
    "> Из комментариев в VCF-файле достать названия хромосом (ID) и их длины\n",
    "\n",
    "![image.png](attachment:df81d8a6-8db3-4576-9788-ac770c1441e2.png)"
   ]
  },
  {
   "cell_type": "code",
   "execution_count": 74,
   "id": "b4efad24-883b-4fc7-9638-2a7f2c64a8ea",
   "metadata": {},
   "outputs": [],
   "source": [
    "with open(os.path.join(data_dir, 'snps.vcf')) as vcf_file:\n",
    "    lines = []\n",
    "    for line in vcf_file:\n",
    "        if line.startswith('##contig='):\n",
    "            line = line.strip('>\\n')\n",
    "            line = line.replace('##contig=<ID=', '')\n",
    "            line = line.split(',length=')\n",
    "            lines.append(line)\n"
   ]
  },
  {
   "cell_type": "code",
   "execution_count": 75,
   "id": "3d41bcb1-7eb7-49f9-9f66-4bdf312b5668",
   "metadata": {},
   "outputs": [
    {
     "data": {
      "text/plain": [
       "[['1', '249218993'],\n",
       " ['2', '243048761'],\n",
       " ['3', '197833759'],\n",
       " ['4', '190939666'],\n",
       " ['5', '180696890'],\n",
       " ['6', '170919471'],\n",
       " ['7', '159119221'],\n",
       " ['8', '146296415'],\n",
       " ['9', '141066492'],\n",
       " ['10', '135523247'],\n",
       " ['11', '134940417'],\n",
       " ['12', '133838354'],\n",
       " ['13', '115103151'],\n",
       " ['14', '107285438'],\n",
       " ['15', '102398632'],\n",
       " ['16', '90163276'],\n",
       " ['17', '81047709'],\n",
       " ['18', '78015181'],\n",
       " ['19', '59094137'],\n",
       " ['20', '62960293'],\n",
       " ['21', '48100156'],\n",
       " ['22', '51214250'],\n",
       " ['Y', '59032810'],\n",
       " ['M', '16548']]"
      ]
     },
     "execution_count": 75,
     "metadata": {},
     "output_type": "execute_result"
    }
   ],
   "source": [
    "lines"
   ]
  },
  {
   "cell_type": "markdown",
   "id": "24552bbc-32a0-4d00-a58d-679171911ea8",
   "metadata": {},
   "source": [
    "### Режимы работы с файлами\n",
    "- r - чтение (по-умолчанию)\n",
    "- w - запись\n",
    "- a - дозапись\n",
    "- b - бинарные файлы\n",
    "\n",
    "Можно комбинировать типо `mode='rb'`\n",
    "\n",
    "\n",
    "Читаем файлы:"
   ]
  },
  {
   "cell_type": "code",
   "execution_count": 76,
   "id": "96cf66e7-16a9-40e6-bfb7-38164743ffbe",
   "metadata": {},
   "outputs": [],
   "source": [
    "with open(os.path.join(data_dir, 'snps.vcf'), mode='r') as vcf_file:\n",
    "    pass # "
   ]
  },
  {
   "cell_type": "markdown",
   "id": "b6328ea2-1f23-499b-ac86-fc6c4e8e77e1",
   "metadata": {},
   "source": [
    "Записываем что-то в файлы\n",
    "\n",
    "Есть только метод write, он принимает строчку которую надо записать.\n",
    "Если хотите записывать несколько строк, надо вручную добавлять `\\n`."
   ]
  },
  {
   "cell_type": "code",
   "execution_count": 77,
   "id": "8f654ba8-ff88-449a-a94b-e009f25f0091",
   "metadata": {},
   "outputs": [],
   "source": [
    "with open(os.path.join(data_dir, 'text.txt'), mode='w') as file:\n",
    "    for text in ('a', 'b', 'c'):\n",
    "        file.write(text + '\\n')"
   ]
  },
  {
   "cell_type": "code",
   "execution_count": null,
   "id": "154ad5db",
   "metadata": {},
   "outputs": [],
   "source": []
  },
  {
   "cell_type": "markdown",
   "id": "46a851c6-9626-4a0a-9605-a0f5b333056e",
   "metadata": {},
   "source": [
    "Для работы с сжатыми файлами есть специальные средства, например, `gzip`"
   ]
  },
  {
   "cell_type": "code",
   "execution_count": 78,
   "id": "2f2a35dd-75a9-40fe-ba75-384e531432a3",
   "metadata": {},
   "outputs": [
    {
     "data": {
      "text/plain": [
       "b'\\x1f\\x8b\\x08\\x00\\xbeQ\\xe0h\\x02\\xffsttt\\x04\\x00\\xf1\\x08\\r\\x9b\\x04\\x00\\x00\\x00'"
      ]
     },
     "execution_count": 78,
     "metadata": {},
     "output_type": "execute_result"
    }
   ],
   "source": [
    "import gzip\n",
    "gzip.compress(b'AAAA') # ASCII"
   ]
  },
  {
   "cell_type": "code",
   "execution_count": 79,
   "id": "ae1c80f1-cde0-462f-889a-fa542690b9d0",
   "metadata": {},
   "outputs": [],
   "source": [
    "with gzip.open(os.path.join(data_dir, 'text.txt'), mode='w') as file:\n",
    "    file.write(gzip.compress(b'AAAA'))"
   ]
  },
  {
   "cell_type": "code",
   "execution_count": 80,
   "id": "6a4a5546-4601-42ea-a17b-5830e14397f0",
   "metadata": {},
   "outputs": [
    {
     "name": "stdout",
     "output_type": "stream",
     "text": [
      "b'AAAA'\n"
     ]
    }
   ],
   "source": [
    "with gzip.open(os.path.join(data_dir, 'text.txt')) as file:\n",
    "    print(gzip.decompress(file.read()))"
   ]
  },
  {
   "cell_type": "code",
   "execution_count": null,
   "id": "b29b1912-3566-44b3-8966-17941e84b82d",
   "metadata": {},
   "outputs": [],
   "source": []
  }
 ],
 "metadata": {
  "kernelspec": {
   "display_name": "Kulakova env",
   "language": "python",
   "name": "kulakova_env"
  },
  "language_info": {
   "codemirror_mode": {
    "name": "ipython",
    "version": 3
   },
   "file_extension": ".py",
   "mimetype": "text/x-python",
   "name": "python",
   "nbconvert_exporter": "python",
   "pygments_lexer": "ipython3",
   "version": "3.11.7"
  }
 },
 "nbformat": 4,
 "nbformat_minor": 5
}
